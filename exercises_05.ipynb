{
 "cells": [
  {
   "cell_type": "code",
   "execution_count": 1,
   "metadata": {},
   "outputs": [],
   "source": [
    "from icecream import ic\n",
    "import matplotlib.pyplot as plt\n",
    "# venv/Scripts/Activate.ps1"
   ]
  },
  {
   "cell_type": "markdown",
   "metadata": {},
   "source": [
    "---"
   ]
  },
  {
   "cell_type": "markdown",
   "metadata": {},
   "source": [
    "# Boys to Girls proportion simulation\n",
    "\n",
    "In a country where everyone wants a boy, each family continues having babies till they have a boy.\n",
    "After a long time, what is the proportion of boys to girls in the country? (Assuming probability of having a boy or a girl is the same)\n",
    "\n",
    "Round off your answer to two decimal places and output the answer as I.xx where I is the integer part of your answer, and xx is the first two decimal places of the rounded-off answer."
   ]
  },
  {
   "cell_type": "code",
   "execution_count": 2,
   "metadata": {},
   "outputs": [],
   "source": [
    "import random\n",
    "\n",
    "# every time a couple have a child there is a 50/50 chance of borning male or female, so in theory it will alway be aproximately the same proportion.\n",
    "# we will allways have the same number of male births, so we are going to return the proportion.\n",
    "\n",
    "def simulation(couples):\n",
    "    female = 0\n",
    "    male = 0\n",
    "\n",
    "    for i in range(couples):\n",
    "        while True:\n",
    "            sex = random.randint(0, 1)\n",
    "            if sex == 0:\n",
    "                female += 1\n",
    "            else:\n",
    "                male += 1\n",
    "                break\n",
    "    proportion = female / male / 2\n",
    "    return proportion"
   ]
  },
  {
   "cell_type": "code",
   "execution_count": 3,
   "metadata": {},
   "outputs": [
    {
     "data": {
      "image/png": "[encoded data removed]",
      "text/plain": [
       "<Figure size 640x480 with 1 Axes>"
      ]
     },
     "metadata": {},
     "output_type": "display_data"
    }
   ],
   "source": [
    "# we are going to obtain a number of results and plot them\n",
    "\n",
    "couples = 100\n",
    "simulations = 10000\n",
    "results = []\n",
    "\n",
    "for s in range(simulations):\n",
    "    results.append(simulation(couples))\n",
    "\n",
    "import matplotlib.pyplot as plt\n",
    "\n",
    "plt.hist(bins=30 , x=results, range=[0, 1])\n",
    "plt.show() "
   ]
  },
  {
   "cell_type": "markdown",
   "metadata": {},
   "source": [
    "---"
   ]
  },
  {
   "cell_type": "markdown",
   "metadata": {},
   "source": [
    "# Human Readable Time - [LINK](https://www.codewars.com/kata/52685f7382004e774f0001f7)\n",
    "\n",
    "Write a function, which takes a non-negative integer (seconds) as input and returns the time in a human-readable format (HH:MM:SS)\n",
    "\n",
    "`HH = hours, padded to 2 digits, range: 00 - 99`\n",
    "\n",
    "`MM = minutes, padded to 2 digits, range: 00 - 59`\n",
    "\n",
    "`SS = seconds, padded to 2 digits, range: 00 - 59`\n",
    "\n",
    "The maximum time never exceeds 359999 (99:59:59)\n",
    "\n",
    "You can find some examples in the test fixtures."
   ]
  },
  {
   "cell_type": "code",
   "execution_count": 4,
   "metadata": {},
   "outputs": [],
   "source": [
    "def make_readable(seconds):\n",
    "    hours = seconds // 3600\n",
    "    if hours < 10:\n",
    "        hours_str = f\"0{hours}\"\n",
    "    else:\n",
    "        hours_str = str(hours)\n",
    "\n",
    "    s_left = (seconds % 3600)\n",
    "\n",
    "    minutes = s_left // 60\n",
    "    if minutes < 10:\n",
    "        minutes_str = f\"0{minutes}\"\n",
    "    else:\n",
    "        minutes_str = str(minutes)\n",
    "\n",
    "    s_left = s_left % 60\n",
    "    if s_left < 10:\n",
    "        s_left_str = f\"0{s_left}\"\n",
    "    else:\n",
    "        s_left_str = str(s_left)\n",
    "\n",
    "    hour = f\"{hours_str}:{minutes_str}:{s_left_str}\"\n",
    "\n",
    "    return hour"
   ]
  },
  {
   "cell_type": "code",
   "execution_count": 5,
   "metadata": {},
   "outputs": [
    {
     "name": "stderr",
     "output_type": "stream",
     "text": [
      "ic| time: '00:00:00'\n",
      "ic| answer: '00:00:00'\n",
      "ic| answer == time: True\n"
     ]
    },
    {
     "data": {
      "text/plain": [
       "True"
      ]
     },
     "execution_count": 5,
     "metadata": {},
     "output_type": "execute_result"
    }
   ],
   "source": [
    "time = make_readable(0)\n",
    "answer = \"00:00:00\"\n",
    "ic(time)\n",
    "ic(answer)\n",
    "ic(answer == time)"
   ]
  },
  {
   "cell_type": "code",
   "execution_count": 6,
   "metadata": {},
   "outputs": [
    {
     "name": "stderr",
     "output_type": "stream",
     "text": [
      "ic| time: '00:00:05'\n",
      "ic| answer: '00:00:05'\n",
      "ic| answer == time: True\n"
     ]
    },
    {
     "data": {
      "text/plain": [
       "True"
      ]
     },
     "execution_count": 6,
     "metadata": {},
     "output_type": "execute_result"
    }
   ],
   "source": [
    "time = make_readable(5)\n",
    "answer = \"00:00:05\"\n",
    "ic(time)\n",
    "ic(answer)\n",
    "ic(answer == time)"
   ]
  },
  {
   "cell_type": "code",
   "execution_count": 7,
   "metadata": {},
   "outputs": [
    {
     "name": "stderr",
     "output_type": "stream",
     "text": [
      "ic| time: '00:01:00'\n",
      "ic| answer: '00:01:00'\n",
      "ic| answer == time: True\n"
     ]
    },
    {
     "data": {
      "text/plain": [
       "True"
      ]
     },
     "execution_count": 7,
     "metadata": {},
     "output_type": "execute_result"
    }
   ],
   "source": [
    "time = make_readable(60)\n",
    "answer = \"00:01:00\"\n",
    "ic(time)\n",
    "ic(answer)\n",
    "ic(answer == time)"
   ]
  },
  {
   "cell_type": "code",
   "execution_count": 8,
   "metadata": {},
   "outputs": [
    {
     "name": "stderr",
     "output_type": "stream",
     "text": [
      "ic| time: '23:59:59'\n",
      "ic| answer: '23:59:59'\n",
      "ic| answer == time: True\n"
     ]
    },
    {
     "data": {
      "text/plain": [
       "True"
      ]
     },
     "execution_count": 8,
     "metadata": {},
     "output_type": "execute_result"
    }
   ],
   "source": [
    "time = make_readable(86399)\n",
    "answer = \"23:59:59\"\n",
    "ic(time)\n",
    "ic(answer)\n",
    "ic(answer == time)"
   ]
  },
  {
   "cell_type": "code",
   "execution_count": 9,
   "metadata": {},
   "outputs": [
    {
     "name": "stderr",
     "output_type": "stream",
     "text": [
      "ic| time: '99:59:59'\n",
      "ic| answer: '99:59:59'\n",
      "ic| answer == time: True\n"
     ]
    },
    {
     "data": {
      "text/plain": [
       "True"
      ]
     },
     "execution_count": 9,
     "metadata": {},
     "output_type": "execute_result"
    }
   ],
   "source": [
    "time = make_readable(359999)\n",
    "answer = \"99:59:59\"\n",
    "ic(time)\n",
    "ic(answer)\n",
    "ic(answer == time)"
   ]
  },
  {
   "cell_type": "markdown",
   "metadata": {},
   "source": [
    "---"
   ]
  },
  {
   "cell_type": "markdown",
   "metadata": {},
   "source": [
    "# Playing with digits - [LINK](https://www.codewars.com/kata/5552101f47fc5178b1000050)\n",
    "\n",
    "Some numbers have funny properties.\n",
    "\n",
    "For example:\n",
    "\n",
    "`89 --> 8¹ + 9² = 89 * 1`\n",
    "\n",
    "`695 --> 6² + 9³ + 5⁴= 1390 = 695 * 2`\n",
    "\n",
    "`46288 --> 4³ + 6⁴+ 2⁵ + 8⁶ + 8⁷ = 2360688 = 46288 * 51`\n",
    "\n",
    "Given a positive integer `n` written as `abcd...` (a, b, c, d... being digits) and a positive integer `p`\n",
    "\n",
    "we want to find a positive integer `k`, if it exists, such that the sum of the digits of `n` taken to the successive powers of `p` is equal to `k * n`.\n",
    "\n",
    "In other words:\n",
    "\n",
    "Is there an integer k such as : `(a ^ p + b ^ (p+1) + c ^(p+2) + d ^ (p+3) + ...) = n * k`\n",
    "\n",
    "If it is the case we will return `k`, if not return `-1`.\n",
    "\n",
    "Note: `n` and `p` will always be given as strictly positive integers."
   ]
  },
  {
   "cell_type": "raw",
   "metadata": {},
   "source": [
    "dig_pow(89, 1) should return 1 since 8¹ + 9² = 89 = 89 * 1\n",
    "dig_pow(92, 1) should return -1 since there is no k such as 9¹ + 2² equals 92 * k\n",
    "dig_pow(695, 2) should return 2 since 6² + 9³ + 5⁴= 1390 = 695 * 2\n",
    "dig_pow(46288, 3) should return 51 since 4³ + 6⁴+ 2⁵ + 8⁶ + 8⁷ = 2360688 = 46288 * 51"
   ]
  },
  {
   "cell_type": "code",
   "execution_count": 10,
   "metadata": {},
   "outputs": [],
   "source": [
    "def dig_pow(n, p):\n",
    "    n_list = list(str(n))\n",
    "    int_list = []\n",
    "\n",
    "    for num in n_list:\n",
    "        int_list.append(int(num)**p)\n",
    "        p += 1\n",
    "\n",
    "    int_sum = sum(int_list)\n",
    "\n",
    "    if int_sum % n == 0:\n",
    "        return int_sum // n\n",
    "    else:\n",
    "        return -1"
   ]
  },
  {
   "cell_type": "code",
   "execution_count": 11,
   "metadata": {},
   "outputs": [
    {
     "name": "stdout",
     "output_type": "stream",
     "text": [
      "1\n",
      "1\n",
      "True\n"
     ]
    }
   ],
   "source": [
    "dig_p = dig_pow(89, 1)\n",
    "answer = 1\n",
    "\n",
    "print(dig_p)\n",
    "print(answer)\n",
    "print(dig_p == answer)"
   ]
  },
  {
   "cell_type": "code",
   "execution_count": 12,
   "metadata": {},
   "outputs": [
    {
     "name": "stdout",
     "output_type": "stream",
     "text": [
      "-1\n",
      "-1\n",
      "True\n"
     ]
    }
   ],
   "source": [
    "dig_p = dig_pow(92, 1)\n",
    "answer = -1\n",
    "\n",
    "print(dig_p)\n",
    "print(answer)\n",
    "print(dig_p == answer)"
   ]
  },
  {
   "cell_type": "code",
   "execution_count": 13,
   "metadata": {},
   "outputs": [
    {
     "name": "stdout",
     "output_type": "stream",
     "text": [
      "2\n",
      "2\n",
      "True\n"
     ]
    }
   ],
   "source": [
    "dig_p = dig_pow(695, 2)\n",
    "answer = 2\n",
    "\n",
    "print(dig_p)\n",
    "print(answer)\n",
    "print(dig_p == answer)"
   ]
  },
  {
   "cell_type": "code",
   "execution_count": 14,
   "metadata": {},
   "outputs": [
    {
     "name": "stdout",
     "output_type": "stream",
     "text": [
      "51\n",
      "51\n",
      "True\n"
     ]
    }
   ],
   "source": [
    "dig_p = dig_pow(46288, 3)\n",
    "answer = 51\n",
    "\n",
    "print(dig_p)\n",
    "print(answer)\n",
    "print(dig_p == answer)"
   ]
  },
  {
   "cell_type": "markdown",
   "metadata": {},
   "source": [
    "---"
   ]
  },
  {
   "cell_type": "markdown",
   "metadata": {},
   "source": [
    "# Reverse Words - [LINK](https://www.codewars.com/kata/5259b20d6021e9e14c0010d4)\n",
    "\n",
    "Complete the function that accepts a string parameter, and reverses each word in the string. All spaces in the string should be retained.\n",
    "\n",
    "Examples:\n",
    "\n",
    "`\"This is an example!\" ==> \"sihT si na !elpmaxe\"`\n",
    "\n",
    "`\"double  spaces\"      ==> \"elbuod  secaps\"`"
   ]
  },
  {
   "cell_type": "code",
   "execution_count": 15,
   "metadata": {},
   "outputs": [],
   "source": [
    "def reverse_words(text):\n",
    "    text_list = text.split(\" \")\n",
    "    inverted = [x[::-1] for x in text_list]\n",
    "    string = \" \".join(inverted)\n",
    "    return string"
   ]
  },
  {
   "cell_type": "code",
   "execution_count": 16,
   "metadata": {},
   "outputs": [
    {
     "data": {
      "text/plain": [
       "'sihT si na !elpmaxe'"
      ]
     },
     "execution_count": 16,
     "metadata": {},
     "output_type": "execute_result"
    }
   ],
   "source": [
    "text_1 = \"This is an example!\"\n",
    "\n",
    "reverse_words(text_1)"
   ]
  },
  {
   "cell_type": "code",
   "execution_count": 17,
   "metadata": {},
   "outputs": [
    {
     "data": {
      "text/plain": [
       "'elbuod  secaps'"
      ]
     },
     "execution_count": 17,
     "metadata": {},
     "output_type": "execute_result"
    }
   ],
   "source": [
    "text_2 = \"double  spaces\"\n",
    "\n",
    "reverse_words(text_2)"
   ]
  }
 ],
 "metadata": {
  "kernelspec": {
   "display_name": "venv",
   "language": "python",
   "name": "python3"
  },
  "language_info": {
   "codemirror_mode": {
    "name": "ipython",
    "version": 3
   },
   "file_extension": ".py",
   "mimetype": "text/x-python",
   "name": "python",
   "nbconvert_exporter": "python",
   "pygments_lexer": "ipython3",
   "version": "3.11.3"
  }
 },
 "nbformat": 4,
 "nbformat_minor": 2
}
