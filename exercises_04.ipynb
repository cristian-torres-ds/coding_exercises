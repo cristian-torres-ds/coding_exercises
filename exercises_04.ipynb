{
 "cells": [
  {
   "cell_type": "code",
   "execution_count": 1,
   "metadata": {},
   "outputs": [],
   "source": [
    "from icecream import ic\n",
    "# ic.enable()\n",
    "# ic.disable()\n",
    "# venv/Scripts/Activate.ps1"
   ]
  },
  {
   "cell_type": "markdown",
   "metadata": {},
   "source": [
    "# Simple Pig Latin - [LINK](https://www.codewars.com/kata/520b9d2ad5c005041100000f)\n",
    "\n",
    "Move the first letter of each word to the end of it, then add \"ay\" to the end of the word. Leave punctuation marks untouched.\n",
    "\n",
    "Examples\n",
    "\n",
    "`pig_it('Pig latin is cool') # igPay atinlay siay oolcay`\n",
    "\n",
    "`pig_it('Hello world !')     # elloHay orldway !`"
   ]
  },
  {
   "cell_type": "code",
   "execution_count": 2,
   "metadata": {},
   "outputs": [],
   "source": [
    "def pig_it(text):\n",
    "    sentence_list = text.split()\n",
    "    alphabet = 'abcdefghijklmnopqrstuvwxyz'\n",
    "    for i, word in enumerate(sentence_list):\n",
    "        if word[0].lower() in alphabet:\n",
    "            word_list = list(word)\n",
    "            word_list.append(word_list.pop(0))\n",
    "            word_m = \"\".join(word_list)\n",
    "            sentence_list[i] = word_m + 'ay'\n",
    "        else:\n",
    "            sentence_list[i] == word\n",
    "    sentence = \" \".join(sentence_list)\n",
    "    return sentence"
   ]
  },
  {
   "cell_type": "code",
   "execution_count": 3,
   "metadata": {},
   "outputs": [
    {
     "name": "stdout",
     "output_type": "stream",
     "text": [
      "Hello world !\n",
      "elloHay orldway !\n",
      "elloHay orldway !\n",
      "True\n"
     ]
    }
   ],
   "source": [
    "string = 'Hello world !'\n",
    "answer = 'elloHay orldway !'\n",
    "print(string)\n",
    "print(pig_it(string))\n",
    "print(answer)\n",
    "print(pig_it(string) == answer)"
   ]
  },
  {
   "cell_type": "code",
   "execution_count": 4,
   "metadata": {},
   "outputs": [
    {
     "name": "stdout",
     "output_type": "stream",
     "text": [
      "This is my string\n",
      "hisTay siay ymay tringsay\n",
      "hisTay siay ymay tringsay\n",
      "True\n"
     ]
    }
   ],
   "source": [
    "string = 'This is my string'\n",
    "answer = 'hisTay siay ymay tringsay'\n",
    "print(string)\n",
    "print(pig_it(string))\n",
    "print(answer)\n",
    "print(pig_it(string) == answer)"
   ]
  },
  {
   "cell_type": "code",
   "execution_count": 5,
   "metadata": {},
   "outputs": [
    {
     "name": "stdout",
     "output_type": "stream",
     "text": [
      "Pig latin is cool\n",
      "igPay atinlay siay oolcay\n",
      "igPay atinlay siay oolcay\n",
      "True\n"
     ]
    }
   ],
   "source": [
    "string = 'Pig latin is cool'\n",
    "answer = 'igPay atinlay siay oolcay'\n",
    "print(string)\n",
    "print(pig_it(string))\n",
    "print(answer)\n",
    "print(pig_it(string) == answer)"
   ]
  },
  {
   "cell_type": "markdown",
   "metadata": {},
   "source": [
    "An interesting solution, because the method `.isalpha()` is used to check if you have a word or another character."
   ]
  },
  {
   "cell_type": "code",
   "execution_count": 6,
   "metadata": {},
   "outputs": [],
   "source": [
    "def pig_it(text):\n",
    "    lst = text.split()\n",
    "    return ' '.join( [word[1:] + word[:1] + 'ay' if word.isalpha() else word for word in lst])"
   ]
  },
  {
   "cell_type": "markdown",
   "metadata": {},
   "source": [
    "---"
   ]
  },
  {
   "cell_type": "markdown",
   "metadata": {},
   "source": [
    "# Your order, please - [LINK](https://www.codewars.com/kata/55c45be3b2079eccff00010f)\n",
    "\n",
    "Your task is to sort a given string. Each word in the string will contain a single number. This number is the position the word should have in the result.\n",
    "\n",
    "Note: Numbers can be from 1 to 9. So 1 will be the first word (not 0).\n",
    "\n",
    "If the input string is empty, return an empty string. The words in the input String will only contain valid consecutive numbers.\n",
    "\n",
    "Examples:\n",
    "\n",
    "`\"is2 Thi1s T4est 3a\"`  -->  `\"Thi1s is2 3a T4est\"`\n",
    "\n",
    "`\"4of Fo1r pe6ople g3ood th5e the2\"`  -->  `\"Fo1r the2 g3ood 4of th5e pe6ople\"`\n",
    "\n",
    "`\"\"`  -->  `\"\"`"
   ]
  },
  {
   "cell_type": "code",
   "execution_count": 7,
   "metadata": {},
   "outputs": [],
   "source": [
    "def order(sentence):\n",
    "    sent_list = sentence.split()\n",
    "    largo = len(sent_list)\n",
    "    ordered_list = []\n",
    "\n",
    "    for i, w in enumerate(sent_list):\n",
    "        for x in sent_list:\n",
    "            if str(i+1) in x:\n",
    "                 ordered_list.append(x)\n",
    "                 break\n",
    "\n",
    "    ordered_sentence = \" \".join(ordered_list)\n",
    "\n",
    "    return ordered_sentence"
   ]
  },
  {
   "cell_type": "code",
   "execution_count": 8,
   "metadata": {},
   "outputs": [
    {
     "data": {
      "text/plain": [
       "'Thi1s is2 3a T4est'"
      ]
     },
     "execution_count": 8,
     "metadata": {},
     "output_type": "execute_result"
    }
   ],
   "source": [
    "sen = \"is2 Thi1s T4est 3a\"\n",
    "\n",
    "order(sen)"
   ]
  },
  {
   "cell_type": "markdown",
   "metadata": {},
   "source": [
    "---"
   ]
  },
  {
   "cell_type": "markdown",
   "metadata": {},
   "source": [
    "# Calculate BMI - [LINK](https://www.codewars.com/kata/57a429e253ba3381850000fb)\n",
    "\n",
    "Write function bmi that calculates body mass index (bmi = weight / height2).\n",
    "\n",
    "if bmi <= 18.5 return \"Underweight\"\n",
    "\n",
    "if bmi <= 25.0 return \"Normal\"\n",
    "\n",
    "if bmi <= 30.0 return \"Overweight\"\n",
    "\n",
    "if bmi > 30 return \"Obese\""
   ]
  },
  {
   "cell_type": "code",
   "execution_count": 9,
   "metadata": {},
   "outputs": [],
   "source": [
    "def bmi(weight, height):\n",
    "    bmi = weight / height ** 2\n",
    "    if bmi <= 18.5:\n",
    "        return \"Underweight\"\n",
    "    elif bmi <= 25:\n",
    "        return \"Normal\"\n",
    "    elif bmi <= 30:\n",
    "        return \"Overweight\"\n",
    "    else:\n",
    "        return \"Obese\""
   ]
  },
  {
   "cell_type": "code",
   "execution_count": 10,
   "metadata": {},
   "outputs": [
    {
     "data": {
      "text/plain": [
       "'Underweight'"
      ]
     },
     "execution_count": 10,
     "metadata": {},
     "output_type": "execute_result"
    }
   ],
   "source": [
    "bmi(50, 1.80)\n",
    "# \"Underweight\""
   ]
  },
  {
   "cell_type": "code",
   "execution_count": 11,
   "metadata": {},
   "outputs": [
    {
     "data": {
      "text/plain": [
       "'Normal'"
      ]
     },
     "execution_count": 11,
     "metadata": {},
     "output_type": "execute_result"
    }
   ],
   "source": [
    "bmi(80, 1.80)\n",
    "# \"Normal\""
   ]
  },
  {
   "cell_type": "code",
   "execution_count": 12,
   "metadata": {},
   "outputs": [
    {
     "data": {
      "text/plain": [
       "'Overweight'"
      ]
     },
     "execution_count": 12,
     "metadata": {},
     "output_type": "execute_result"
    }
   ],
   "source": [
    "bmi(90, 1.80)\n",
    "# \"Overweight\""
   ]
  },
  {
   "cell_type": "code",
   "execution_count": 13,
   "metadata": {},
   "outputs": [
    {
     "data": {
      "text/plain": [
       "'Obese'"
      ]
     },
     "execution_count": 13,
     "metadata": {},
     "output_type": "execute_result"
    }
   ],
   "source": [
    "bmi(110, 1.80)\n",
    "# \"Obese\""
   ]
  },
  {
   "cell_type": "code",
   "execution_count": 14,
   "metadata": {},
   "outputs": [
    {
     "data": {
      "text/plain": [
       "'Normal'"
      ]
     },
     "execution_count": 14,
     "metadata": {},
     "output_type": "execute_result"
    }
   ],
   "source": [
    "bmi(50, 1.50)\n",
    "# \"Normal\""
   ]
  },
  {
   "cell_type": "markdown",
   "metadata": {},
   "source": [
    "---"
   ]
  },
  {
   "cell_type": "markdown",
   "metadata": {},
   "source": [
    "# Find The Parity Outlier - [LINK](https://www.codewars.com/kata/5526fc09a1bbd946250002dc)\n",
    "\n",
    "You are given an array (which will have a length of at least 3, but could be very large) containing integers. The array is either entirely comprised of odd integers or entirely comprised of even integers except for a single integer N. Write a method that takes the array as an argument and returns this \"outlier\" N.\n",
    "\n",
    "Examples\n",
    "\n",
    "`[2, 4, 0, 100, 4, 11, 2602, 36]` -->  11 (the only odd number)\n",
    "\n",
    "`[160, 3, 1719, 19, 11, 13, -21]` --> 160 (the only even number)"
   ]
  },
  {
   "cell_type": "code",
   "execution_count": 15,
   "metadata": {},
   "outputs": [],
   "source": [
    "def find_outlier(integers):\n",
    "    even = 0\n",
    "    for i in integers[0:3]:\n",
    "        if i % 2 == 0:\n",
    "            even += 1\n",
    "    if even > 1:\n",
    "        for i in integers:\n",
    "            if i % 2 != 0:\n",
    "                return i\n",
    "    else:\n",
    "        for i in integers:\n",
    "            if i % 2 == 0:\n",
    "                return i"
   ]
  },
  {
   "cell_type": "code",
   "execution_count": 16,
   "metadata": {},
   "outputs": [
    {
     "data": {
      "text/plain": [
       "11"
      ]
     },
     "execution_count": 16,
     "metadata": {},
     "output_type": "execute_result"
    }
   ],
   "source": [
    "numbers_1 = [2, 4, 0, 100, 4, 11, 2602, 36]\n",
    "\n",
    "find_outlier(numbers_1)"
   ]
  },
  {
   "cell_type": "code",
   "execution_count": 17,
   "metadata": {},
   "outputs": [
    {
     "data": {
      "text/plain": [
       "160"
      ]
     },
     "execution_count": 17,
     "metadata": {},
     "output_type": "execute_result"
    }
   ],
   "source": [
    "numbers_2 = [160, 3, 1719, 19, 11, 13, -21]\n",
    "\n",
    "find_outlier(numbers_2)"
   ]
  },
  {
   "cell_type": "markdown",
   "metadata": {},
   "source": [
    "---"
   ]
  },
  {
   "cell_type": "markdown",
   "metadata": {},
   "source": [
    "# Reversed Words - [LINK](https://www.codewars.com/kata/51c8991dee245d7ddf00000e)\n",
    "\n",
    "Complete the solution so that it reverses all of the words within the string passed in.\n",
    "\n",
    "Words are separated by exactly one space and there are no leading or trailing spaces.\n",
    "\n",
    "Example(Input --> Output):\n",
    "\n",
    "`\"The greatest victory is that which requires no battle\"` --> `\"battle no requires which that is victory greatest The\"`"
   ]
  },
  {
   "cell_type": "code",
   "execution_count": 18,
   "metadata": {},
   "outputs": [],
   "source": [
    "def reverse_words(s):\n",
    "    words_list = s.split()\n",
    "    reversed_list = words_list[::-1]\n",
    "    reversed_sentece = \" \".join(reversed_list)\n",
    "    return reversed_sentece"
   ]
  },
  {
   "cell_type": "code",
   "execution_count": 19,
   "metadata": {},
   "outputs": [
    {
     "data": {
      "text/plain": [
       "'battle no requires which that is victory greatest The'"
      ]
     },
     "execution_count": 19,
     "metadata": {},
     "output_type": "execute_result"
    }
   ],
   "source": [
    "sentence = \"The greatest victory is that which requires no battle\"\n",
    "\n",
    "reverse_words(sentence)"
   ]
  },
  {
   "cell_type": "markdown",
   "metadata": {},
   "source": [
    "---"
   ]
  },
  {
   "cell_type": "markdown",
   "metadata": {},
   "source": [
    "# Growth of a Population - [LINK](https://www.codewars.com/kata/563b662a59afc2b5120000c6)\n",
    "\n",
    "In a small town the population is p0 = 1000 at the beginning of a year. The population regularly increases by 2 percent per year and moreover 50 new inhabitants per year come to live in the town. How many years does the town need to see its population greater or equal to p = 1200 inhabitants?\n",
    "\n",
    "At the end of the first year there will be:\n",
    "\n",
    "`1000 + 1000 * 0.02 + 50 => 1070 inhabitants`\n",
    "\n",
    "At the end of the 2nd year there will be:\n",
    "\n",
    "`1070 + 1070 * 0.02 + 50 => 1141 inhabitants` (** number of inhabitants is an integer **)\n",
    "\n",
    "At the end of the 3rd year there will be:\n",
    "\n",
    "`1141 + 1141 * 0.02 + 50 => 1213`\n",
    "\n",
    "It will need 3 entire years.\n",
    "\n",
    "More generally given parameters:\n",
    "\n",
    "p0, percent, aug (inhabitants coming or leaving each year), p (population to equal or surpass)\n",
    "\n",
    "the function nb_year should return n number of entire years needed to get a population greater or equal to p.\n",
    "\n",
    "aug is an integer, percent a positive or null floating number, p0 and p are positive integers (> 0)\n",
    "\n",
    "Examples:\n",
    "\n",
    "`nb_year(1500, 5, 100, 5000) -> 15`\n",
    "\n",
    "`nb_year(1500000, 2.5, 10000, 2000000) -> 10`\n",
    "\n",
    "Note:\n",
    "\n",
    "Don't forget to convert the percent parameter as a percentage in the body of your function: if the parameter percent is 2 you have to convert it to 0.02."
   ]
  },
  {
   "cell_type": "code",
   "execution_count": 20,
   "metadata": {},
   "outputs": [],
   "source": [
    "def nb_year(p0, percent, aug, p):\n",
    "    years = 0\n",
    "    while p0 < p:\n",
    "        p0 = p0 + (p0 * percent / 100) // 1 + aug\n",
    "        years += 1\n",
    "    return years"
   ]
  },
  {
   "cell_type": "code",
   "execution_count": 21,
   "metadata": {},
   "outputs": [
    {
     "data": {
      "text/plain": [
       "3"
      ]
     },
     "execution_count": 21,
     "metadata": {},
     "output_type": "execute_result"
    }
   ],
   "source": [
    "nb_year(1000, 2, 50, 1200)\n",
    "# result = 3"
   ]
  },
  {
   "cell_type": "code",
   "execution_count": 22,
   "metadata": {},
   "outputs": [
    {
     "data": {
      "text/plain": [
       "15"
      ]
     },
     "execution_count": 22,
     "metadata": {},
     "output_type": "execute_result"
    }
   ],
   "source": [
    "nb_year(1500, 5, 100, 5000)\n",
    "# result = 15"
   ]
  },
  {
   "cell_type": "code",
   "execution_count": 23,
   "metadata": {},
   "outputs": [
    {
     "data": {
      "text/plain": [
       "10"
      ]
     },
     "execution_count": 23,
     "metadata": {},
     "output_type": "execute_result"
    }
   ],
   "source": [
    "nb_year(1500000, 2.5, 10000, 2000000)\n",
    "# result = 10"
   ]
  },
  {
   "cell_type": "markdown",
   "metadata": {},
   "source": [
    "---"
   ]
  },
  {
   "cell_type": "markdown",
   "metadata": {},
   "source": [
    "# Beginner Series #1 School Paperwork - [LINK](https://www.codewars.com/kata/55f9b48403f6b87a7c0000bd)\n",
    "\n",
    "Your classmates asked you to copy some paperwork for them. You know that there are 'n' classmates and the paperwork has 'm' pages.\n",
    "\n",
    "Your task is to calculate how many blank pages do you need. If n < 0 or m < 0 return 0.\n",
    "\n",
    "Example:\n",
    "\n",
    "`n = 5, m = 5: 25`\n",
    "\n",
    "`n = -5, m = 5:  0`"
   ]
  },
  {
   "cell_type": "code",
   "execution_count": 24,
   "metadata": {},
   "outputs": [],
   "source": [
    "def paperwork(n, m):\n",
    "    if n < 0 or m < 0:\n",
    "        return 0\n",
    "    else:\n",
    "        return n * m"
   ]
  },
  {
   "cell_type": "code",
   "execution_count": 25,
   "metadata": {},
   "outputs": [
    {
     "data": {
      "text/plain": [
       "25"
      ]
     },
     "execution_count": 25,
     "metadata": {},
     "output_type": "execute_result"
    }
   ],
   "source": [
    "n1 = 5\n",
    "m1 = 5\n",
    "\n",
    "paperwork(n1, m1)"
   ]
  },
  {
   "cell_type": "code",
   "execution_count": 26,
   "metadata": {},
   "outputs": [
    {
     "data": {
      "text/plain": [
       "0"
      ]
     },
     "execution_count": 26,
     "metadata": {},
     "output_type": "execute_result"
    }
   ],
   "source": [
    "n2 = -5\n",
    "m2 = 0\n",
    "\n",
    "paperwork(n2, m2)"
   ]
  },
  {
   "cell_type": "markdown",
   "metadata": {},
   "source": [
    "---"
   ]
  },
  {
   "cell_type": "markdown",
   "metadata": {},
   "source": [
    "# Disemvowel Trolls - [LINK](https://www.codewars.com/kata/52fba66badcd10859f00097e/solutions/python)\n",
    "\n",
    "Trolls are attacking your comment section!\n",
    "\n",
    "A common way to deal with this situation is to remove all of the vowels from the trolls' comments, neutralizing the threat.\n",
    "\n",
    "Your task is to write a function that takes a string and return a new string with all vowels removed.\n",
    "\n",
    "For example, the string \n",
    "\n",
    "`\"This website is for losers LOL!\"` would become `\"Ths wbst s fr lsrs LL!\"`.\n",
    "\n",
    "Note: for this kata y isn't considered a vowel."
   ]
  },
  {
   "cell_type": "code",
   "execution_count": 27,
   "metadata": {},
   "outputs": [],
   "source": [
    "def disemvowel(string_):\n",
    "    vowels = ['a', 'e', 'i', 'o', 'u']\n",
    "    for s in string_:\n",
    "        if s.lower() in vowels:\n",
    "            string_ = string_.replace(s, \"\")\n",
    "    return string_"
   ]
  },
  {
   "cell_type": "code",
   "execution_count": 28,
   "metadata": {},
   "outputs": [
    {
     "data": {
      "text/plain": [
       "'Ths wbst s fr lsrs LL!'"
      ]
     },
     "execution_count": 28,
     "metadata": {},
     "output_type": "execute_result"
    }
   ],
   "source": [
    "string = \"This website is for losers LOL!\"\n",
    "\n",
    "disemvowel(string)"
   ]
  }
 ],
 "metadata": {
  "kernelspec": {
   "display_name": "venv",
   "language": "python",
   "name": "python3"
  },
  "language_info": {
   "codemirror_mode": {
    "name": "ipython",
    "version": 3
   },
   "file_extension": ".py",
   "mimetype": "text/x-python",
   "name": "python",
   "nbconvert_exporter": "python",
   "pygments_lexer": "ipython3",
   "version": "3.11.3"
  }
 },
 "nbformat": 4,
 "nbformat_minor": 2
}
