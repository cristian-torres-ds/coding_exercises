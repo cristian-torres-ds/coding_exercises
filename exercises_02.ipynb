{
 "cells": [
  {
   "cell_type": "markdown",
   "metadata": {},
   "source": [
    "# Sentence Smash\n",
    "Write a function that takes an array of words and smashes them together into a sentence and returns the sentence. You can ignore any need to sanitize words or add punctuation, but you should add spaces between each word. Be careful, there shouldn't be a space at the beginning or the end of the sentence!\n",
    "\n",
    "Example:\n",
    "\n",
    "`['hello', 'world', 'this', 'is', 'great']  =>  'hello world this is great'`\n",
    "\n",
    "[LINK](https://www.codewars.com/kata/53dc23c68a0c93699800041d)"
   ]
  },
  {
   "cell_type": "code",
   "execution_count": 3,
   "metadata": {},
   "outputs": [],
   "source": [
    "def smash(words):\n",
    "    sentence = \" \".join(words)\n",
    "    return sentence"
   ]
  },
  {
   "cell_type": "code",
   "execution_count": 4,
   "metadata": {},
   "outputs": [
    {
     "name": "stdout",
     "output_type": "stream",
     "text": [
      "hello world this is great\n",
      "True\n"
     ]
    }
   ],
   "source": [
    "words_list = ['hello', 'world', 'this', 'is', 'great']\n",
    "response = 'hello world this is great'\n",
    "function_response = smash(words_list)\n",
    "print(function_response)\n",
    "print(function_response == response)"
   ]
  },
  {
   "cell_type": "markdown",
   "metadata": {},
   "source": [
    "---"
   ]
  },
  {
   "cell_type": "markdown",
   "metadata": {},
   "source": [
    "## Range Extraction\n",
    "\n",
    "A format for expressing an ordered list of integers is to use a comma separated list of either\n",
    "\n",
    "- individual integers\n",
    "- or a range of integers denoted by the starting integer separated from the end integer in the range by a dash, '-'. The range includes all integers in the interval including both endpoints. It is not considered a range unless it spans at least 3 numbers. For example \"12,13,15-17\"\n",
    "\n",
    "Complete the solution so that it takes a list of integers in increasing order and returns a correctly formatted string in the range format.\n",
    "\n",
    "Example:\n",
    "\n",
    "`lista = [-10, -9, -8, -6, -3, -2, -1, 0, 1, 3, 4, 5, 7, 8, 9, 10, 11, 14, 15, 17, 18, 19, 20]`\n",
    "\n",
    "`# solution(lista)`\n",
    "\n",
    "`# returns \"-10--8,-6,-3-1,3-5,7-11,14,15,17-20\"`\n",
    "\n",
    "[LINK](https://www.codewars.com/kata/51ba717bb08c1cd60f00002f)"
   ]
  },
  {
   "cell_type": "code",
   "execution_count": 5,
   "metadata": {},
   "outputs": [],
   "source": [
    "def solution(args):\n",
    "    largo = len(args)\n",
    "    chain = []\n",
    "    final = []\n",
    "    i = 0\n",
    "\n",
    "    while i < largo:\n",
    "        if i + 2 < largo:\n",
    "            if (args[i] + 1 == args[i + 1]) and (args[i] + 2 == args[i + 2]):\n",
    "                chain = [args[i], args[i+2]]\n",
    "                i += 2\n",
    "                while i < largo - 1:\n",
    "                    if args[i] + 1 == args[i + 1]:\n",
    "                        chain.append(args[i + 1])\n",
    "                        i += 1\n",
    "                    else:\n",
    "                        break\n",
    "                formated = f\"{chain[0]}-{chain[len(chain)-1]}\"\n",
    "                final.append(formated)\n",
    "                i += 1\n",
    "            elif args[i] + 1 != args[i + 1] and args[i] + 2 != args[i + 2]:\n",
    "                final.append(str(args[i]))\n",
    "                i += 1\n",
    "            else:\n",
    "                final.append(str(args[i]))\n",
    "                i += 1\n",
    "        else:\n",
    "            final.append(str(args[i]))\n",
    "            i += 1\n",
    "\n",
    "    final_str = (\",\".join(final))\n",
    "\n",
    "    return final_str"
   ]
  },
  {
   "cell_type": "code",
   "execution_count": 6,
   "metadata": {},
   "outputs": [
    {
     "data": {
      "text/plain": [
       "'-10--8,-6,-3-1,3-5,7-11,14,15,17-20'"
      ]
     },
     "execution_count": 6,
     "metadata": {},
     "output_type": "execute_result"
    }
   ],
   "source": [
    "lista = [-10, -9, -8, -6, -3, -2, -1, 0, 1, 3, 4, 5, 7, 8, 9, 10, 11, 14, 15, 17, 18, 19, 20]\n",
    "solution(lista)\n",
    "#'-10--8,-6,-3-1,3-5,7-11,14,15,17-20'"
   ]
  },
  {
   "cell_type": "code",
   "execution_count": 7,
   "metadata": {},
   "outputs": [
    {
     "data": {
      "text/plain": [
       "'-3--1,2,10,15,16,18-20'"
      ]
     },
     "execution_count": 7,
     "metadata": {},
     "output_type": "execute_result"
    }
   ],
   "source": [
    "lista2 = [-3,-2,-1,2,10,15,16,18,19,20]\n",
    "solution(lista2)\n",
    "#'-3--1,2,10,15,16,18-20'"
   ]
  },
  {
   "cell_type": "code",
   "execution_count": 8,
   "metadata": {},
   "outputs": [
    {
     "data": {
      "text/plain": [
       "'-66,-63,-62,-60--57,-55--53,-50,-47,-45,-42,-41,-38,-35,-33,-30,-28,-25,-24,-22,-19,-16,-13,-10--8,-5,-2'"
      ]
     },
     "execution_count": 8,
     "metadata": {},
     "output_type": "execute_result"
    }
   ],
   "source": [
    "lista3 = [-66, -63, -62, -60, -59, -58, -57, -55, -54, -53, -50, -47, -45, -42, -41, -38, -35, -33, -30, -28, -25, -24, -22, -19, -16, -13, -10, -9, -8, -5, -2]\n",
    "solution(lista3)\n",
    "#'-66,-63,-62,-60--57,-55--53,-50,-47,-45,-42,-41,-38,-35,-33,-30,-28,-25,-24,-22,-19,-16,-13,-10--8,-5,-2'"
   ]
  },
  {
   "cell_type": "markdown",
   "metadata": {},
   "source": [
    "---"
   ]
  },
  {
   "cell_type": "markdown",
   "metadata": {},
   "source": [
    "## ROT13\n",
    "\n",
    "How can you tell an extrovert from an introvert at NSA?\n",
    "Va gur ryringbef, gur rkgebireg ybbxf ng gur BGURE thl'f fubrf.\n",
    "\n",
    "I found this joke on USENET, but the punchline is scrambled. Maybe you can decipher it?\n",
    "According to Wikipedia, ROT13 is frequently used to obfuscate jokes on USENET.\n",
    "\n",
    "For this task you're only supposed to substitute characters. Not spaces, punctuation, numbers, etc.\n",
    "\n",
    "Test examples:\n",
    "\n",
    "`\"EBG13 rknzcyr.\" -> \"ROT13 example.\"`\n",
    "\n",
    "`\"This is my first ROT13 excercise!\" -> \"Guvf vf zl svefg EBG13 rkprepvfr!\"`\n",
    "\n",
    "[LINK](https://www.codewars.com/kata/52223df9e8f98c7aa7000062)"
   ]
  },
  {
   "cell_type": "code",
   "execution_count": 9,
   "metadata": {},
   "outputs": [],
   "source": [
    "def rot13(message):\n",
    "    cyph = {\"a\":\"n\", \"b\":\"o\", \"c\":\"p\", \"d\":\"q\", \"e\":\"r\", \"f\":\"s\", \"g\":\"t\", \"h\":\"u\", \"i\":\"v\",\n",
    "            \"j\":\"w\", \"k\":\"x\", \"l\":\"y\", \"m\":\"z\", \"n\":\"a\", \"o\":\"b\", \"p\":\"c\", \"q\":\"d\", \"r\":\"e\",\n",
    "            \"s\":\"f\", \"t\":\"g\", \"u\":\"h\", \"v\":\"i\", \"w\":\"j\", \"x\":\"k\", \"y\":\"l\", \"z\":\"m\"}\n",
    "\n",
    "    # (d:w)(q:j)\n",
    "    lista = list(message)\n",
    "    for i, letter in enumerate(lista):\n",
    "        low = letter.lower()\n",
    "        if low in cyph.keys():\n",
    "            if letter != low:\n",
    "                up = True\n",
    "            lista[i] = cyph[low]\n",
    "            if letter != low:\n",
    "                lista[i] = lista[i].upper()\n",
    "\n",
    "    decoded = \"\".join(lista)\n",
    "\n",
    "    return decoded"
   ]
  },
  {
   "cell_type": "code",
   "execution_count": 10,
   "metadata": {},
   "outputs": [
    {
     "data": {
      "text/plain": [
       "'ROT13 example.'"
      ]
     },
     "execution_count": 10,
     "metadata": {},
     "output_type": "execute_result"
    }
   ],
   "source": [
    "str1 = \"EBG13 rknzcyr.\"\n",
    "rot13(str1)"
   ]
  },
  {
   "cell_type": "code",
   "execution_count": 11,
   "metadata": {},
   "outputs": [
    {
     "data": {
      "text/plain": [
       "'This is my first ROT13 excercise!'"
      ]
     },
     "execution_count": 11,
     "metadata": {},
     "output_type": "execute_result"
    }
   ],
   "source": [
    "str2 = \"Guvf vf zl svefg EBG13 rkprepvfr!\"\n",
    "rot13(str2)"
   ]
  },
  {
   "cell_type": "markdown",
   "metadata": {},
   "source": [
    "---"
   ]
  },
  {
   "cell_type": "markdown",
   "metadata": {},
   "source": [
    "## Snail Sort\n",
    "\n",
    "Given an n x n array, return the array elements arranged from outermost elements to the middle element, traveling clockwise.\n",
    "\n",
    "[LINK](https://www.codewars.com/kata/521c2db8ddc89b9b7a0000c1)"
   ]
  },
  {
   "cell_type": "raw",
   "metadata": {},
   "source": [
    "array = [[1,2,3],\n",
    "         [4,5,6],\n",
    "         [7,8,9]]\n",
    "snail(array) #=> [1,2,3,6,9,8,7,4,5]"
   ]
  },
  {
   "cell_type": "markdown",
   "metadata": {},
   "source": [
    "For better understanding, please follow the numbers of the next array consecutively:"
   ]
  },
  {
   "cell_type": "raw",
   "metadata": {},
   "source": [
    "array = [[1,2,3],\n",
    "         [8,9,4],\n",
    "         [7,6,5]]\n",
    "snail(array) #=> [1,2,3,4,5,6,7,8,9]"
   ]
  },
  {
   "cell_type": "markdown",
   "metadata": {},
   "source": [
    "This image will illustrate things more clearly:\n",
    "\n",
    "![Alt text](src/snail_01.png)  ![Alt text](src/snail_02.png)\n",
    "\n",
    "NOTE: The idea is not sort the elements from the lowest value to the highest; the idea is to traverse the 2-d array in a clockwise snailshell pattern.\n",
    "\n",
    "NOTE 2: The 0x0 (empty matrix) is represented as en empty array inside an array [[]]."
   ]
  },
  {
   "cell_type": "code",
   "execution_count": 12,
   "metadata": {},
   "outputs": [],
   "source": [
    "def snail(snail_map):\n",
    "    snail_list = []\n",
    "    dim = len(snail_map)\n",
    "\n",
    "    if len(snail_map[0]) == 0:\n",
    "        return snail_list\n",
    "    elif dim == 1:\n",
    "        snail_list.append(snail_map[0][0])\n",
    "        return snail_list\n",
    "\n",
    "    a = 0\n",
    "    b = 0\n",
    "\n",
    "    while dim > 1:\n",
    "        for i in range(dim-1):\n",
    "            snail_list.append(snail_map[a][b])\n",
    "            b += 1\n",
    "        snail_list.append(snail_map[a][b])\n",
    "        a += 1\n",
    "        snail_list.append(snail_map[a][b])\n",
    "\n",
    "        for i in range(dim-2):\n",
    "            a += 1\n",
    "            snail_list.append(snail_map[a][b])\n",
    "        b -= 1\n",
    "        snail_list.append(snail_map[a][b])\n",
    "\n",
    "        for i in range(dim-2):\n",
    "            b -= 1\n",
    "            snail_list.append(snail_map[a][b])\n",
    "        a -= 1\n",
    "        if dim > 2:\n",
    "            snail_list.append(snail_map[a][b])\n",
    "\n",
    "        if dim > 2:\n",
    "            for i in range (dim-3):\n",
    "                a -= 1\n",
    "                snail_list.append(snail_map[a][b])\n",
    "            b += 1\n",
    "\n",
    "        dim -= 2\n",
    "\n",
    "        if dim == 1:\n",
    "            snail_list.append(snail_map[a][b])\n",
    "\n",
    "    return snail_list"
   ]
  },
  {
   "cell_type": "code",
   "execution_count": 13,
   "metadata": {},
   "outputs": [],
   "source": [
    "array = [[1,2,3],\n",
    "         [4,5,6],\n",
    "         [7,8,9]]\n",
    "\n",
    "# snail(array) #=> [1,2,3,6,9,8,7,4,5]"
   ]
  },
  {
   "cell_type": "code",
   "execution_count": 14,
   "metadata": {},
   "outputs": [
    {
     "data": {
      "text/plain": [
       "[1, 2, 3, 6, 9, 8, 7, 4, 5]"
      ]
     },
     "execution_count": 14,
     "metadata": {},
     "output_type": "execute_result"
    }
   ],
   "source": [
    "snail(array)"
   ]
  },
  {
   "cell_type": "code",
   "execution_count": 15,
   "metadata": {},
   "outputs": [],
   "source": [
    "array2 = [[1 ,2 ,3 ,4],\n",
    "          [12,13,14,5],\n",
    "          [11,16,15,6],\n",
    "          [10,9 ,8 ,7]]\n",
    "\n",
    "# 1,2,3,1,4,7,7,9,8,7,7,4,5,6,9,8"
   ]
  },
  {
   "cell_type": "code",
   "execution_count": 16,
   "metadata": {},
   "outputs": [
    {
     "data": {
      "text/plain": [
       "[1, 2, 3, 4, 5, 6, 7, 8, 9, 10, 11, 12, 13, 14, 15, 16]"
      ]
     },
     "execution_count": 16,
     "metadata": {},
     "output_type": "execute_result"
    }
   ],
   "source": [
    "snail(array2)"
   ]
  },
  {
   "cell_type": "markdown",
   "metadata": {},
   "source": [
    "---"
   ]
  },
  {
   "cell_type": "markdown",
   "metadata": {},
   "source": [
    "## Pagination Helper\n",
    "\n",
    "For this exercise you will be strengthening your page-fu mastery. You will complete the PaginationHelper class, which is a utility class helpful for querying paging information related to an array.\n",
    "\n",
    "The class is designed to take in an array of values and an integer indicating how many items will be allowed per each page. The types of values contained within the collection/array are not relevant.\n",
    "\n",
    "[LINK](https://www.codewars.com/kata/515bb423de843ea99400000a)"
   ]
  },
  {
   "cell_type": "raw",
   "metadata": {},
   "source": [
    "The following are some examples of how this class is used:\n",
    "\n",
    "helper = PaginationHelper(['a','b','c','d','e','f'], 4)\n",
    "helper.page_count() # should == 2\n",
    "helper.item_count() # should == 6\n",
    "helper.page_item_count(0) # should == 4\n",
    "helper.page_item_count(1) # last page - should == 2\n",
    "helper.page_item_count(2) # should == -1 since the page is invalid\n",
    "\n",
    "# page_index takes an item index and returns the page that it belongs on\n",
    "helper.page_index(5) # should == 1 (zero based index)\n",
    "helper.page_index(2) # should == 0\n",
    "helper.page_index(20) # should == -1\n",
    "helper.page_index(-10) # should == -1 because negative indexes are invalid"
   ]
  },
  {
   "cell_type": "code",
   "execution_count": 17,
   "metadata": {},
   "outputs": [],
   "source": [
    "class PaginationHelper:\n",
    "    \n",
    "    # The constructor takes in an array of items and an integer indicating\n",
    "    # how many items fit within a single page\n",
    "    def __init__(self, collection, items_per_page):\n",
    "        self.collection = collection\n",
    "        self.items_per_page = items_per_page\n",
    "\n",
    "    # returns the number of items within the entire collection\n",
    "    def item_count(self):\n",
    "        return len(self.collection)\n",
    "\n",
    "    # returns the number of pages\n",
    "    def page_count(self):\n",
    "        pages = len(self.collection) // self.items_per_page\n",
    "        if len(self.collection) % self.items_per_page:\n",
    "            pages += 1\n",
    "        return pages\n",
    "    \n",
    "    # returns the number of items on the given page. page_index is zero based\n",
    "    # this method should return -1 for page_index values that are out of range\n",
    "    def page_item_count(self, page_index):\n",
    "        pages = self.page_count() - 1\n",
    "        items = self.item_count()\n",
    "        if (page_index > pages) | (page_index < 0):\n",
    "            return -1\n",
    "        if page_index == pages:\n",
    "            return (items - (pages) * self.items_per_page)\n",
    "        else:\n",
    "            return self.items_per_page\n",
    "\n",
    "    # determines what page an item at the given index is on. Zero based indexes.\n",
    "    # this method should return -1 for item_index values that are out of range\n",
    "    def page_index(self, item_index):\n",
    "        items = self.item_count()\n",
    "        if (item_index + 1 > items) | (item_index < 0):\n",
    "            return -1\n",
    "        page = (item_index) // self.items_per_page\n",
    "        return page"
   ]
  },
  {
   "cell_type": "markdown",
   "metadata": {},
   "source": [
    "---"
   ]
  },
  {
   "cell_type": "markdown",
   "metadata": {},
   "source": [
    "## Roman Numerals Helper\n",
    "\n",
    "Write two functions that convert a roman numeral to and from an integer value. Multiple roman numeral values will be tested for each function.\n",
    "\n",
    "Modern Roman numerals are written by expressing each digit separately starting with the left most digit and skipping any digit with a value of zero.\n",
    "\n",
    "In Roman numerals 1990 is rendered: 1000=M, 900=CM, 90=XC; resulting in MCMXC. 2008 is written as 2000=MM, 8=VIII; or MMVIII.\n",
    "\n",
    " 1666 uses each Roman symbol in descending order: MDCLXVI.\n",
    "\n",
    "Input range : 1 <= n < 4000\n",
    "\n",
    "In this kata 4 should be represented as IV, NOT as IIII (the \"watchmaker's four\").\n",
    "\n",
    "[LINK](https://www.codewars.com/kata/51b66044bce5799a7f000003)"
   ]
  },
  {
   "cell_type": "raw",
   "metadata": {},
   "source": [
    "Examples\n",
    "\n",
    "to roman:\n",
    "2000 -> \"MM\"\n",
    "1666 -> \"MDCLXVI\"\n",
    "1000 -> \"M\"\n",
    " 400 -> \"CD\"\n",
    "  90 -> \"XC\"\n",
    "  40 -> \"XL\"\n",
    "   1 -> \"I\"\n",
    "\n",
    "from roman:\n",
    "\"MM\"      -> 2000\n",
    "\"MDCLXVI\" -> 1666\n",
    "\"M\"       -> 1000\n",
    "\"CD\"      -> 400\n",
    "\"XC\"      -> 90\n",
    "\"XL\"      -> 40\n",
    "\"I\"       -> 1\n",
    "\n",
    "Help:\n",
    "Symbol\tValue\n",
    "I\t    1\n",
    "IV\t    4\n",
    "V\t    5\n",
    "X\t    10\n",
    "L\t    50\n",
    "C\t    100\n",
    "D\t    500\n",
    "M\t    1000"
   ]
  },
  {
   "cell_type": "code",
   "execution_count": 18,
   "metadata": {},
   "outputs": [],
   "source": [
    "class RomanNumerals:\n",
    "    @staticmethod\n",
    "    def to_roman(val):\n",
    "        romans = {\"1\" : \"I\",\n",
    "                  \"5\" : \"V\",\n",
    "                  \"10\" : \"X\",\n",
    "                  \"50\" : \"L\",\n",
    "                  \"100\" : \"C\",\n",
    "                  \"500\" : \"D\",\n",
    "                  \"1000\" : \"M\"}\n",
    "\n",
    "        numbers = []\n",
    "        valores = list(str(val))\n",
    "        valores.reverse()\n",
    "\n",
    "        for i, valor in enumerate(valores):\n",
    "            if int(valor) < 4:\n",
    "                numbers.append((romans[\"1\" + \"0\" * i]) * int(valor))\n",
    "            elif int(valor) == 4:\n",
    "                numbers.append(romans[\"1\" + \"0\" * i] + romans[\"5\" + \"0\" * i])\n",
    "            elif int(valor) < 9:\n",
    "                numbers.append(romans[\"5\" + \"0\" * i] + (romans[\"1\" + \"0\" * i]) * (int(valor) - 5))\n",
    "            else:\n",
    "                numbers.append(romans[\"1\" + \"0\" * i] + romans[\"1\" + \"0\" * (i+1)])\n",
    "\n",
    "        numbers.reverse()\n",
    "\n",
    "        roman = \"\"\n",
    "\n",
    "        for num in numbers:\n",
    "            roman += num\n",
    "\n",
    "        return roman\n",
    "\n",
    "    @staticmethod\n",
    "    def from_roman(roman_num):\n",
    "\n",
    "        romans = {\"I\" : 1,\n",
    "                  \"V\" : 5,\n",
    "                  \"X\" : 10,\n",
    "                  \"L\" : 50,\n",
    "                  \"C\" : 100,\n",
    "                  \"D\" : 500,\n",
    "                  \"M\" : 1000}\n",
    "        \n",
    "        numbers = list(roman_num)\n",
    "\n",
    "        for i, number in enumerate(numbers):\n",
    "            numbers[i] = romans[number]\n",
    "\n",
    "        largo = len(numbers)\n",
    "\n",
    "        for i in range(largo-1):\n",
    "            if numbers[i] < numbers[i+1]:\n",
    "                numbers[i] *= -1\n",
    "\n",
    "        return sum(numbers)"
   ]
  }
 ],
 "metadata": {
  "kernelspec": {
   "display_name": "venv",
   "language": "python",
   "name": "python3"
  },
  "language_info": {
   "codemirror_mode": {
    "name": "ipython",
    "version": 3
   },
   "file_extension": ".py",
   "mimetype": "text/x-python",
   "name": "python",
   "nbconvert_exporter": "python",
   "pygments_lexer": "ipython3",
   "version": "3.11.3"
  }
 },
 "nbformat": 4,
 "nbformat_minor": 2
}
