{
 "cells": [
  {
   "cell_type": "markdown",
   "metadata": {},
   "source": [
    "# Shortest steps to a number - [LINK](https://www.codewars.com/kata/5cd4aec6abc7260028dcd942/train/python)\n",
    "\n",
    "#### Summary:\n",
    "Given a number, `num`, return the shortest amount of `steps` it would take from 1, to land exactly on that number.\n",
    "\n",
    "#### Description:\n",
    "A `step` is defined as either:\n",
    "* Adding 1 to the number: `num += 1`\n",
    "* Doubling the number: `num *= 2`\n",
    "\n",
    "You will always start from the number `1` and you will have to return the shortest count of steps it would take to land exactly on that number.\n",
    "\n",
    "`1 <= num <= 10000`\n",
    "\n",
    "#### Examples:\n",
    "\n",
    "`num == 3` would return `2` steps:"
   ]
  },
  {
   "cell_type": "raw",
   "metadata": {},
   "source": [
    "1 -- +1 --> 2:        1 step\n",
    "2 -- +1 --> 3:        2 steps\n",
    "\n",
    "2 steps"
   ]
  },
  {
   "cell_type": "markdown",
   "metadata": {},
   "source": [
    "`num == 12` would return `4` steps:"
   ]
  },
  {
   "cell_type": "raw",
   "metadata": {},
   "source": [
    "1 -- +1 --> 2:        1 step\n",
    "2 -- +1 --> 3:        2 steps\n",
    "3 -- x2 --> 6:        3 steps\n",
    "6 -- x2 --> 12:       4 steps\n",
    "\n",
    "4 steps"
   ]
  },
  {
   "cell_type": "markdown",
   "metadata": {},
   "source": [
    "`num == 16` would return `4` steps:"
   ]
  },
  {
   "cell_type": "raw",
   "metadata": {},
   "source": [
    "1 -- +1 --> 2:        1 step\n",
    "2 -- x2 --> 4:        2 steps\n",
    "4 -- x2 --> 8:        3 steps\n",
    "8 -- x2 --> 16:       4 steps\n",
    "\n",
    "4 steps"
   ]
  },
  {
   "cell_type": "code",
   "execution_count": 29,
   "metadata": {},
   "outputs": [],
   "source": [
    "def shortest_steps_to_num(num):\n",
    "    steps = 0\n",
    "\n",
    "    while num > 1:\n",
    "        if num % 2 == 0:\n",
    "            num /= 2\n",
    "        else:\n",
    "            num -= 1\n",
    "        steps += 1\n",
    "\n",
    "    return steps"
   ]
  },
  {
   "cell_type": "code",
   "execution_count": 30,
   "metadata": {},
   "outputs": [
    {
     "name": "stdout",
     "output_type": "stream",
     "text": [
      "0\n",
      "0\n",
      "True\n"
     ]
    }
   ],
   "source": [
    "input = 1\n",
    "output = shortest_steps_to_num(input)\n",
    "answer = 0\n",
    "print(answer)\n",
    "print(output)\n",
    "print(answer == output)"
   ]
  },
  {
   "cell_type": "code",
   "execution_count": 31,
   "metadata": {},
   "outputs": [
    {
     "name": "stdout",
     "output_type": "stream",
     "text": [
      "4\n",
      "4\n",
      "True\n"
     ]
    }
   ],
   "source": [
    "input = 12\n",
    "output = shortest_steps_to_num(input)\n",
    "answer = 4\n",
    "print(answer)\n",
    "print(output)\n",
    "print(answer == output)"
   ]
  },
  {
   "cell_type": "code",
   "execution_count": 32,
   "metadata": {},
   "outputs": [
    {
     "name": "stdout",
     "output_type": "stream",
     "text": [
      "4\n",
      "4\n",
      "True\n"
     ]
    }
   ],
   "source": [
    "input = 16\n",
    "output = shortest_steps_to_num(input)\n",
    "answer = 4\n",
    "print(answer)\n",
    "print(output)\n",
    "print(answer == output)"
   ]
  },
  {
   "cell_type": "code",
   "execution_count": 33,
   "metadata": {},
   "outputs": [
    {
     "name": "stdout",
     "output_type": "stream",
     "text": [
      "9\n",
      "9\n",
      "True\n"
     ]
    }
   ],
   "source": [
    "input = 71\n",
    "output = shortest_steps_to_num(input)\n",
    "answer = 9\n",
    "print(answer)\n",
    "print(output)\n",
    "print(answer == output)"
   ]
  },
  {
   "cell_type": "markdown",
   "metadata": {},
   "source": [
    "---"
   ]
  },
  {
   "cell_type": "markdown",
   "metadata": {},
   "source": [
    "# Word a10n (abbreviation) - [LINK](https://www.codewars.com/kata/5375f921003bf62192000746/train/python)\n",
    "\n",
    "The word `i18n` is a common abbreviation of `internationalization` in the developer community, used instead of typing the whole word and trying to spell it correctly. Similarly, `a11y` is an abbreviation of `accessibility`.\n",
    "\n",
    "Write a function that takes a string and turns any and all \"words\" (see below) within that string of **length 4 or greater** into an abbreviation, following these rules:\n",
    "\n",
    "* A \"word\" is a sequence of alphabetical characters. By this definition, any other character like a space or hyphen (eg. \"elephant-ride\") will split up a series of letters into two words (eg. \"elephant\" and \"ride\").\n",
    "\n",
    "* The abbreviated version of the word should have the first letter, then the number of removed characters, then the last letter (eg. \"elephant ride\" => \"e6t r2e\").\n",
    "\n",
    "#### Example"
   ]
  },
  {
   "cell_type": "raw",
   "metadata": {},
   "source": [
    "abbreviate(\"elephant-rides are really fun!\")\n",
    "//          ^^^^^^^^*^^^^^*^^^*^^^^^^*^^^*\n",
    "// words (^):   \"elephant\" \"rides\" \"are\" \"really\" \"fun\"\n",
    "//                123456     123     1     1234     1\n",
    "// ignore short words:               X              X\n",
    "\n",
    "// abbreviate:    \"e6t\"     \"r3s\"  \"are\"  \"r4y\"   \"fun\"\n",
    "// all non-word characters (*) remain in place\n",
    "//                     \"-\"      \" \"    \" \"     \" \"     \"!\"\n",
    "=== \"e6t-r3s are r4y fun!\""
   ]
  },
  {
   "cell_type": "code",
   "execution_count": 26,
   "metadata": {},
   "outputs": [],
   "source": [
    "import re\n",
    "\n",
    "def abbreviate(s):\n",
    "    text = re.sub(r\"[a-zA-Z]{4,}\", abbreviator, s)\n",
    "    return text\n",
    "\n",
    "\n",
    "def abbreviator(word):\n",
    "    word = word.group()\n",
    "    return word[0] + str(len(word)-2) + word[-1]"
   ]
  },
  {
   "cell_type": "code",
   "execution_count": 28,
   "metadata": {},
   "outputs": [
    {
     "name": "stdout",
     "output_type": "stream",
     "text": [
      "i18n\n",
      "i18n\n",
      "True\n"
     ]
    }
   ],
   "source": [
    "input = \"internationalization\"\n",
    "output = abbreviate(input)\n",
    "correct_answer = \"i18n\"\n",
    "print(correct_answer)\n",
    "print(output)\n",
    "print(correct_answer == output)"
   ]
  },
  {
   "cell_type": "code",
   "execution_count": 29,
   "metadata": {},
   "outputs": [
    {
     "name": "stdout",
     "output_type": "stream",
     "text": [
      "a11y\n",
      "a11y\n",
      "True\n"
     ]
    }
   ],
   "source": [
    "input = \"accessibility\"\n",
    "output = abbreviate(input)\n",
    "correct_answer = \"a11y\"\n",
    "print(correct_answer)\n",
    "print(output)\n",
    "print(correct_answer == output)"
   ]
  },
  {
   "cell_type": "code",
   "execution_count": 30,
   "metadata": {},
   "outputs": [
    {
     "name": "stdout",
     "output_type": "stream",
     "text": [
      "A11y\n",
      "A11y\n",
      "True\n"
     ]
    }
   ],
   "source": [
    "input = \"Accessibility\"\n",
    "output = abbreviate(input)\n",
    "correct_answer = \"A11y\"\n",
    "print(correct_answer)\n",
    "print(output)\n",
    "print(correct_answer == output)"
   ]
  },
  {
   "cell_type": "code",
   "execution_count": 31,
   "metadata": {},
   "outputs": [
    {
     "name": "stdout",
     "output_type": "stream",
     "text": [
      "e6t-r2e\n",
      "e6t-r2e\n",
      "True\n"
     ]
    }
   ],
   "source": [
    "input = \"elephant-ride\"\n",
    "output = abbreviate(input)\n",
    "correct_answer = \"e6t-r2e\"\n",
    "print(correct_answer)\n",
    "print(output)\n",
    "print(correct_answer == output)"
   ]
  },
  {
   "cell_type": "markdown",
   "metadata": {},
   "source": [
    "---"
   ]
  },
  {
   "cell_type": "markdown",
   "metadata": {},
   "source": [
    "# Convert boolean values to strings 'Yes' or 'No' - [LINK](https://www.codewars.com/kata/53369039d7ab3ac506000467/train/python)\n",
    "\n",
    "Complete the method that takes a boolean value and return a `\"Yes\"` string for `True`, or a `\"No\"` string for `False`."
   ]
  },
  {
   "cell_type": "code",
   "execution_count": 6,
   "metadata": {},
   "outputs": [],
   "source": [
    "def bool_to_word(boolean):\n",
    "    return 'Yes' if boolean else 'No'"
   ]
  },
  {
   "cell_type": "code",
   "execution_count": 7,
   "metadata": {},
   "outputs": [
    {
     "name": "stdout",
     "output_type": "stream",
     "text": [
      "Yes\n",
      "Yes\n",
      "True\n"
     ]
    }
   ],
   "source": [
    "input = True\n",
    "output = bool_to_word(input)\n",
    "answer = 'Yes'\n",
    "print(answer)\n",
    "print(output)\n",
    "print(answer == output)"
   ]
  },
  {
   "cell_type": "code",
   "execution_count": 8,
   "metadata": {},
   "outputs": [
    {
     "name": "stdout",
     "output_type": "stream",
     "text": [
      "No\n",
      "No\n",
      "True\n"
     ]
    }
   ],
   "source": [
    "input = False\n",
    "output = bool_to_word(input)\n",
    "answer = 'No'\n",
    "print(answer)\n",
    "print(output)\n",
    "print(answer == output)"
   ]
  },
  {
   "cell_type": "markdown",
   "metadata": {},
   "source": [
    "---"
   ]
  },
  {
   "cell_type": "markdown",
   "metadata": {},
   "source": [
    "# List Filtering - [LINK](https://www.codewars.com/kata/53dbd5315a3c69eed20002dd/train/python)\n",
    "\n",
    "In this kata you will create a function that takes a list of non-negative integers and strings and returns a new list with the strings filtered out.\n",
    "\n",
    "Example\n",
    "\n",
    "`filter_list([1,2,'a','b']) == [1,2]`\n",
    "\n",
    "`filter_list([1,'a','b',0,15]) == [1,0,15]`\n",
    "\n",
    "`filter_list([1,2,'aasf','1','123',123]) == [1,2,123]`"
   ]
  },
  {
   "cell_type": "code",
   "execution_count": 14,
   "metadata": {},
   "outputs": [],
   "source": [
    "def filter_list(l):\n",
    "    return [x for x in l if type(x) == int]"
   ]
  },
  {
   "cell_type": "code",
   "execution_count": null,
   "metadata": {},
   "outputs": [],
   "source": [
    "def filter_list(l):\n",
    "    return [i for i in l if not isinstance(i, str)]"
   ]
  },
  {
   "cell_type": "code",
   "execution_count": 15,
   "metadata": {},
   "outputs": [
    {
     "name": "stdout",
     "output_type": "stream",
     "text": [
      "[1, 2]\n",
      "[1, 2]\n",
      "True\n"
     ]
    }
   ],
   "source": [
    "input = [1, 2, 'a', 'b']\n",
    "output = filter_list(input)\n",
    "correct_answer = [1, 2]\n",
    "print(correct_answer)\n",
    "print(output)\n",
    "print(correct_answer == output)"
   ]
  },
  {
   "cell_type": "code",
   "execution_count": 16,
   "metadata": {},
   "outputs": [
    {
     "name": "stdout",
     "output_type": "stream",
     "text": [
      "[1, 0, 15]\n",
      "[1, 0, 15]\n",
      "True\n"
     ]
    }
   ],
   "source": [
    "input = [1, 'a', 'b', 0, 15]\n",
    "output = filter_list(input)\n",
    "correct_answer = [1, 0, 15]\n",
    "print(correct_answer)\n",
    "print(output)\n",
    "print(correct_answer == output)"
   ]
  },
  {
   "cell_type": "code",
   "execution_count": 17,
   "metadata": {},
   "outputs": [
    {
     "name": "stdout",
     "output_type": "stream",
     "text": [
      "[1, 2, 123]\n",
      "[1, 2, 123]\n",
      "True\n"
     ]
    }
   ],
   "source": [
    "input = [1, 2, 'aasf', '1', '123', 123]\n",
    "output = filter_list(input)\n",
    "correct_answer = [1, 2, 123]\n",
    "print(correct_answer)\n",
    "print(output)\n",
    "print(correct_answer == output)"
   ]
  }
 ],
 "metadata": {
  "kernelspec": {
   "display_name": "venv",
   "language": "python",
   "name": "python3"
  },
  "language_info": {
   "codemirror_mode": {
    "name": "ipython",
    "version": 3
   },
   "file_extension": ".py",
   "mimetype": "text/x-python",
   "name": "python",
   "nbconvert_exporter": "python",
   "pygments_lexer": "ipython3",
   "version": "3.11.3"
  }
 },
 "nbformat": 4,
 "nbformat_minor": 2
}
