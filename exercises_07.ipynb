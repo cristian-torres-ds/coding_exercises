{
 "cells": [
  {
   "cell_type": "markdown",
   "metadata": {},
   "source": [
    "# Duplicate Encoder\n",
    "\n",
    "The goal of this exercise is to convert a string to a new string where each character in the new string is \"(\" if that character appears only once in the original string, or \")\" if that character appears more than once in the original string. Ignore capitalization when determining if a character is a duplicate.\n",
    "\n",
    "Examples:\n",
    "\n",
    "`\"din\"      =>  \"(((\"`\n",
    "\n",
    "`\"recede\"   =>  \"()()()\"`\n",
    "\n",
    "`\"Success\"  =>  \")())())\"`\n",
    "\n",
    "`\"(( @\"     =>  \"))((\"`\n",
    "\n",
    "Notes:\n",
    "\n",
    "Assertion messages may be unclear about what they display in some languages.\n",
    "\n",
    "If you read \"...It Should encode XXX\", the \"XXX\" is the expected result, not the input!\n",
    "\n",
    "[LINK](https://www.codewars.com/kata/54b42f9314d9229fd6000d9c)"
   ]
  },
  {
   "cell_type": "code",
   "execution_count": 1,
   "metadata": {},
   "outputs": [],
   "source": [
    "def duplicate_encode(word):\n",
    "    word = word.lower()\n",
    "    length = len(word)\n",
    "    word_list = list(word)\n",
    "    encoded_list = []\n",
    "    for i in range(length):\n",
    "        if word_list[i] not in (word_list[:i] + word_list[i+1:]):\n",
    "            encoded_list.append('(')\n",
    "        else:\n",
    "            encoded_list.append(')')\n",
    "\n",
    "    encoded = ''.join(encoded_list)\n",
    "\n",
    "    return encoded"
   ]
  },
  {
   "cell_type": "code",
   "execution_count": 2,
   "metadata": {},
   "outputs": [
    {
     "name": "stdout",
     "output_type": "stream",
     "text": [
      "(((\n",
      "(((\n",
      "True\n"
     ]
    }
   ],
   "source": [
    "test = duplicate_encode(\"din\")\n",
    "answer = \"(((\"\n",
    "print(test)\n",
    "print(answer)\n",
    "print(test == answer)"
   ]
  },
  {
   "cell_type": "code",
   "execution_count": 3,
   "metadata": {},
   "outputs": [
    {
     "name": "stdout",
     "output_type": "stream",
     "text": [
      "()()()\n",
      "()()()\n",
      "True\n"
     ]
    }
   ],
   "source": [
    "test = duplicate_encode(\"recede\")\n",
    "answer = \"()()()\"\n",
    "print(test)\n",
    "print(answer)\n",
    "print(test == answer)"
   ]
  },
  {
   "cell_type": "code",
   "execution_count": 4,
   "metadata": {},
   "outputs": [
    {
     "name": "stdout",
     "output_type": "stream",
     "text": [
      ")())())\n",
      ")())())\n",
      "True\n"
     ]
    }
   ],
   "source": [
    "test = duplicate_encode(\"Success\")\n",
    "answer = \")())())\"\n",
    "print(test)\n",
    "print(answer)\n",
    "print(test == answer)"
   ]
  },
  {
   "cell_type": "code",
   "execution_count": 5,
   "metadata": {},
   "outputs": [
    {
     "name": "stdout",
     "output_type": "stream",
     "text": [
      "))((\n",
      "))((\n",
      "True\n"
     ]
    }
   ],
   "source": [
    "test = duplicate_encode(\"(( @\")\n",
    "answer = \"))((\"\n",
    "print(test)\n",
    "print(answer)\n",
    "print(test == answer)"
   ]
  },
  {
   "cell_type": "markdown",
   "metadata": {},
   "source": [
    "---"
   ]
  },
  {
   "cell_type": "markdown",
   "metadata": {},
   "source": [
    "# Count by X\n",
    "\n",
    "Create a function with two arguments that will return an array of the first `n` multiples of `x`.\n",
    "\n",
    "Assume both the given number and the number of times to count will be positive numbers greater than `0`.\n",
    "\n",
    "Return the results as an array or list ( depending on language ).\n",
    "\n",
    "Examples:<br>\n",
    "`count_by(1,10) #should return [1,2,3,4,5,6,7,8,9,10]`<br>\n",
    "`count_by(2,5) #should return [2,4,6,8,10]`\n",
    "\n",
    "[LINK](https://www.codewars.com/kata/5513795bd3fafb56c200049e)"
   ]
  },
  {
   "cell_type": "code",
   "execution_count": 6,
   "metadata": {},
   "outputs": [],
   "source": [
    "def count_by(x, n):\n",
    "    array = []\n",
    "    multiple = 0\n",
    "    for i in range(n):\n",
    "        multiple += x\n",
    "        array.append(multiple)\n",
    "    return array"
   ]
  },
  {
   "cell_type": "code",
   "execution_count": 7,
   "metadata": {},
   "outputs": [
    {
     "name": "stdout",
     "output_type": "stream",
     "text": [
      "[1, 2, 3, 4, 5, 6, 7, 8, 9, 10]\n",
      "[1, 2, 3, 4, 5, 6, 7, 8, 9, 10]\n",
      "True\n"
     ]
    }
   ],
   "source": [
    "test = count_by(1, 10)\n",
    "answer = [1,2,3,4,5,6,7,8,9,10]\n",
    "print(test)\n",
    "print(answer)\n",
    "print(test == answer)"
   ]
  },
  {
   "cell_type": "code",
   "execution_count": 8,
   "metadata": {},
   "outputs": [
    {
     "name": "stdout",
     "output_type": "stream",
     "text": [
      "[2, 4, 6, 8, 10]\n",
      "[2, 4, 6, 8, 10]\n",
      "True\n"
     ]
    }
   ],
   "source": [
    "test = count_by(2, 5)\n",
    "answer = [2,4,6,8,10]\n",
    "print(test)\n",
    "print(answer)\n",
    "print(test == answer)"
   ]
  },
  {
   "cell_type": "code",
   "execution_count": 9,
   "metadata": {},
   "outputs": [
    {
     "name": "stdout",
     "output_type": "stream",
     "text": [
      "[1, 2, 3, 4, 5]\n",
      "[1, 2, 3, 4, 5]\n",
      "True\n"
     ]
    }
   ],
   "source": [
    "test = count_by(1, 5)\n",
    "answer = [1, 2, 3, 4, 5]\n",
    "print(test)\n",
    "print(answer)\n",
    "print(test == answer)"
   ]
  },
  {
   "cell_type": "code",
   "execution_count": 10,
   "metadata": {},
   "outputs": [
    {
     "name": "stdout",
     "output_type": "stream",
     "text": [
      "[3, 6, 9, 12, 15]\n",
      "[3, 6, 9, 12, 15]\n",
      "True\n"
     ]
    }
   ],
   "source": [
    "test = count_by(3, 5)\n",
    "answer = [3, 6, 9, 12, 15]\n",
    "print(test)\n",
    "print(answer)\n",
    "print(test == answer)"
   ]
  },
  {
   "cell_type": "code",
   "execution_count": 11,
   "metadata": {},
   "outputs": [
    {
     "name": "stdout",
     "output_type": "stream",
     "text": [
      "[50, 100, 150, 200, 250]\n",
      "[50, 100, 150, 200, 250]\n",
      "True\n"
     ]
    }
   ],
   "source": [
    "test = count_by(50, 5)\n",
    "answer = [50, 100, 150, 200, 250]\n",
    "print(test)\n",
    "print(answer)\n",
    "print(test == answer)"
   ]
  },
  {
   "cell_type": "code",
   "execution_count": 12,
   "metadata": {},
   "outputs": [
    {
     "name": "stdout",
     "output_type": "stream",
     "text": [
      "[100, 200, 300, 400, 500]\n",
      "[100, 200, 300, 400, 500]\n",
      "True\n"
     ]
    }
   ],
   "source": [
    "test = count_by(100, 5)\n",
    "answer = [100, 200, 300, 400, 500]\n",
    "print(test)\n",
    "print(answer)\n",
    "print(test == answer)"
   ]
  },
  {
   "cell_type": "markdown",
   "metadata": {},
   "source": [
    "---"
   ]
  },
  {
   "cell_type": "markdown",
   "metadata": {},
   "source": [
    "# Most frequently used words in a text\n",
    "\n",
    "Write a function that, given a string of text (possibly with punctuation and line-breaks), returns an array of the top-3 most occurring words, in descending order of the number of occurrences.\n",
    "\n",
    "#### Assumptions:\n",
    "* A word is a string of letters (A to Z) optionally containing one or more apostrophes (`'`) in ASCII.\n",
    "* Apostrophes can appear at the start, middle or end of a word (`'abc`, `abc'`, `'abc'`, `ab'c` are all valid)\n",
    "* Any other characters (e.g. `#`, `\\`, `/` , `.` ...) are not part of a word and should be treated as whitespace.\n",
    "* Matches should be case-insensitive, and the words in the result should be lowercased.\n",
    "* Ties may be broken arbitrarily.\n",
    "* If a text contains fewer than three unique words, then either the top-2 or top-1 words should be returned, or an empty array if a text contains no words.\n",
    "\n",
    "#### Examples:"
   ]
  },
  {
   "cell_type": "raw",
   "metadata": {},
   "source": [
    "\"In a village of La Mancha, the name of which I have no desire to call to\n",
    "mind, there lived not long since one of those gentlemen that keep a lance\n",
    "in the lance-rack, an old buckler, a lean hack, and a greyhound for\n",
    "coursing. An olla of rather more beef than mutton, a salad on most\n",
    "nights, scraps on Saturdays, lentils on Fridays, and a pigeon or so extra\n",
    "on Sundays, made away with three-quarters of his income.\"\n",
    "\n",
    "--> [\"a\", \"of\", \"on\"]\n",
    "\n",
    "\n",
    "\"e e e e DDD ddd DdD: ddd ddd aa aA Aa, bb cc cC e e e\"\n",
    "\n",
    "--> [\"e\", \"ddd\", \"aa\"]\n",
    "\n",
    "\n",
    "\"  //wont won't won't\"\n",
    "\n",
    "--> [\"won't\", \"wont\"]"
   ]
  },
  {
   "cell_type": "markdown",
   "metadata": {},
   "source": [
    "#### Bonus points (not really, but just for fun):\n",
    "* Avoid creating an array whose memory footprint is roughly as big as the input text.\n",
    "* Avoid sorting the entire array of unique words.\n",
    "\n",
    "[LINK](https://www.codewars.com/kata/51e056fe544cf36c410000fb)"
   ]
  },
  {
   "cell_type": "code",
   "execution_count": 13,
   "metadata": {},
   "outputs": [],
   "source": [
    "import re\n",
    "\n",
    "def top_3_words(text):\n",
    "    text = text.lower()\n",
    "\n",
    "    pattern = re.compile(r\"'*[a-z]+[a-z']*[a-z]*'*\")\n",
    "    words = re.findall(pattern, text)\n",
    "\n",
    "    if len(words) < 2:\n",
    "        return words\n",
    "\n",
    "    words_dict = {}\n",
    "\n",
    "    for w in words:\n",
    "        if w not in words_dict:\n",
    "            words_dict[w] = 1\n",
    "        else:\n",
    "            words_dict[w] += 1\n",
    "\n",
    "    top_words = []\n",
    "\n",
    "    list_len = 3 if len(words_dict) >= 3 else len(words_dict)\n",
    "\n",
    "    for i in range(list_len):\n",
    "        word = \"\"\n",
    "        counter = 0\n",
    "        for w in words_dict:\n",
    "            if words_dict[w] > counter:\n",
    "                counter = words_dict[w]\n",
    "                word = w\n",
    "        top_words.append(word)\n",
    "        del words_dict[word]\n",
    "\n",
    "    return top_words"
   ]
  },
  {
   "cell_type": "code",
   "execution_count": 14,
   "metadata": {},
   "outputs": [
    {
     "name": "stdout",
     "output_type": "stream",
     "text": [
      "['e', 'd', 'a']\n",
      "['e', 'd', 'a']\n",
      "True\n"
     ]
    }
   ],
   "source": [
    "text = \"a a a  b  c c  d d d d  e e e e e\"\n",
    "test = top_3_words(text)\n",
    "answer = [\"e\", \"d\", \"a\"]\n",
    "print(answer)\n",
    "print(test)\n",
    "print(answer == test)"
   ]
  },
  {
   "cell_type": "code",
   "execution_count": 15,
   "metadata": {},
   "outputs": [
    {
     "name": "stdout",
     "output_type": "stream",
     "text": [
      "['e', 'ddd', 'aa']\n",
      "['e', 'ddd', 'aa']\n",
      "True\n"
     ]
    }
   ],
   "source": [
    "text = \"e e e e DDD ddd DdD: ddd ddd aa aA Aa, bb cc cC e e e\"\n",
    "test = top_3_words(text)\n",
    "answer = [\"e\", \"ddd\", \"aa\"]\n",
    "print(answer)\n",
    "print(test)\n",
    "print(answer == test)"
   ]
  },
  {
   "cell_type": "code",
   "execution_count": 16,
   "metadata": {},
   "outputs": [
    {
     "name": "stdout",
     "output_type": "stream",
     "text": [
      "[\"won't\", 'wont']\n",
      "[\"won't\", 'wont']\n",
      "True\n"
     ]
    }
   ],
   "source": [
    "text = \"  //wont won't won't \"\n",
    "test = top_3_words(text)\n",
    "answer = [\"won't\", \"wont\"]\n",
    "print(answer)\n",
    "print(test)\n",
    "print(answer == test)"
   ]
  },
  {
   "cell_type": "code",
   "execution_count": 17,
   "metadata": {},
   "outputs": [
    {
     "name": "stdout",
     "output_type": "stream",
     "text": [
      "['e']\n",
      "['e']\n",
      "True\n"
     ]
    }
   ],
   "source": [
    "text = \"  , e   .. \"\n",
    "test = top_3_words(text)\n",
    "answer = [\"e\"]\n",
    "print(answer)\n",
    "print(test)\n",
    "print(answer == test)"
   ]
  },
  {
   "cell_type": "code",
   "execution_count": 18,
   "metadata": {},
   "outputs": [
    {
     "name": "stdout",
     "output_type": "stream",
     "text": [
      "[]\n",
      "[]\n",
      "True\n"
     ]
    }
   ],
   "source": [
    "text = \"  ...  \"\n",
    "test = top_3_words(text)\n",
    "answer = []\n",
    "print(answer)\n",
    "print(test)\n",
    "print(answer == test)"
   ]
  },
  {
   "cell_type": "code",
   "execution_count": 19,
   "metadata": {},
   "outputs": [
    {
     "name": "stdout",
     "output_type": "stream",
     "text": [
      "[]\n",
      "[]\n",
      "True\n"
     ]
    }
   ],
   "source": [
    "text = \"  '  \"\n",
    "test = top_3_words(text)\n",
    "answer = []\n",
    "print(answer)\n",
    "print(test)\n",
    "print(answer == test)"
   ]
  },
  {
   "cell_type": "code",
   "execution_count": 20,
   "metadata": {},
   "outputs": [
    {
     "name": "stdout",
     "output_type": "stream",
     "text": [
      "[]\n",
      "[]\n",
      "True\n"
     ]
    }
   ],
   "source": [
    "text = \"  '''  \"\n",
    "test = top_3_words(text)\n",
    "answer = []\n",
    "print(answer)\n",
    "print(test)\n",
    "print(answer == test)"
   ]
  },
  {
   "cell_type": "code",
   "execution_count": 21,
   "metadata": {},
   "outputs": [
    {
     "name": "stdout",
     "output_type": "stream",
     "text": [
      "['a', 'of', 'on']\n",
      "['a', 'of', 'on']\n",
      "True\n"
     ]
    }
   ],
   "source": [
    "text = \"\"\"In a village of La Mancha, the name of which I have no desire to call to\n",
    "mind, there lived not long since one of those gentlemen that keep a lance\n",
    "in the lance-rack, an old buckler, a lean hack, and a greyhound for\n",
    "coursing. An olla of rather more beef than mutton, a salad on most\n",
    "nights, scraps on Saturdays, lentils on Fridays, and a pigeon or so extra\n",
    "on Sundays, made away with three-quarters of his income.\"\"\"\n",
    "test = top_3_words(text)\n",
    "answer = [\"a\", \"of\", \"on\"]\n",
    "print(answer)\n",
    "print(test)\n",
    "print(answer == test)"
   ]
  },
  {
   "cell_type": "code",
   "execution_count": 22,
   "metadata": {},
   "outputs": [
    {
     "name": "stderr",
     "output_type": "stream",
     "text": [
      "test (__main__.TestTop3Words.test) ... ok\n",
      "\n",
      "----------------------------------------------------------------------\n",
      "Ran 1 test in 0.002s\n",
      "\n",
      "OK\n"
     ]
    },
    {
     "data": {
      "text/plain": [
       "<unittest.main.TestProgram at 0x28372e9acd0>"
      ]
     },
     "execution_count": 22,
     "metadata": {},
     "output_type": "execute_result"
    }
   ],
   "source": [
    "import unittest\n",
    "\n",
    "class TestTop3Words(unittest.TestCase):\n",
    "    def test(self):\n",
    "        self.assertEqual(top_3_words(\"a a a  b  c c  d d d d  e e e e e\"), [\"e\", \"d\", \"a\"])\n",
    "        self.assertEqual(top_3_words(\"e e e e DDD ddd DdD: ddd ddd aa aA Aa, bb cc cC e e e\"), [\"e\", \"ddd\", \"aa\"])\n",
    "        self.assertEqual(top_3_words(\"  //wont won't won't \"), [\"won't\", \"wont\"])\n",
    "        self.assertEqual(top_3_words(\"  , e   .. \"), [\"e\"])\n",
    "        self.assertEqual(top_3_words(\"  ...  \"), [])\n",
    "        self.assertEqual(top_3_words(\"  '  \"), [])\n",
    "        self.assertEqual(top_3_words(\"  '''  \"), [])\n",
    "        self.assertEqual(top_3_words(\"\"\"In a village of La Mancha, the name of which I have no desire to call to\n",
    "        mind, there lived not long since one of those gentlemen that keep a lance\n",
    "        in the lance-rack, an old buckler, a lean hack, and a greyhound for\n",
    "        coursing. An olla of rather more beef than mutton, a salad on most\n",
    "        nights, scraps on Saturdays, lentils on Fridays, and a pigeon or so extra\n",
    "        on Sundays, made away with three-quarters of his income.\"\"\"), [\"a\", \"of\", \"on\"])\n",
    "\n",
    "unittest.main(argv=[''], defaultTest='TestTop3Words', verbosity=2, exit=False)"
   ]
  },
  {
   "cell_type": "markdown",
   "metadata": {},
   "source": [
    "### Other amazingly short solution"
   ]
  },
  {
   "cell_type": "code",
   "execution_count": 23,
   "metadata": {},
   "outputs": [],
   "source": [
    "import re\n",
    "from collections import Counter\n",
    "\n",
    "def top_3_words(text):\n",
    "    words = re.findall(r\"[a-z']*[a-z]+[a-z']*\", text.lower())\n",
    "    top_3 = Counter(words).most_common(3)\n",
    "    return [tup[0] for tup in top_3]"
   ]
  },
  {
   "cell_type": "code",
   "execution_count": null,
   "metadata": {},
   "outputs": [],
   "source": []
  }
 ],
 "metadata": {
  "kernelspec": {
   "display_name": "venv",
   "language": "python",
   "name": "python3"
  },
  "language_info": {
   "codemirror_mode": {
    "name": "ipython",
    "version": 3
   },
   "file_extension": ".py",
   "mimetype": "text/x-python",
   "name": "python",
   "nbconvert_exporter": "python",
   "pygments_lexer": "ipython3",
   "version": "3.11.3"
  }
 },
 "nbformat": 4,
 "nbformat_minor": 2
}
