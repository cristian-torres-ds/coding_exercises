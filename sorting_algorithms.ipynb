{
 "cells": [
  {
   "cell_type": "markdown",
   "metadata": {},
   "source": [
    "# Sorting Algorithms"
   ]
  },
  {
   "cell_type": "raw",
   "metadata": {},
   "source": [
    "<img src=\"src/insertion_sort_02.png\" alt=\"Reducible\" width=\"900\" height=\"auto\">"
   ]
  },
  {
   "cell_type": "markdown",
   "metadata": {},
   "source": [
    "## Insertion Sort\n",
    "Insertion sort is a simple sorting algorithm that works similarly to the way you sort playing cards in your hands. The array is virtually split into a sorted and an unsorted part. Values from the unsorted part are picked and placed at the correct position in the sorted part. Insertion sort is fast and best suitable either when the problem size is small (because it has low overhead) or when the data is nearly sorted (because it is adaptive).\n",
    "\n",
    "<img src=\"src/sorting_algorithms/insertion_sort_01.png\" alt=\"Reducible\"> <br>\n",
    "\n",
    "<img src=\"src/sorting_algorithms/insertion_sort_02.png\" alt=\"Reducible\">"
   ]
  },
  {
   "cell_type": "code",
   "execution_count": 1,
   "metadata": {},
   "outputs": [],
   "source": [
    "def insertion_sort(arr):\n",
    "    n = len(arr)\n",
    "\n",
    "    if n <= 1:\n",
    "        return\n",
    "\n",
    "    for i in range(1, n):\n",
    "        key = arr[i]\n",
    "        j = i-1\n",
    "        while j >= 0 and key < arr[j]:\n",
    "            arr[j+1] = arr[j]\n",
    "            j -= 1\n",
    "        arr[j+1] = key"
   ]
  },
  {
   "cell_type": "code",
   "execution_count": 2,
   "metadata": {},
   "outputs": [
    {
     "name": "stdout",
     "output_type": "stream",
     "text": [
      "[0, 1, 2, 3, 4, 5, 6, 7, 8, 9]\n"
     ]
    }
   ],
   "source": [
    "arr = [9, 6, 5, 0, 8, 2, 7, 1, 3, 4]\n",
    "insertion_sort(arr)\n",
    "print(arr)"
   ]
  },
  {
   "cell_type": "markdown",
   "metadata": {},
   "source": [
    "---"
   ]
  },
  {
   "cell_type": "markdown",
   "metadata": {},
   "source": [
    "## Selection Sort\n",
    "The selection sort algorithm sorts an array by repeatedly finding the minimum element (considering ascending order) from the unsorted part and putting it at the beginning. The algorithm maintains two subarrays in a given array:\n",
    "- The subarray which is already sorted\n",
    "- Remaining subarray which is unsorted\n",
    "\n",
    "In every iteration/pass of selection sort, the minimum element (considering ascending order) from the unsorted subarray is picked and moved to the sorted subarray. The selection sort has the property of minimizing the number of swaps. Therefore, it is the best choice when the cost of swapping is high.\n",
    "\n",
    "<img src=\"src/sorting_algorithms/selection_sort_01.png\" alt=\"Reducible\"> <br>\n",
    "\n",
    "<img src=\"src/sorting_algorithms/selection_sort_02.png\" alt=\"Reducible\">"
   ]
  },
  {
   "cell_type": "code",
   "execution_count": 5,
   "metadata": {},
   "outputs": [
    {
     "name": "stdout",
     "output_type": "stream",
     "text": [
      "[8, 23, 32, 45, 46, 78]\n"
     ]
    }
   ],
   "source": [
    "def selection_sort(arr):\n",
    "    length = len(arr)\n",
    "\n",
    "    for i in range(length):\n",
    "        min_index = i\n",
    "        for j in range(i+1, length):\n",
    "            if arr[j] < arr[min_index]:\n",
    "                min_index = j\n",
    "        arr[i], arr[min_index] = arr[min_index], arr[i]\n",
    "\n",
    "\n",
    "arr = [23, 78, 45, 8, 32, 46]\n",
    "selection_sort(arr)\n",
    "print(arr)"
   ]
  },
  {
   "cell_type": "markdown",
   "metadata": {},
   "source": [
    "---"
   ]
  },
  {
   "cell_type": "markdown",
   "metadata": {},
   "source": [
    "## Bubble Sort\n",
    "Bubble Sort is the sorting algorithm that works by repeatedly swapping the adjacent elements if they are in the wrong order. After each iteration or pass, the largest element reaches the end (in case of ascending order) or the smallest element reaches the end (in case of descending order). The pass through the list is repeated until the list is sorted. This algorithm is not suitable for large data sets as its average and worst-case complexity are of Ο(n^2) where n is the number of items\n",
    "\n",
    "<img src=\"src/sorting_algorithms/bubble_sort_01.png\" alt=\"Reducible\"> <br>\n",
    "\n",
    "<img src=\"src/sorting_algorithms/bubble_sort_02.png\" alt=\"Reducible\">"
   ]
  },
  {
   "cell_type": "code",
   "execution_count": 16,
   "metadata": {},
   "outputs": [
    {
     "name": "stdout",
     "output_type": "stream",
     "text": [
      "[11, 12, 22, 25, 34, 64, 90]\n"
     ]
    }
   ],
   "source": [
    "def merge_sort(arr):\n",
    "    length = len(arr)\n",
    "    swapped = False\n",
    "\n",
    "    while length > 1:\n",
    "        for i in range(length-1):\n",
    "            if arr[i] > arr[i+1]:\n",
    "                swapped = True\n",
    "                arr[i], arr[i+1] = arr[i+1], arr[i]\n",
    "        length -= 1\n",
    "        if swapped == False:\n",
    "            break\n",
    "\n",
    "\n",
    "arr = [64, 34, 25, 12, 22, 11, 90]\n",
    "merge_sort(arr)\n",
    "print(arr)"
   ]
  },
  {
   "cell_type": "markdown",
   "metadata": {},
   "source": [
    "---"
   ]
  },
  {
   "cell_type": "markdown",
   "metadata": {},
   "source": [
    "## Merge Sort\n",
    "Unlike the above three sorting algorithms, this algorithm is based on the divide-and-conquer technique. It divides the input array into two halves, calls itself for the two halves, and then merges the two sorted halves. The heart of the Merge Sort is the `merge()` function, which is used for merging two halves. The merge(A, p, q, r) is a key process that assumes that A[p..q] and A[q+1..r] are sorted and merges the two sorted sub-arrays into one.\n",
    "\n",
    "Merge Sort is the only option when you need a stable and O(N log N) sort.\n",
    "\n",
    "merge( ) function\n",
    "Merge procedure is also known as out-of-place procedure\n",
    "\n",
    "<img src=\"src/sorting_algorithms/merge_sort_01.png\" alt=\"Reducible\"> <br>\n",
    "\n",
    "<img src=\"src/sorting_algorithms/merge_sort_02.png\" alt=\"Reducible\">"
   ]
  },
  {
   "cell_type": "code",
   "execution_count": null,
   "metadata": {},
   "outputs": [],
   "source": []
  },
  {
   "cell_type": "markdown",
   "metadata": {},
   "source": [
    "---"
   ]
  },
  {
   "cell_type": "markdown",
   "metadata": {},
   "source": [
    "## Quick Sort\n",
    "\n",
    "Quick Sort is also a Divide and Conquer algorithm. It picks an element as a pivot and partitions the given array around the picked pivot such that all the smaller elements are to the left of the pivot and all the greater elements are to the right of the pivot. There are many different versions of quickSort that pick pivot in different ways:\n",
    "\n",
    "- Always pick the first element as a pivot.\n",
    "- Always pick the last element as the pivot (implemented below).\n",
    "- Pick a random element as a pivot.\n",
    "- Pick the median as a pivot.\n",
    "\n",
    "The key process in quicksort is the partition() method. The target of partitions is, given an array and an element *r* of the array as a pivot, put *r* at its correct position in a sorted array and put all smaller elements (smaller than *r*) before *r*, and put all greater elements (greater than *r*) after *r*. All this should be done in linear time.\n",
    "\n",
    "For small inputs, quicksort is the best algorithm as compared to the merge sort. When you don’t need a stable sort and average-case performance matters more than worst-case performance, go for quicksort. Let’s see the partition algorithm and its implementation first.\n",
    "\n",
    "**partition( ) algorithm** <br>\n",
    "We start from the rightmost element and keep track of the index of smaller (or equal to) elements as *r*.\n",
    "\n",
    "- If we find an element *j* which is less than *r*, then we increment *i* pointer and swap the elements of *i* and *j*.\n",
    "- If we find an element *j* which is greater than *r*, then we simply increment *j* pointer.\n",
    "\n",
    "<img src=\"src/sorting_algorithms/quick_sort_01.png\" alt=\"Reducible\"> <br>\n",
    "\n",
    "The entire quick sort works in the following manner:\n",
    "\n",
    "It checks for condition *p*<*r*. If True, it enters the if loop else it comes out of the loop <br>\n",
    "Then, the partition algorithm is applied in order to choose the pivot element and put it in the right place.<br>\n",
    "After the partition algorithm, the entire array is divided into two halves such that all the elements smaller than the pivot element are to the left of it and all the elements greater than the pivot element are to the right of it.<br>\n",
    "Quick Sort is applied on both halves.<br>\n",
    "The entire loop continues to break the array into two parts till we find an element such that *p*>*r*.\n",
    "\n",
    "<img src=\"src/sorting_algorithms/quick_sort_02.png\" alt=\"Reducible\"> <br>"
   ]
  },
  {
   "cell_type": "code",
   "execution_count": null,
   "metadata": {},
   "outputs": [],
   "source": []
  }
 ],
 "metadata": {
  "kernelspec": {
   "display_name": "venv",
   "language": "python",
   "name": "python3"
  },
  "language_info": {
   "codemirror_mode": {
    "name": "ipython",
    "version": 3
   },
   "file_extension": ".py",
   "mimetype": "text/x-python",
   "name": "python",
   "nbconvert_exporter": "python",
   "pygments_lexer": "ipython3",
   "version": "3.11.3"
  }
 },
 "nbformat": 4,
 "nbformat_minor": 2
}
