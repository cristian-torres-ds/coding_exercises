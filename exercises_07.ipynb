{
 "cells": [
  {
   "cell_type": "markdown",
   "metadata": {},
   "source": [
    "# Duplicate Encoder\n",
    "\n",
    "The goal of this exercise is to convert a string to a new string where each character in the new string is \"(\" if that character appears only once in the original string, or \")\" if that character appears more than once in the original string. Ignore capitalization when determining if a character is a duplicate.\n",
    "\n",
    "Examples:\n",
    "\n",
    "`\"din\"      =>  \"(((\"`\n",
    "\n",
    "`\"recede\"   =>  \"()()()\"`\n",
    "\n",
    "`\"Success\"  =>  \")())())\"`\n",
    "\n",
    "`\"(( @\"     =>  \"))((\"`\n",
    "\n",
    "Notes:\n",
    "\n",
    "Assertion messages may be unclear about what they display in some languages.\n",
    "\n",
    "If you read \"...It Should encode XXX\", the \"XXX\" is the expected result, not the input!\n",
    "\n",
    "[LINK](https://www.codewars.com/kata/54b42f9314d9229fd6000d9c)"
   ]
  },
  {
   "cell_type": "code",
   "execution_count": 28,
   "metadata": {},
   "outputs": [],
   "source": [
    "def duplicate_encode(word):\n",
    "    word = word.lower()\n",
    "    length = len(word)\n",
    "    word_list = list(word)\n",
    "    encoded_list = []\n",
    "    for i in range(length):\n",
    "        if word_list[i] not in (word_list[:i] + word_list[i+1:]):\n",
    "            encoded_list.append('(')\n",
    "        else:\n",
    "            encoded_list.append(')')\n",
    "\n",
    "    encoded = ''.join(encoded_list)\n",
    "\n",
    "    return encoded"
   ]
  },
  {
   "cell_type": "code",
   "execution_count": 29,
   "metadata": {},
   "outputs": [
    {
     "name": "stdout",
     "output_type": "stream",
     "text": [
      "(((\n",
      "(((\n",
      "True\n"
     ]
    }
   ],
   "source": [
    "test = duplicate_encode(\"din\")\n",
    "answer = \"(((\"\n",
    "print(test)\n",
    "print(answer)\n",
    "print(test == answer)"
   ]
  },
  {
   "cell_type": "code",
   "execution_count": 30,
   "metadata": {},
   "outputs": [
    {
     "name": "stdout",
     "output_type": "stream",
     "text": [
      "()()()\n",
      "()()()\n",
      "True\n"
     ]
    }
   ],
   "source": [
    "test = duplicate_encode(\"recede\")\n",
    "answer = \"()()()\"\n",
    "print(test)\n",
    "print(answer)\n",
    "print(test == answer)"
   ]
  },
  {
   "cell_type": "code",
   "execution_count": 31,
   "metadata": {},
   "outputs": [
    {
     "name": "stdout",
     "output_type": "stream",
     "text": [
      ")())())\n",
      ")())())\n",
      "True\n"
     ]
    }
   ],
   "source": [
    "test = duplicate_encode(\"Success\")\n",
    "answer = \")())())\"\n",
    "print(test)\n",
    "print(answer)\n",
    "print(test == answer)"
   ]
  },
  {
   "cell_type": "code",
   "execution_count": 32,
   "metadata": {},
   "outputs": [
    {
     "name": "stdout",
     "output_type": "stream",
     "text": [
      "))((\n",
      "))((\n",
      "True\n"
     ]
    }
   ],
   "source": [
    "test = duplicate_encode(\"(( @\")\n",
    "answer = \"))((\"\n",
    "print(test)\n",
    "print(answer)\n",
    "print(test == answer)"
   ]
  },
  {
   "cell_type": "code",
   "execution_count": null,
   "metadata": {},
   "outputs": [],
   "source": []
  }
 ],
 "metadata": {
  "kernelspec": {
   "display_name": "venv",
   "language": "python",
   "name": "python3"
  },
  "language_info": {
   "codemirror_mode": {
    "name": "ipython",
    "version": 3
   },
   "file_extension": ".py",
   "mimetype": "text/x-python",
   "name": "python",
   "nbconvert_exporter": "python",
   "pygments_lexer": "ipython3",
   "version": "3.11.3"
  }
 },
 "nbformat": 4,
 "nbformat_minor": 2
}
