{
 "cells": [
  {
   "cell_type": "markdown",
   "metadata": {},
   "source": [
    "# Decode the Morse code [LINK]()\n",
    "\n",
    "### Part of Series 1/3\n",
    "\n",
    "In this kata you have to write a simple [Morse code](https://en.wikipedia.org/wiki/Morse_code) decoder. While the Morse code is now mostly superseded by voice and digital data communication channels, it still has its use in some applications around the world.\n",
    "\n",
    "The Morse code encodes every character as a sequence of \"dots\" and \"dashes\". For example, the letter `A` is coded as `·−`, letter `Q` is coded as `−−·−`, and digit `1` is coded as `·−−−−`. The Morse code is case-insensitive, traditionally capital letters are used. When the message is written in Morse code, a single space is used to separate the character codes and 3 spaces are used to separate words. For example, the message `HEY JUDE` in Morse code is ```···· · −·−−   ·−−− ··− −·· ·```.\n",
    "\n",
    "**NOTE:** Extra spaces before or after the code have no meaning and should be ignored.\n",
    "\n",
    "In addition to letters, digits and some punctuation, there are some special service codes, the most notorious of those is the international distress signal [SOS](https://en.wikipedia.org/wiki/SOS) (that was first issued by [Titanic](https://en.wikipedia.org/wiki/Titanic)), that is coded as `···−−−···`. These special codes are treated as single special characters, and usually are transmitted as separate words.\n",
    "\n",
    "Your task is to implement a function that would take the morse code as input and return a decoded human-readable string.\n",
    "\n",
    "For example:\n",
    "\n",
    "```\n",
    "decode_morse('.... . -.--   .--- ..- -.. .')\n",
    "#should return \"HEY JUDE\"\n",
    "```\n",
    "\n",
    "**NOTE:** For coding purposes you have to use ASCII characters `.` and `-`, not Unicode characters.\n",
    "\n",
    "The Morse code table is preloaded for you as a dictionary, feel free to use it:\n",
    "\n",
    "* Coffeescript/C++/Go/JavaScript/Julia/PHP/Python/Ruby/TypeScript: `MORSE_CODE['.--']`\n",
    "* C#: `MorseCode.Get(\".--\")` (returns string)\n",
    "* F#: `MorseCode.get \".--\"` (returns string)\n",
    "* Elixir: `@morse_codes` variable (from `use MorseCode.Constants`). Ignore the unused variable warning for `morse_codes because` it's no longer used and kept only for old solutions.\n",
    "* Elm: `MorseCodes.get : Dict String String`\n",
    "* Haskell: `morseCodes ! \".--\"` (Codes are in a `Map String String`)\n",
    "* Java: `MorseCode.get(\".--\")`\n",
    "* Kotlin: `MorseCode[\".--\"] ?: \"\"` or `MorseCode.getOrDefault(\".--\", \"\")`\n",
    "* Racket: `morse-code` (a hash table)\n",
    "* Rust: `MORSE_CODE`\n",
    "* Scala: `morseCodes(\".--\")`\n",
    "* Swift: `MorseCode[\".--\"] ?? \"\"` or `MorseCode[\".--\", default: \"\"]`\n",
    "* C: provides parallel arrays, i.e. `morse[2] == \"-.-\"` for `ascii[2] == \"C\"`\n",
    "* NASM: a table of pointers to the morsecodes, and a corresponding list of ascii symbols\n",
    "\n",
    "All the test strings would contain valid Morse code, so you may skip checking for errors and exceptions. In C#, tests will fail if the solution code throws an exception, please keep that in mind. This is mostly because otherwise the engine would simply ignore the tests, resulting in a \"valid\" solution.\n",
    "\n",
    "Good luck!\n",
    "\n",
    "After you complete this kata, you may try yourself at [Decode the Morse code, advanced](http://www.codewars.com/kata/decode-the-morse-code-advanced)."
   ]
  },
  {
   "cell_type": "code",
   "execution_count": 1,
   "metadata": {},
   "outputs": [],
   "source": [
    "MORSE_CODE = {\n",
    "    'A': '.-', 'B': '-...', 'C': '-.-.', 'D': '-..', 'E': '.', 'F': '..-.', 'G': '--.', 'H': '....',\n",
    "    'I': '..', 'J': '.---', 'K': '-.-', 'L': '.-..', 'M': '--', 'N': '-.', 'O': '---', 'P': '.--.',\n",
    "    'Q': '--.-', 'R': '.-.', 'S': '...', 'T': '-', 'U': '..-', 'V': '...-', 'W': '.--', 'X': '-..-',\n",
    "    'Y': '-.--', 'Z': '--..', '0': '-----', '1': '.----', '2': '..---', '3': '...--', '4': '....-',\n",
    "    '5': '.....', '6': '-....', '7': '--...', '8': '---..', '9': '----.', '.': '.-.-.-', ',': '--..--',\n",
    "    '?': '..--..', \"'\": '.----.', '!': '-.-.--', '/': '-..-.', '(': '-.--.', ')': '-.--.-', '&': '.-...',\n",
    "    ':': '---...', ';': '-.-.-.', '=': '-...-', '+': '.-.-.', '-': '-....-', '_': '..--.-', '\"': '.-..-.',\n",
    "    '$': '...-..-', '@': '.--.-.', ' ': '/'\n",
    "}"
   ]
  },
  {
   "cell_type": "code",
   "execution_count": 10,
   "metadata": {},
   "outputs": [],
   "source": [
    "def decode_morse(morse_code):\n",
    "    MORSE_CODE['SOS'] = '...---...'\n",
    "    list_keys = list(MORSE_CODE.keys())\n",
    "    list_values = list(MORSE_CODE.values())\n",
    "\n",
    "    words = []\n",
    "    words_morse = morse_code.split('   ')\n",
    "\n",
    "    for w in words_morse:\n",
    "        char = w.split(' ')\n",
    "        for c in char:\n",
    "            words.append(list_keys[list_values.index(c)])\n",
    "        words.append(' ')\n",
    "\n",
    "    result = ''.join(words).rstrip()\n",
    "\n",
    "    return result"
   ]
  },
  {
   "cell_type": "code",
   "execution_count": 26,
   "metadata": {},
   "outputs": [],
   "source": [
    "list_keys = list(MORSE_CODE.keys())\n",
    "list_values = list(MORSE_CODE.values())\n",
    "\n",
    "for i in range(len(list_keys)):\n",
    "    MORSE_CODE[list_values[i]] = list_keys[i]"
   ]
  },
  {
   "cell_type": "code",
   "execution_count": 43,
   "metadata": {},
   "outputs": [],
   "source": [
    "def decode_morse(morse_code):\n",
    "    MORSE_CODE['...---...'] = 'SOS'\n",
    "\n",
    "    words = []\n",
    "    words_morse = morse_code.strip().split('   ')\n",
    "\n",
    "    for w in words_morse:\n",
    "        char = w.split(' ')\n",
    "        for c in char:\n",
    "            words.append(MORSE_CODE[c])\n",
    "        words.append(' ')\n",
    "\n",
    "    result = ''.join(words).rstrip()\n",
    "\n",
    "    return result"
   ]
  },
  {
   "cell_type": "code",
   "execution_count": 44,
   "metadata": {},
   "outputs": [
    {
     "name": "stdout",
     "output_type": "stream",
     "text": [
      "HEY JUDE\n",
      "HEY JUDE\n",
      "True\n"
     ]
    }
   ],
   "source": [
    "input = '.... . -.--   .--- ..- -.. .'\n",
    "output = decode_morse(input)\n",
    "correct_answer = \"HEY JUDE\"\n",
    "print(correct_answer)\n",
    "print(output)\n",
    "print(correct_answer == output)"
   ]
  },
  {
   "cell_type": "code",
   "execution_count": 45,
   "metadata": {},
   "outputs": [
    {
     "name": "stdout",
     "output_type": "stream",
     "text": [
      "A\n",
      "A\n",
      "True\n"
     ]
    }
   ],
   "source": [
    "input = '.-'\n",
    "output = decode_morse(input)\n",
    "correct_answer = \"A\"\n",
    "print(correct_answer)\n",
    "print(output)\n",
    "print(correct_answer == output)"
   ]
  },
  {
   "cell_type": "code",
   "execution_count": 46,
   "metadata": {},
   "outputs": [
    {
     "name": "stdout",
     "output_type": "stream",
     "text": [
      "7\n",
      "7\n",
      "True\n"
     ]
    }
   ],
   "source": [
    "input = '--...'\n",
    "output = decode_morse(input)\n",
    "correct_answer = \"7\"\n",
    "print(correct_answer)\n",
    "print(output)\n",
    "print(correct_answer == output)"
   ]
  },
  {
   "cell_type": "code",
   "execution_count": 47,
   "metadata": {},
   "outputs": [
    {
     "name": "stdout",
     "output_type": "stream",
     "text": [
      "$\n",
      "$\n",
      "True\n"
     ]
    }
   ],
   "source": [
    "input = '...-..-'\n",
    "output = decode_morse(input)\n",
    "correct_answer = \"$\"\n",
    "print(correct_answer)\n",
    "print(output)\n",
    "print(correct_answer == output)"
   ]
  },
  {
   "cell_type": "code",
   "execution_count": 48,
   "metadata": {},
   "outputs": [
    {
     "name": "stdout",
     "output_type": "stream",
     "text": [
      "E\n",
      "E\n",
      "True\n"
     ]
    }
   ],
   "source": [
    "input = '.'\n",
    "output = decode_morse(input)\n",
    "correct_answer = \"E\"\n",
    "print(correct_answer)\n",
    "print(output)\n",
    "print(correct_answer == output)"
   ]
  },
  {
   "cell_type": "code",
   "execution_count": 49,
   "metadata": {},
   "outputs": [
    {
     "name": "stdout",
     "output_type": "stream",
     "text": [
      "I\n",
      "I\n",
      "True\n"
     ]
    }
   ],
   "source": [
    "input = '..'\n",
    "output = decode_morse(input)\n",
    "correct_answer = \"I\"\n",
    "print(correct_answer)\n",
    "print(output)\n",
    "print(correct_answer == output)"
   ]
  },
  {
   "cell_type": "code",
   "execution_count": 50,
   "metadata": {},
   "outputs": [
    {
     "name": "stdout",
     "output_type": "stream",
     "text": [
      "EE\n",
      "EE\n",
      "True\n"
     ]
    }
   ],
   "source": [
    "input = '. .'\n",
    "output = decode_morse(input)\n",
    "correct_answer = \"EE\"\n",
    "print(correct_answer)\n",
    "print(output)\n",
    "print(correct_answer == output)"
   ]
  },
  {
   "cell_type": "code",
   "execution_count": 51,
   "metadata": {},
   "outputs": [
    {
     "name": "stdout",
     "output_type": "stream",
     "text": [
      "E E\n",
      "E E\n",
      "True\n"
     ]
    }
   ],
   "source": [
    "input = '.   .'\n",
    "output = decode_morse(input)\n",
    "correct_answer = \"E E\"\n",
    "print(correct_answer)\n",
    "print(output)\n",
    "print(correct_answer == output)"
   ]
  },
  {
   "cell_type": "code",
   "execution_count": 52,
   "metadata": {},
   "outputs": [
    {
     "name": "stdout",
     "output_type": "stream",
     "text": [
      "$$$\n",
      "$$$\n",
      "True\n"
     ]
    }
   ],
   "source": [
    "input = '...-..- ...-..- ...-..-'\n",
    "output = decode_morse(input)\n",
    "correct_answer = \"$$$\"\n",
    "print(correct_answer)\n",
    "print(output)\n",
    "print(correct_answer == output)"
   ]
  },
  {
   "cell_type": "code",
   "execution_count": 53,
   "metadata": {},
   "outputs": [
    {
     "name": "stdout",
     "output_type": "stream",
     "text": [
      "01289\n",
      "01289\n",
      "True\n"
     ]
    }
   ],
   "source": [
    "input = '----- .---- ..--- ---.. ----.'\n",
    "output = decode_morse(input)\n",
    "correct_answer = \"01289\"\n",
    "print(correct_answer)\n",
    "print(output)\n",
    "print(correct_answer == output)"
   ]
  },
  {
   "cell_type": "code",
   "execution_count": 54,
   "metadata": {},
   "outputs": [
    {
     "name": "stdout",
     "output_type": "stream",
     "text": [
      "&: /7\n",
      "&: /7\n",
      "True\n"
     ]
    }
   ],
   "source": [
    "input = '.-... ---...   -..-. --...'\n",
    "output = decode_morse(input)\n",
    "correct_answer = \"&: /7\"\n",
    "print(correct_answer)\n",
    "print(output)\n",
    "print(correct_answer == output)"
   ]
  },
  {
   "cell_type": "code",
   "execution_count": 55,
   "metadata": {},
   "outputs": [
    {
     "name": "stdout",
     "output_type": "stream",
     "text": [
      "SOS\n",
      "SOS\n",
      "True\n"
     ]
    }
   ],
   "source": [
    "input = '...---...'\n",
    "output = decode_morse(input)\n",
    "correct_answer = \"SOS\"\n",
    "print(correct_answer)\n",
    "print(output)\n",
    "print(correct_answer == output)"
   ]
  },
  {
   "cell_type": "code",
   "execution_count": 56,
   "metadata": {},
   "outputs": [
    {
     "name": "stdout",
     "output_type": "stream",
     "text": [
      "SOS\n",
      "SOS\n",
      "True\n"
     ]
    }
   ],
   "source": [
    "input = '... --- ...'\n",
    "output = decode_morse(input)\n",
    "correct_answer = \"SOS\"\n",
    "print(correct_answer)\n",
    "print(output)\n",
    "print(correct_answer == output)"
   ]
  },
  {
   "cell_type": "code",
   "execution_count": 57,
   "metadata": {},
   "outputs": [
    {
     "name": "stdout",
     "output_type": "stream",
     "text": [
      "S O S\n",
      "S O S\n",
      "True\n"
     ]
    }
   ],
   "source": [
    "input = '...   ---   ...'\n",
    "output = decode_morse(input)\n",
    "correct_answer = \"S O S\"\n",
    "print(correct_answer)\n",
    "print(output)\n",
    "print(correct_answer == output)"
   ]
  },
  {
   "cell_type": "code",
   "execution_count": 58,
   "metadata": {},
   "outputs": [
    {
     "name": "stdout",
     "output_type": "stream",
     "text": [
      "E\n",
      "E\n",
      "True\n"
     ]
    }
   ],
   "source": [
    "input = ' . '\n",
    "output = decode_morse(input)\n",
    "correct_answer = \"E\"\n",
    "print(correct_answer)\n",
    "print(output)\n",
    "print(correct_answer == output)"
   ]
  },
  {
   "cell_type": "code",
   "execution_count": 59,
   "metadata": {},
   "outputs": [
    {
     "name": "stdout",
     "output_type": "stream",
     "text": [
      "E E\n",
      "E E\n",
      "True\n"
     ]
    }
   ],
   "source": [
    "input = '   .   . '\n",
    "output = decode_morse(input)\n",
    "correct_answer = \"E E\"\n",
    "print(correct_answer)\n",
    "print(output)\n",
    "print(correct_answer == output)"
   ]
  },
  {
   "cell_type": "code",
   "execution_count": 60,
   "metadata": {},
   "outputs": [
    {
     "name": "stdout",
     "output_type": "stream",
     "text": [
      "SOS! THE QUICK BROWN FOX JUMPS OVER THE LAZY DOG.\n",
      "SOS! THE QUICK BROWN FOX JUMPS OVER THE LAZY DOG.\n",
      "True\n"
     ]
    }
   ],
   "source": [
    "input = '      ...---... -.-.--   - .... .   --.- ..- .. -.-. -.-   -... .-. --- .-- -.   ..-. --- -..-   .--- ..- -- .--. ...   --- ...- . .-.   - .... .   .-.. .- --.. -.--   -.. --- --. .-.-.-  '\n",
    "output = decode_morse(input)\n",
    "correct_answer = \"SOS! THE QUICK BROWN FOX JUMPS OVER THE LAZY DOG.\"\n",
    "print(correct_answer)\n",
    "print(output)\n",
    "print(correct_answer == output)"
   ]
  }
 ],
 "metadata": {
  "kernelspec": {
   "display_name": "venv",
   "language": "python",
   "name": "python3"
  },
  "language_info": {
   "codemirror_mode": {
    "name": "ipython",
    "version": 3
   },
   "file_extension": ".py",
   "mimetype": "text/x-python",
   "name": "python",
   "nbconvert_exporter": "python",
   "pygments_lexer": "ipython3",
   "version": "3.11.3"
  }
 },
 "nbformat": 4,
 "nbformat_minor": 2
}
