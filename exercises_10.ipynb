{
 "cells": [
  {
   "cell_type": "markdown",
   "metadata": {},
   "source": [
    "# Shortest steps to a number - [LINK](https://www.codewars.com/kata/5cd4aec6abc7260028dcd942/train/python)\n",
    "\n",
    "#### Summary:\n",
    "Given a number, `num`, return the shortest amount of `steps` it would take from 1, to land exactly on that number.\n",
    "\n",
    "#### Description:\n",
    "A `step` is defined as either:\n",
    "* Adding 1 to the number: `num += 1`\n",
    "* Doubling the number: `num *= 2`\n",
    "\n",
    "You will always start from the number `1` and you will have to return the shortest count of steps it would take to land exactly on that number.\n",
    "\n",
    "`1 <= num <= 10000`\n",
    "\n",
    "#### Examples:\n",
    "\n",
    "`num == 3` would return `2` steps:"
   ]
  },
  {
   "cell_type": "raw",
   "metadata": {},
   "source": [
    "1 -- +1 --> 2:        1 step\n",
    "2 -- +1 --> 3:        2 steps\n",
    "\n",
    "2 steps"
   ]
  },
  {
   "cell_type": "markdown",
   "metadata": {},
   "source": [
    "`num == 12` would return `4` steps:"
   ]
  },
  {
   "cell_type": "raw",
   "metadata": {},
   "source": [
    "1 -- +1 --> 2:        1 step\n",
    "2 -- +1 --> 3:        2 steps\n",
    "3 -- x2 --> 6:        3 steps\n",
    "6 -- x2 --> 12:       4 steps\n",
    "\n",
    "4 steps"
   ]
  },
  {
   "cell_type": "markdown",
   "metadata": {},
   "source": [
    "`num == 16` would return `4` steps:"
   ]
  },
  {
   "cell_type": "raw",
   "metadata": {},
   "source": [
    "1 -- +1 --> 2:        1 step\n",
    "2 -- x2 --> 4:        2 steps\n",
    "4 -- x2 --> 8:        3 steps\n",
    "8 -- x2 --> 16:       4 steps\n",
    "\n",
    "4 steps"
   ]
  },
  {
   "cell_type": "code",
   "execution_count": 29,
   "metadata": {},
   "outputs": [],
   "source": [
    "def shortest_steps_to_num(num):\n",
    "    steps = 0\n",
    "\n",
    "    while num > 1:\n",
    "        if num % 2 == 0:\n",
    "            num /= 2\n",
    "        else:\n",
    "            num -= 1\n",
    "        steps += 1\n",
    "\n",
    "    return steps"
   ]
  },
  {
   "cell_type": "code",
   "execution_count": 30,
   "metadata": {},
   "outputs": [
    {
     "name": "stdout",
     "output_type": "stream",
     "text": [
      "0\n",
      "0\n",
      "True\n"
     ]
    }
   ],
   "source": [
    "input = 1\n",
    "output = shortest_steps_to_num(input)\n",
    "answer = 0\n",
    "print(answer)\n",
    "print(output)\n",
    "print(answer == output)"
   ]
  },
  {
   "cell_type": "code",
   "execution_count": 31,
   "metadata": {},
   "outputs": [
    {
     "name": "stdout",
     "output_type": "stream",
     "text": [
      "4\n",
      "4\n",
      "True\n"
     ]
    }
   ],
   "source": [
    "input = 12\n",
    "output = shortest_steps_to_num(input)\n",
    "answer = 4\n",
    "print(answer)\n",
    "print(output)\n",
    "print(answer == output)"
   ]
  },
  {
   "cell_type": "code",
   "execution_count": 32,
   "metadata": {},
   "outputs": [
    {
     "name": "stdout",
     "output_type": "stream",
     "text": [
      "4\n",
      "4\n",
      "True\n"
     ]
    }
   ],
   "source": [
    "input = 16\n",
    "output = shortest_steps_to_num(input)\n",
    "answer = 4\n",
    "print(answer)\n",
    "print(output)\n",
    "print(answer == output)"
   ]
  },
  {
   "cell_type": "code",
   "execution_count": 33,
   "metadata": {},
   "outputs": [
    {
     "name": "stdout",
     "output_type": "stream",
     "text": [
      "9\n",
      "9\n",
      "True\n"
     ]
    }
   ],
   "source": [
    "input = 71\n",
    "output = shortest_steps_to_num(input)\n",
    "answer = 9\n",
    "print(answer)\n",
    "print(output)\n",
    "print(answer == output)"
   ]
  },
  {
   "cell_type": "code",
   "execution_count": null,
   "metadata": {},
   "outputs": [],
   "source": []
  }
 ],
 "metadata": {
  "kernelspec": {
   "display_name": "venv",
   "language": "python",
   "name": "python3"
  },
  "language_info": {
   "codemirror_mode": {
    "name": "ipython",
    "version": 3
   },
   "file_extension": ".py",
   "mimetype": "text/x-python",
   "name": "python",
   "nbconvert_exporter": "python",
   "pygments_lexer": "ipython3",
   "version": "3.11.3"
  }
 },
 "nbformat": 4,
 "nbformat_minor": 2
}
