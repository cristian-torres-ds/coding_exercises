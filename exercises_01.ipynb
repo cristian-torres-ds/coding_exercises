{
 "cells": [
  {
   "cell_type": "code",
   "execution_count": 4,
   "metadata": {},
   "outputs": [],
   "source": [
    "from icecream import ic\n",
    "# ic.enable()\n",
    "# ic.disable()\n",
    "# venv/Scripts/Activate.ps1"
   ]
  },
  {
   "cell_type": "markdown",
   "metadata": {},
   "source": [
    "---"
   ]
  },
  {
   "cell_type": "markdown",
   "metadata": {},
   "source": [
    "## Convert string to camel case\n",
    "<p>Complete the method/function so that it converts dash/underscore delimited words into <a href=\"https://en.wikipedia.org/wiki/Camel_case\" data-turbolinks=\"false\" target=\"_blank\">camel casing</a>. The first word within the output should be capitalized <strong>only</strong> if the original word was capitalized (known as Upper Camel Case, also often referred to as Pascal case). The next words should be always capitalized.</p>\n",
    "<h3 id=\"examples\">Examples</h3>\n",
    "<p><code>\"the-stealth-warrior\"</code> gets converted to <code>\"theStealthWarrior\"</code> </p>\n",
    "<p><code>\"The_Stealth_Warrior\"</code> gets converted to <code>\"TheStealthWarrior\"</code></p>\n",
    "<p><code>\"The_Stealth-Warrior\"</code> gets converted to <code>\"TheStealthWarrior\"</code></p>\n",
    "</div>\n",
    "\n",
    "[LINK](https://www.codewars.com/kata/517abf86da9663f1d2000003)"
   ]
  },
  {
   "cell_type": "code",
   "execution_count": 9,
   "metadata": {},
   "outputs": [],
   "source": [
    "def to_camel_case(text):\n",
    "    if text == \"\":\n",
    "        return text\n",
    "    text = text.replace(\"-\",\" \").replace(\"_\",\" \")\n",
    "    lista = text.split()\n",
    "    texto = lista[0]\n",
    "    for i in range(1, len(lista)):\n",
    "        texto += lista[i].title()\n",
    "    return texto"
   ]
  },
  {
   "cell_type": "code",
   "execution_count": 10,
   "metadata": {},
   "outputs": [
    {
     "name": "stdout",
     "output_type": "stream",
     "text": [
      "theStealthWarrior\n",
      "theStealthWarrior\n",
      "\n",
      "TheStealthWarrior\n",
      "TheStealthWarrior\n",
      "\n",
      "TheStealthWarrior\n",
      "TheStealthWarrior\n"
     ]
    }
   ],
   "source": [
    "print(to_camel_case(\"the-stealth-warrior\"))\n",
    "print(\"theStealthWarrior\\n\")\n",
    "print(to_camel_case(\"The_Stealth_Warrior\"))\n",
    "print(\"TheStealthWarrior\\n\")\n",
    "print(to_camel_case(\"The_Stealth-Warrior\"))\n",
    "print(\"TheStealthWarrior\")"
   ]
  },
  {
   "cell_type": "markdown",
   "metadata": {},
   "source": [
    "---"
   ]
  },
  {
   "cell_type": "markdown",
   "metadata": {},
   "source": [
    "## Who likes it?\n",
    "\n",
    "You probably know the \"like\" system from Facebook and other pages. People can \"like\" blog posts, pictures or other items. We want to create the text that should be displayed next to such an item.\n",
    "\n",
    "Implement the function which takes an array containing the names of people that like an item. It must return the display text as shown in the examples:\n",
    "\n",
    "<p><code>[]                                -->  \"no one likes this\"</code> </p>\n",
    "<p><code>[\"Peter\"]                         -->  \"Peter likes this\"</code> </p>\n",
    "<p><code>[\"Jacob\", \"Alex\"]                 -->  \"Jacob and Alex like this\"</code> </p>\n",
    "<p><code>[\"Max\", \"John\", \"Mark\"]           -->  \"Max, John and Mark like this\"</code> </p>\n",
    "<p><code>[\"Alex\", \"Jacob\", \"Mark\", \"Max\"]  -->  \"Alex, Jacob and 2 others like this\"</code> </p>\n",
    "\n",
    "[LINK](https://www.codewars.com/kata/5266876b8f4bf2da9b000362)"
   ]
  },
  {
   "cell_type": "code",
   "execution_count": 1,
   "metadata": {},
   "outputs": [],
   "source": [
    "def likes(names):\n",
    "    if not names:\n",
    "        return \"no one likes this\"\n",
    "    elif len(names) == 1:\n",
    "        return f\"{names[0]} likes this\"\n",
    "    elif len(names) == 2:\n",
    "        return f\"{names[0]} and {names[1]} like this\"\n",
    "    elif len(names) == 3:\n",
    "        return f\"{names[0]}, {names[1]} and {names[2]} like this\"\n",
    "    else:\n",
    "        return f\"{names[0]}, {names[1]} and {len(names)-2} others like this\""
   ]
  },
  {
   "cell_type": "code",
   "execution_count": 2,
   "metadata": {},
   "outputs": [
    {
     "name": "stdout",
     "output_type": "stream",
     "text": [
      "no one likes this\n",
      "Peter likes this\n",
      "Jacob and Alex like this\n",
      "Max, John and Mark like this\n",
      "Alex, Jacob and 2 others like this\n"
     ]
    }
   ],
   "source": [
    "names0 = []\n",
    "names1 = [\"Peter\"]\n",
    "names2 = [\"Jacob\", \"Alex\"]\n",
    "names3 = [\"Max\", \"John\", \"Mark\"]\n",
    "names4 = [\"Alex\", \"Jacob\", \"Mark\", \"Max\"]\n",
    "\n",
    "print(likes(names0))\n",
    "print(likes(names1))\n",
    "print(likes(names2))\n",
    "print(likes(names3))\n",
    "print(likes(names4))"
   ]
  },
  {
   "cell_type": "markdown",
   "metadata": {},
   "source": [
    "---"
   ]
  },
  {
   "cell_type": "markdown",
   "metadata": {},
   "source": [
    "## Detect Pangram\n",
    "\n",
    "A pangram is a sentence that contains every single letter of the alphabet at least once. For example, the sentence \"The quick brown fox jumps over the lazy dog\" is a pangram, because it uses the letters A-Z at least once (case is irrelevant).\n",
    "\n",
    "Given a string, detect whether or not it is a pangram. Return True if it is, False if not. Ignore numbers and punctuation.\n",
    "\n",
    "[LINK](https://www.codewars.com/kata/545cedaa9943f7fe7b000048/train/python)"
   ]
  },
  {
   "cell_type": "code",
   "execution_count": 7,
   "metadata": {},
   "outputs": [],
   "source": [
    "def is_pangram(s):\n",
    "    abc = [\"a\", \"b\", \"c\", \"d\", \"e\", \"f\", \"g\", \"h\", \"i\", \"j\", \"k\", \"l\", \"m\",\n",
    "           \"n\", \"o\", \"p\", \"q\", \"r\", \"s\", \"t\", \"u\", \"v\", \"w\", \"x\", \"y\", \"z\"]\n",
    "\n",
    "    s = s.replace(\" \", \"\").lower()\n",
    "\n",
    "    for l in s:\n",
    "        if l in abc:\n",
    "            abc.remove(l)\n",
    "\n",
    "    if not abc:\n",
    "        return True\n",
    "    else:\n",
    "        return False"
   ]
  },
  {
   "cell_type": "code",
   "execution_count": 8,
   "metadata": {},
   "outputs": [
    {
     "name": "stdout",
     "output_type": "stream",
     "text": [
      "True\n",
      "False\n"
     ]
    }
   ],
   "source": [
    "string1 = \"The quick brown fox jumps over the lazy dog\"\n",
    "string2 = \"The quick brown fo jumps over the lazy dog\"\n",
    "\n",
    "print(is_pangram(string1))\n",
    "print(is_pangram(string2))"
   ]
  },
  {
   "cell_type": "markdown",
   "metadata": {},
   "source": [
    "---"
   ]
  },
  {
   "cell_type": "markdown",
   "metadata": {},
   "source": [
    "## Pete, the baker\n",
    "\n",
    "<div class=\"markdown prose max-w-none mb-8\" id=\"description\"><p>Pete likes to bake some cakes. He has some recipes and ingredients. Unfortunately he is not good in maths. Can you help him to find out, how many cakes he could bake considering his recipes?</p>\n",
    "<p>Write a function <code>cakes()</code>, which takes the recipe (object) and the available ingredients (also an object) and returns the maximum number of cakes Pete can bake (integer). For simplicity there are no units for the amounts (e.g. 1 lb of flour or 200 g of sugar are simply 1 or 200). Ingredients that are not present in the objects, can be considered as 0.</p>\n",
    "\n",
    "`# must return 2`\n",
    "\n",
    "`cakes({flour: 500, sugar: 200, eggs: 1}, {flour: 1200, sugar: 1200, eggs: 5, milk: 200})`\n",
    "\n",
    "`# must return 0`\n",
    "\n",
    "`cakes({apples: 3, flour: 300, sugar: 150, milk: 100, oil: 100}, {sugar: 500, flour: 2000, milk: 2000})`\n",
    "\n",
    "[LINK](https://www.codewars.com/kata/525c65e51bf619685c000059)"
   ]
  },
  {
   "cell_type": "code",
   "execution_count": 2,
   "metadata": {},
   "outputs": [],
   "source": [
    "def cakes(recipe, available):\n",
    "    minimo = []\n",
    "    for k in recipe.keys():\n",
    "        if k not in available.keys():\n",
    "            return 0\n",
    "    for k, i in recipe.items():\n",
    "        if available[k] < i:\n",
    "            return 0\n",
    "        else:\n",
    "            minimo.append(available[k] / i)\n",
    "    return min(minimo) // 1"
   ]
  },
  {
   "cell_type": "code",
   "execution_count": 4,
   "metadata": {},
   "outputs": [
    {
     "name": "stdout",
     "output_type": "stream",
     "text": [
      "2.0\n",
      "0\n"
     ]
    }
   ],
   "source": [
    "print(cakes({'flour': 500, 'sugar': 200, 'eggs': 1}, {'flour': 1200, 'sugar': 1200, 'eggs': 5, 'milk': 200}))\n",
    "print(cakes({'apples': 3, 'flour': 300, 'sugar': 150, 'milk': 100, 'oil': 100}, {'sugar': 500, 'flour': 2000, 'milk': 2000}))"
   ]
  },
  {
   "cell_type": "markdown",
   "metadata": {},
   "source": [
    "---"
   ]
  },
  {
   "cell_type": "markdown",
   "metadata": {},
   "source": [
    "## Create Phone Number\n",
    "\n",
    "Write a function that accepts an array of 10 integers (between 0 and 9), that returns a string of those numbers in the form of a phone number.\n",
    "\n",
    "Example\n",
    "\n",
    "`create_phone_number([1, 2, 3, 4, 5, 6, 7, 8, 9, 0])`\n",
    "\n",
    "`# => returns \"(123) 456-7890\"`\n",
    "\n",
    "The returned format must be correct in order to complete this challenge.\n",
    "\n",
    "Don't forget the space after the closing parentheses!\n",
    "\n",
    "[LINK](https://www.codewars.com/kata/525f50e3b73515a6db000b83)"
   ]
  },
  {
   "cell_type": "code",
   "execution_count": 1,
   "metadata": {},
   "outputs": [],
   "source": [
    "def create_phone_number(n):\n",
    "    number = f\"({n[0]}{n[1]}{n[2]}) {n[3]}{n[4]}{n[5]}-{n[6]}{n[7]}{n[8]}{n[9]}\"\n",
    "    return number"
   ]
  },
  {
   "cell_type": "code",
   "execution_count": 2,
   "metadata": {},
   "outputs": [
    {
     "data": {
      "text/plain": [
       "'(123) 456-7890'"
      ]
     },
     "execution_count": 2,
     "metadata": {},
     "output_type": "execute_result"
    }
   ],
   "source": [
    "create_phone_number([1, 2, 3, 4, 5, 6, 7, 8, 9, 0])"
   ]
  },
  {
   "cell_type": "markdown",
   "metadata": {},
   "source": [
    "---"
   ]
  },
  {
   "cell_type": "markdown",
   "metadata": {},
   "source": [
    "## Multiples of 3 or 5\n",
    "\n",
    "If we list all the natural numbers below 10 that are multiples of 3 or 5, we get 3, 5, 6 and 9. The sum of these multiples is 23.\n",
    "\n",
    "Finish the solution so that it returns the sum of all the multiples of 3 or 5 below the number passed in.\n",
    "\n",
    "Additionally, if the number is negative, return 0.\n",
    "\n",
    "Note: If the number is a multiple of both 3 and 5, only count it once.\n",
    "\n",
    "[LINK](https://www.codewars.com/kata/514b92a657cdc65150000006)"
   ]
  },
  {
   "cell_type": "code",
   "execution_count": 5,
   "metadata": {},
   "outputs": [],
   "source": [
    "def solution(number):\n",
    "    total = 0\n",
    "    for num in range(number):\n",
    "        if num % 3 == 0:\n",
    "            total += num\n",
    "        elif num % 5 == 0:\n",
    "            total += num\n",
    "    return total"
   ]
  }
 ],
 "metadata": {
  "kernelspec": {
   "display_name": "venv",
   "language": "python",
   "name": "python3"
  },
  "language_info": {
   "codemirror_mode": {
    "name": "ipython",
    "version": 3
   },
   "file_extension": ".py",
   "mimetype": "text/x-python",
   "name": "python",
   "nbconvert_exporter": "python",
   "pygments_lexer": "ipython3",
   "version": "3.11.3"
  },
  "orig_nbformat": 4
 },
 "nbformat": 4,
 "nbformat_minor": 2
}
