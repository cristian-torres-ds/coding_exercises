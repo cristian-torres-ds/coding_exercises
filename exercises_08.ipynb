{
 "cells": [
  {
   "cell_type": "markdown",
   "metadata": {},
   "source": [
    "# Sum of Digits / Digital Root - [LINK](https://www.codewars.com/kata/541c8630095125aba6000c00)\n",
    "\n",
    "\n",
    "Digital root is the recursive sum of all the digits in a number.\n",
    "\n",
    "Given n, take the sum of the digits of n. If that value has more than one digit, continue reducing in this way until a single-digit number is produced. The input will be a non-negative integer.\n",
    "\n",
    "#### Examples:"
   ]
  },
  {
   "cell_type": "raw",
   "metadata": {},
   "source": [
    "    16  -->  1 + 6 = 7\n",
    "   942  -->  9 + 4 + 2 = 15  -->  1 + 5 = 6\n",
    "132189  -->  1 + 3 + 2 + 1 + 8 + 9 = 24  -->  2 + 4 = 6\n",
    "493193  -->  4 + 9 + 3 + 1 + 9 + 3 = 29  -->  2 + 9 = 11  -->  1 + 1 = 2"
   ]
  },
  {
   "cell_type": "markdown",
   "metadata": {},
   "source": [
    "#### Recursive Solution"
   ]
  },
  {
   "cell_type": "code",
   "execution_count": 1,
   "metadata": {},
   "outputs": [],
   "source": [
    "def digital_root(n):\n",
    "    if n < 10:\n",
    "        return n\n",
    "    else:\n",
    "        return digital_root(sum((int(x) for x in str(n))))"
   ]
  },
  {
   "cell_type": "code",
   "execution_count": 2,
   "metadata": {},
   "outputs": [
    {
     "name": "stdout",
     "output_type": "stream",
     "text": [
      "1\n",
      "1\n",
      "True\n"
     ]
    }
   ],
   "source": [
    "number = 5646395823769\n",
    "test = digital_root(number)\n",
    "answer = 1\n",
    "print(answer)\n",
    "print(test)\n",
    "print(answer == test)"
   ]
  },
  {
   "cell_type": "code",
   "execution_count": 3,
   "metadata": {},
   "outputs": [
    {
     "name": "stdout",
     "output_type": "stream",
     "text": [
      "6\n",
      "6\n",
      "True\n"
     ]
    }
   ],
   "source": [
    "number = 942\n",
    "test = digital_root(number)\n",
    "answer = 6\n",
    "print(answer)\n",
    "print(test)\n",
    "print(answer == test)"
   ]
  },
  {
   "cell_type": "code",
   "execution_count": 4,
   "metadata": {},
   "outputs": [
    {
     "name": "stdout",
     "output_type": "stream",
     "text": [
      "6\n",
      "6\n",
      "True\n"
     ]
    }
   ],
   "source": [
    "number = 132189\n",
    "test = digital_root(number)\n",
    "answer = 6\n",
    "print(answer)\n",
    "print(test)\n",
    "print(answer == test)"
   ]
  },
  {
   "cell_type": "code",
   "execution_count": 5,
   "metadata": {},
   "outputs": [
    {
     "name": "stdout",
     "output_type": "stream",
     "text": [
      "2\n",
      "2\n",
      "True\n"
     ]
    }
   ],
   "source": [
    "number = 493193\n",
    "test = digital_root(number)\n",
    "answer = 2\n",
    "print(answer)\n",
    "print(test)\n",
    "print(answer == test)"
   ]
  },
  {
   "cell_type": "markdown",
   "metadata": {},
   "source": [
    "#### Normal Solution"
   ]
  },
  {
   "cell_type": "code",
   "execution_count": 6,
   "metadata": {},
   "outputs": [],
   "source": [
    "def digital_root(n):\n",
    "    while n > 9:\n",
    "        n = sum([int(x) for x in str(n)])\n",
    "    return n"
   ]
  },
  {
   "cell_type": "code",
   "execution_count": 7,
   "metadata": {},
   "outputs": [
    {
     "name": "stdout",
     "output_type": "stream",
     "text": [
      "1\n",
      "1\n",
      "True\n"
     ]
    }
   ],
   "source": [
    "number = 5646395823769\n",
    "test = digital_root(number)\n",
    "answer = 1\n",
    "print(answer)\n",
    "print(test)\n",
    "print(answer == test)"
   ]
  },
  {
   "cell_type": "code",
   "execution_count": 8,
   "metadata": {},
   "outputs": [
    {
     "name": "stdout",
     "output_type": "stream",
     "text": [
      "6\n",
      "6\n",
      "True\n"
     ]
    }
   ],
   "source": [
    "number = 942\n",
    "test = digital_root(number)\n",
    "answer = 6\n",
    "print(answer)\n",
    "print(test)\n",
    "print(answer == test)"
   ]
  },
  {
   "cell_type": "code",
   "execution_count": 9,
   "metadata": {},
   "outputs": [
    {
     "name": "stdout",
     "output_type": "stream",
     "text": [
      "6\n",
      "6\n",
      "True\n"
     ]
    }
   ],
   "source": [
    "number = 132189\n",
    "test = digital_root(number)\n",
    "answer = 6\n",
    "print(answer)\n",
    "print(test)\n",
    "print(answer == test)"
   ]
  },
  {
   "cell_type": "code",
   "execution_count": 10,
   "metadata": {},
   "outputs": [
    {
     "name": "stdout",
     "output_type": "stream",
     "text": [
      "2\n",
      "2\n",
      "True\n"
     ]
    }
   ],
   "source": [
    "number = 493193\n",
    "test = digital_root(number)\n",
    "answer = 2\n",
    "print(answer)\n",
    "print(test)\n",
    "print(answer == test)"
   ]
  },
  {
   "cell_type": "markdown",
   "metadata": {},
   "source": [
    "#### Other solutions"
   ]
  },
  {
   "cell_type": "code",
   "execution_count": 11,
   "metadata": {},
   "outputs": [],
   "source": [
    "# This solution uses map\n",
    "def digital_root(n):\n",
    "    return n if n < 10 else digital_root(sum(map(int,str(n))))"
   ]
  },
  {
   "cell_type": "code",
   "execution_count": 12,
   "metadata": {},
   "outputs": [],
   "source": [
    "# Incredible mathematical solution\n",
    "def digital_root(n):\n",
    "    return n%9 or n and 9"
   ]
  },
  {
   "cell_type": "markdown",
   "metadata": {},
   "source": [
    "---"
   ]
  },
  {
   "cell_type": "markdown",
   "metadata": {},
   "source": [
    "# Is my friend cheating? - [LINK](https://www.codewars.com/kata/5547cc7dcad755e480000004)\n",
    "\n",
    "* A friend of mine takes the sequence of all numbers from `1` to `n` (where `n > 0`).\n",
    "* Within that sequence, he chooses two numbers, `a` and `b`.\n",
    "* He says that the product of `a` and `b` should be equal to the sum of all numbers in the sequence, excluding `a` and `b`.\n",
    "* Given a number `n`, could you tell me the numbers he excluded from the sequence?\n",
    "\n",
    "The function takes the parameter: `n` (n is always strictly greater than 0) and returns an array of the form:\n",
    "\n",
    "`[(a, b), ...]`\n",
    "\n",
    "with all `(a, b)` which are the possible removed numbers in the sequence `1 to n`.\n",
    "\n",
    "`[(a, b), ...]` will be sorted in increasing order of the \"a\".\n",
    "\n",
    "It happens that there are several possible (a, b). The function returns an empty array (or an empty string) if no possible numbers are found which will prove that my friend has not told the truth!\n",
    "\n",
    "#### Example:\n",
    "\n",
    "`remov_nb(26)` should return `[(15, 21), (21, 15)]`"
   ]
  },
  {
   "cell_type": "code",
   "execution_count": 13,
   "metadata": {},
   "outputs": [],
   "source": [
    "from itertools import combinations\n",
    "from math import prod\n",
    "\n",
    "def remov_nb(n):\n",
    "    results = []\n",
    "    total = n * (n+1) // 2\n",
    "    pairs = combinations(range(int(n/2)+1, n+1), 2)\n",
    "    for pair in pairs:\n",
    "        if (total - sum(pair)) == prod(pair):\n",
    "            results.append(pair)\n",
    "            results.append((pair[1], pair[0]))\n",
    "    return results"
   ]
  },
  {
   "cell_type": "code",
   "execution_count": 14,
   "metadata": {},
   "outputs": [],
   "source": [
    "def remov_nb(n):\n",
    "    results = []\n",
    "    total = n * (n + 1) // 2\n",
    "\n",
    "    for a in range(1, n+1):\n",
    "        b = (total - a) / (a + 1)\n",
    "        if b.is_integer() and b <= n:\n",
    "            results.append((a, int(b)))\n",
    "\n",
    "    return results"
   ]
  },
  {
   "cell_type": "code",
   "execution_count": 15,
   "metadata": {},
   "outputs": [
    {
     "name": "stdout",
     "output_type": "stream",
     "text": [
      "[(6, 7), (7, 6)]\n",
      "[(6, 7), (7, 6)]\n",
      "True\n"
     ]
    }
   ],
   "source": [
    "number = 10\n",
    "test = remov_nb(number)\n",
    "answer = [(6, 7), (7, 6)]\n",
    "print(answer)\n",
    "print(test)\n",
    "print(answer == test)"
   ]
  },
  {
   "cell_type": "code",
   "execution_count": 16,
   "metadata": {},
   "outputs": [
    {
     "name": "stdout",
     "output_type": "stream",
     "text": [
      "[(15, 21), (21, 15)]\n",
      "[(15, 21), (21, 15)]\n",
      "True\n"
     ]
    }
   ],
   "source": [
    "number = 26\n",
    "test = remov_nb(number)\n",
    "answer = [(15, 21), (21, 15)]\n",
    "print(answer)\n",
    "print(test)\n",
    "print(answer == test)"
   ]
  },
  {
   "cell_type": "code",
   "execution_count": 17,
   "metadata": {},
   "outputs": [
    {
     "name": "stdout",
     "output_type": "stream",
     "text": [
      "[]\n",
      "[]\n",
      "True\n"
     ]
    }
   ],
   "source": [
    "number = 100\n",
    "test = remov_nb(number)\n",
    "answer = []\n",
    "print(answer)\n",
    "print(test)\n",
    "print(answer == test)"
   ]
  },
  {
   "cell_type": "code",
   "execution_count": 18,
   "metadata": {},
   "outputs": [
    {
     "name": "stdout",
     "output_type": "stream",
     "text": [
      "[(55, 91), (91, 55)]\n",
      "[(55, 91), (91, 55)]\n",
      "True\n"
     ]
    }
   ],
   "source": [
    "number = 101\n",
    "test = remov_nb(number)\n",
    "answer = [(55, 91), (91, 55)]\n",
    "print(answer)\n",
    "print(test)\n",
    "print(answer == test)"
   ]
  },
  {
   "cell_type": "markdown",
   "metadata": {},
   "source": [
    "---"
   ]
  },
  {
   "cell_type": "markdown",
   "metadata": {},
   "source": [
    "# Count the Monkeys! - [LINK](https://www.codewars.com/kata/56f69d9f9400f508fb000ba7)\n",
    "\n",
    "You take your son to the forest to see the monkeys. You know that there are a certain number there (n), but your son is too young to just appreciate the full number, he has to start counting them from 1.\n",
    "\n",
    "As a good parent, you will sit and count with him. Given the number (n), populate an array with all numbers up to and including that number, but excluding zero.\n",
    "\n",
    "#### For example(Input --> Output):\n",
    "\n",
    "`10 --> [1, 2, 3, 4, 5, 6, 7, 8, 9, 10]`<br>\n",
    "` 1 --> [1]`"
   ]
  },
  {
   "cell_type": "code",
   "execution_count": 19,
   "metadata": {},
   "outputs": [],
   "source": [
    "def monkey_count(n):\n",
    "    return list(range(1, n+1))\n",
    "\n",
    "def monkey_count(n):\n",
    "    return [x for x in range(1, n+1)]"
   ]
  },
  {
   "cell_type": "code",
   "execution_count": 20,
   "metadata": {},
   "outputs": [
    {
     "name": "stdout",
     "output_type": "stream",
     "text": [
      "[1, 2, 3, 4, 5, 6, 7, 8, 9, 10]\n",
      "[1, 2, 3, 4, 5, 6, 7, 8, 9, 10]\n",
      "True\n"
     ]
    }
   ],
   "source": [
    "input = 10\n",
    "output = monkey_count(input)\n",
    "answer = [1, 2, 3, 4, 5, 6, 7, 8, 9, 10]\n",
    "print(answer)\n",
    "print(output)\n",
    "print(answer == output)"
   ]
  },
  {
   "cell_type": "code",
   "execution_count": 21,
   "metadata": {},
   "outputs": [
    {
     "name": "stdout",
     "output_type": "stream",
     "text": [
      "[1]\n",
      "[1]\n",
      "True\n"
     ]
    }
   ],
   "source": [
    "input = 1\n",
    "output = monkey_count(input)\n",
    "answer = [1]\n",
    "print(answer)\n",
    "print(output)\n",
    "print(answer == output)"
   ]
  },
  {
   "cell_type": "markdown",
   "metadata": {},
   "source": [
    "---"
   ]
  },
  {
   "cell_type": "markdown",
   "metadata": {},
   "source": [
    "# Moving Zeros To The End - [LINK](https://www.codewars.com/kata/52597aa56021e91c93000cb0)\n",
    "\n",
    "Write an algorithm that takes an array and moves all of the zeros to the end, preserving the order of the other elements.\n",
    "\n",
    "`move_zeros([1, 0, 1, 2, 0, 1, 3]) # returns [1, 1, 2, 1, 3, 0, 0]`"
   ]
  },
  {
   "cell_type": "code",
   "execution_count": 22,
   "metadata": {},
   "outputs": [],
   "source": [
    "def move_zeros(lst):\n",
    "    for i in lst:\n",
    "        if i == 0:\n",
    "            lst.remove(i)\n",
    "            lst.append(i)\n",
    "    return lst"
   ]
  },
  {
   "cell_type": "code",
   "execution_count": 23,
   "metadata": {},
   "outputs": [],
   "source": [
    "def move_zeros(lst):\n",
    "    ordered = []\n",
    "    zeros = []\n",
    "    for n in lst:\n",
    "        if n != 0:\n",
    "            ordered.append(n)\n",
    "        else:\n",
    "            zeros.append(0)\n",
    "    return ordered + zeros"
   ]
  },
  {
   "cell_type": "code",
   "execution_count": 24,
   "metadata": {},
   "outputs": [],
   "source": [
    "def move_zeros(lst):\n",
    "    return [x for x in lst if x != 0] + [z for z in lst if z == 0]"
   ]
  },
  {
   "cell_type": "code",
   "execution_count": 25,
   "metadata": {},
   "outputs": [],
   "source": [
    "def move_zeros(lst):\n",
    "    return [x for x in lst if x] + [z for z in lst if not z]"
   ]
  },
  {
   "cell_type": "code",
   "execution_count": 26,
   "metadata": {},
   "outputs": [
    {
     "name": "stdout",
     "output_type": "stream",
     "text": [
      "[1, 2, 1, 1, 3, 1, 0, 0, 0, 0]\n",
      "[1, 2, 1, 1, 3, 1, 0, 0, 0, 0]\n",
      "True\n"
     ]
    }
   ],
   "source": [
    "input = [1, 2, 0, 1, 0, 1, 0, 3, 0, 1]\n",
    "output = move_zeros(input)\n",
    "answer = [1, 2, 1, 1, 3, 1, 0, 0, 0, 0]\n",
    "print(answer)\n",
    "print(output)\n",
    "print(answer == output)"
   ]
  },
  {
   "cell_type": "code",
   "execution_count": 27,
   "metadata": {},
   "outputs": [
    {
     "name": "stdout",
     "output_type": "stream",
     "text": [
      "[9, 9, 1, 2, 1, 1, 3, 1, 9, 9, 0, 0, 0, 0, 0, 0, 0, 0, 0, 0]\n",
      "[9, 9, 1, 2, 1, 1, 3, 1, 9, 9, 0, 0, 0, 0, 0, 0, 0, 0, 0, 0]\n",
      "True\n"
     ]
    }
   ],
   "source": [
    "input = [9, 0, 0, 9, 1, 2, 0, 1, 0, 1, 0, 3, 0, 1, 9, 0, 0, 0, 0, 9]\n",
    "output = move_zeros(input)\n",
    "answer = [9, 9, 1, 2, 1, 1, 3, 1, 9, 9, 0, 0, 0, 0, 0, 0, 0, 0, 0, 0]\n",
    "print(answer)\n",
    "print(output)\n",
    "print(answer == output)"
   ]
  },
  {
   "cell_type": "code",
   "execution_count": 28,
   "metadata": {},
   "outputs": [
    {
     "name": "stdout",
     "output_type": "stream",
     "text": [
      "[0, 0]\n",
      "[0, 0]\n",
      "True\n"
     ]
    }
   ],
   "source": [
    "input = [0, 0]\n",
    "output = move_zeros(input)\n",
    "answer = [0, 0]\n",
    "print(answer)\n",
    "print(output)\n",
    "print(answer == output)"
   ]
  },
  {
   "cell_type": "code",
   "execution_count": 29,
   "metadata": {},
   "outputs": [
    {
     "name": "stdout",
     "output_type": "stream",
     "text": [
      "[0]\n",
      "[0]\n",
      "True\n"
     ]
    }
   ],
   "source": [
    "input = [0]\n",
    "output = move_zeros(input)\n",
    "answer = [0]\n",
    "print(answer)\n",
    "print(output)\n",
    "print(answer == output)"
   ]
  },
  {
   "cell_type": "code",
   "execution_count": 30,
   "metadata": {},
   "outputs": [
    {
     "name": "stdout",
     "output_type": "stream",
     "text": [
      "[]\n",
      "[]\n",
      "True\n"
     ]
    }
   ],
   "source": [
    "input = []\n",
    "output = move_zeros(input)\n",
    "answer = []\n",
    "print(answer)\n",
    "print(output)\n",
    "print(answer == output)"
   ]
  }
 ],
 "metadata": {
  "kernelspec": {
   "display_name": "venv",
   "language": "python",
   "name": "python3"
  },
  "language_info": {
   "codemirror_mode": {
    "name": "ipython",
    "version": 3
   },
   "file_extension": ".py",
   "mimetype": "text/x-python",
   "name": "python",
   "nbconvert_exporter": "python",
   "pygments_lexer": "ipython3",
   "version": "3.11.3"
  }
 },
 "nbformat": 4,
 "nbformat_minor": 2
}
