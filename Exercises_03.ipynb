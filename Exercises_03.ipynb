{
 "cells": [
  {
   "cell_type": "markdown",
   "metadata": {},
   "source": [
    "# Breadcrumb Generator - [LINK](https://www.codewars.com/kata/563fbac924106b8bf7000046)\n",
    "\n",
    "As [breadcrumb menus](https://en.wikipedia.org/wiki/Breadcrumb_navigation) are quite popular today, I won't digress much on explaining them, leaving the wiki link to do all the dirty work in my place.\n",
    "\n",
    "What might not be so trivial is instead to get a decent breadcrumb from your current url. For this kata, your purpose is to create a function that takes a url, strips the first part (labelling it always HOME) and then builds it making each element but the last a `<a>` element linking to the relevant path; last has to be a `<span>` element getting the active class.\n",
    "\n",
    "All elements need to be turned to uppercase and separated by a separator, given as the second parameter of the function; the last element can terminate in some common extension like .html, .htm, .php or .asp; if the name of the last element is index.something, you treat it as if it wasn't there, sending users automatically to the upper level folder.\n",
    "\n",
    "A few examples can be more helpful than thousands of words of explanation, so here you have them:\n",
    "\n",
    "`generate_bc(\"mysite.com/pictures/holidays.html\", \" : \") == '<a href=\"/\">HOME</a> : <a href=\"/pictures/\">PICTURES</a> : <span class=\"active\">HOLIDAYS</span>'`\n",
    "\n",
    "`generate_bc(\"www.codewars.com/users/GiacomoSorbi\", \" / \") == '<a href=\"/\">HOME</a> / <a href=\"/users/\">USERS</a> / <span class=\"active\">GIACOMOSORBI</span>'`\n",
    "\n",
    "`generate_bc(\"www.microsoft.com/docs/index.htm\", \" * \") == '<a href=\"/\">HOME</a> * <span class=\"active\">DOCS</span>'`\n",
    "\n",
    "Seems easy enough?\n",
    "\n",
    "Well, probably not so much, but we have one last extra rule: if one element (other than the root/home) is longer than 30 characters, you have to shorten it, acronymizing it (i.e.: taking just the initials of every word); url will be always given in the format `this-is-an-element-of-the-url` and you should ignore words in this array while acronymizing: [\"the\",\"of\",\"in\",\"from\",\"by\",\"with\",\"and\", \"or\", \"for\", \"to\", \"at\", \"a\"]; a url composed of more words separated by - and equal or less than 30 characters long needs to be just uppercased with hyphens replaced by spaces.\n",
    "\n",
    "Ignore anchors (www.url.com#lameAnchorExample) and parameters (www.url.com?codewars=rocks&pippi=rocksToo) when present.\n",
    "\n",
    "Examples:\n",
    "\n",
    "`generate_bc(\"mysite.com/very-long-url-to-make-a-silly-yet-meaningful-example/example.htm\", \" > \") == '<a href=\"/\">HOME</a> > <a href=\"/very-long-url-to-make-a-silly-yet-meaningful-example/\">VLUMSYME</a> > <span class=\"active\">EXAMPLE</span>'`\n",
    "\n",
    "`generate_bc(\"www.very-long-site_name-to-make-a-silly-yet-meaningful-example.com/users/giacomo-sorbi\", \" + \") == '<a href=\"/\">HOME</a> + <a href=\"/users/\">USERS</a> + <span class=\"active\">GIACOMO SORBI</span>'`\n",
    "\n",
    "You will always be provided valid url to webpages in common formats, so you probably shouldn't bother validating them."
   ]
  },
  {
   "cell_type": "code",
   "execution_count": 1,
   "metadata": {},
   "outputs": [],
   "source": [
    "def generate_bc(url, separator):\n",
    "    bc = '<a href=\"/\">HOME</a>'\n",
    "\n",
    "    url = url.rstrip('/')\n",
    "    if \"//\" in url:\n",
    "        url = url.split(\"//\")[1]\n",
    "    if \"/index.\" in url:\n",
    "        url = url.split(\"/index.\")[0]\n",
    "    else:\n",
    "        url = url.split(\"?\")[0]\n",
    "        url = url.split(\"#\")[0]\n",
    "\n",
    "    url_list = url.split(\"/\")[1:]\n",
    "\n",
    "    if not url_list:\n",
    "        return '<span class=\"active\">HOME</span>'\n",
    "\n",
    "    last = url_list.pop()\n",
    "    last = last.split(\".\")[0]\n",
    "\n",
    "    last_str = f'<span class=\"active\">{elem_name(last)}</span>'\n",
    "\n",
    "    for i, elem in enumerate(url_list):\n",
    "        path = \"/\".join(url_list[:i + 1])\n",
    "        bc += separator + f'<a href=\"/{path}/\">{elem_name(elem)}</a>'\n",
    "\n",
    "    bc += separator + last_str\n",
    "\n",
    "    return bc\n",
    "\n",
    "\n",
    "def elem_name(element):\n",
    "    articles = [\"the\", \"of\", \"in\", \"from\", \"by\", \"with\", \"and\", \"or\", \"for\", \"to\", \"at\", \"a\"]\n",
    "    elem_list = element.split(\"-\")\n",
    "    if len(element) > 30:\n",
    "        acro_list = []\n",
    "        for e in elem_list:\n",
    "            if e.lower() not in articles:\n",
    "                acro_list.append(e[0].upper())\n",
    "        return \"\".join(acro_list).upper()\n",
    "    return \" \".join(elem_list).upper()"
   ]
  },
  {
   "cell_type": "code",
   "execution_count": 2,
   "metadata": {},
   "outputs": [
    {
     "name": "stdout",
     "output_type": "stream",
     "text": [
      "<a href=\"/\">HOME</a> ; <span class=\"active\">WEB</span>\n",
      "<a href=\"/\">HOME</a> ; <span class=\"active\">WEB</span>\n",
      "\n",
      "\n",
      "True\n"
     ]
    }
   ],
   "source": [
    "url = \"https://codewars.com/web\"\n",
    "separator = \" ; \"\n",
    "respuesta = '<a href=\"/\">HOME</a> ; <span class=\"active\">WEB</span>'\n",
    "print(respuesta)\n",
    "print(generate_bc(url, separator))\n",
    "print(\"\\n\")\n",
    "print(generate_bc(url, separator) == respuesta)\n",
    "\n",
    "#'<span class=\"active\">HOME</span>'\n",
    "#'<a href=\"/\">HOME</a> ; <span class=\"active\">WEB</span>'"
   ]
  },
  {
   "cell_type": "code",
   "execution_count": 3,
   "metadata": {},
   "outputs": [
    {
     "name": "stdout",
     "output_type": "stream",
     "text": [
      "<a href=\"/\">HOME</a> : <a href=\"/pictures/\">PICTURES</a> : <span class=\"active\">HOLIDAYS</span>\n",
      "<a href=\"/\">HOME</a> : <a href=\"/pictures/\">PICTURES</a> : <span class=\"active\">HOLIDAYS</span>\n",
      "\n",
      "\n",
      "True\n"
     ]
    }
   ],
   "source": [
    "url = \"mysite.com/pictures/holidays.html\"\n",
    "separator = \" : \"\n",
    "respuesta = '<a href=\"/\">HOME</a> : <a href=\"/pictures/\">PICTURES</a> : <span class=\"active\">HOLIDAYS</span>'\n",
    "print(respuesta)\n",
    "print(generate_bc(url, separator))\n",
    "print(\"\\n\")\n",
    "print(generate_bc(url, separator) == respuesta)"
   ]
  },
  {
   "cell_type": "code",
   "execution_count": 4,
   "metadata": {},
   "outputs": [
    {
     "name": "stdout",
     "output_type": "stream",
     "text": [
      "<a href=\"/\">HOME</a> / <a href=\"/users/\">USERS</a> / <span class=\"active\">GIACOMOSORBI</span>\n",
      "<a href=\"/\">HOME</a> / <a href=\"/users/\">USERS</a> / <span class=\"active\">GIACOMOSORBI</span>\n",
      "\n",
      "\n",
      "True\n"
     ]
    }
   ],
   "source": [
    "url = \"www.codewars.com/users/GiacomoSorbi\"\n",
    "separator = \" / \"\n",
    "respuesta = '<a href=\"/\">HOME</a> / <a href=\"/users/\">USERS</a> / <span class=\"active\">GIACOMOSORBI</span>'\n",
    "print(respuesta)\n",
    "print(generate_bc(url, separator))\n",
    "print(\"\\n\")\n",
    "print(generate_bc(url, separator) == respuesta)"
   ]
  },
  {
   "cell_type": "code",
   "execution_count": 5,
   "metadata": {},
   "outputs": [
    {
     "name": "stdout",
     "output_type": "stream",
     "text": [
      "<a href=\"/\">HOME</a> * <span class=\"active\">DOCS</span>\n",
      "<a href=\"/\">HOME</a> * <span class=\"active\">DOCS</span>\n",
      "\n",
      "\n",
      "True\n"
     ]
    }
   ],
   "source": [
    "url = \"www.microsoft.com/docs/index.htm\"\n",
    "separator = \" * \"\n",
    "respuesta = '<a href=\"/\">HOME</a> * <span class=\"active\">DOCS</span>'\n",
    "print(respuesta)\n",
    "print(generate_bc(url, separator))\n",
    "print(\"\\n\")\n",
    "print(generate_bc(url, separator) == respuesta)"
   ]
  },
  {
   "cell_type": "code",
   "execution_count": 6,
   "metadata": {},
   "outputs": [
    {
     "name": "stdout",
     "output_type": "stream",
     "text": [
      "<a href=\"/\">HOME</a> > <a href=\"/very-long-url-to-make-a-silly-yet-meaningful-example/\">VLUMSYME</a> > <span class=\"active\">EXAMPLE</span>\n",
      "<a href=\"/\">HOME</a> > <a href=\"/very-long-url-to-make-a-silly-yet-meaningful-example/\">VLUMSYME</a> > <span class=\"active\">EXAMPLE</span>\n",
      "\n",
      "\n",
      "True\n"
     ]
    }
   ],
   "source": [
    "url = \"mysite.com/very-long-url-to-make-a-silly-yet-meaningful-example/example.htm\"\n",
    "separator = \" > \"\n",
    "respuesta = '<a href=\"/\">HOME</a> > <a href=\"/very-long-url-to-make-a-silly-yet-meaningful-example/\">VLUMSYME</a> > <span class=\"active\">EXAMPLE</span>'\n",
    "print(respuesta)\n",
    "print(generate_bc(url, separator))\n",
    "print(\"\\n\")\n",
    "print(generate_bc(url, separator) == respuesta)"
   ]
  },
  {
   "cell_type": "code",
   "execution_count": 7,
   "metadata": {},
   "outputs": [
    {
     "name": "stdout",
     "output_type": "stream",
     "text": [
      "<a href=\"/\">HOME</a> + <a href=\"/users/\">USERS</a> + <span class=\"active\">GIACOMO SORBI</span>\n",
      "<a href=\"/\">HOME</a> + <a href=\"/users/\">USERS</a> + <span class=\"active\">GIACOMO SORBI</span>\n",
      "\n",
      "\n",
      "True\n"
     ]
    }
   ],
   "source": [
    "url = \"www.very-long-site_name-to-make-a-silly-yet-meaningful-example.com/users/giacomo-sorbi\"\n",
    "separator = \" + \"\n",
    "respuesta = '<a href=\"/\">HOME</a> + <a href=\"/users/\">USERS</a> + <span class=\"active\">GIACOMO SORBI</span>'\n",
    "print(respuesta)\n",
    "print(generate_bc(url, separator))\n",
    "print(\"\\n\")\n",
    "print(generate_bc(url, separator) == respuesta)"
   ]
  },
  {
   "cell_type": "code",
   "execution_count": 8,
   "metadata": {},
   "outputs": [
    {
     "name": "stdout",
     "output_type": "stream",
     "text": [
      "<a href=\"/\">HOME</a> / <a href=\"/users/\">USERS</a> / <span class=\"active\">GIACOMOSORBI</span>\n",
      "<a href=\"/\">HOME</a> / <a href=\"/users/\">USERS</a> / <span class=\"active\">GIACOMOSORBI</span>\n",
      "\n",
      "\n",
      "True\n"
     ]
    }
   ],
   "source": [
    "url = \"www.codewars.com/users/GiacomoSorbi?ref=CodeWars\"\n",
    "separator = \" / \"\n",
    "respuesta = '<a href=\"/\">HOME</a> / <a href=\"/users/\">USERS</a> / <span class=\"active\">GIACOMOSORBI</span>'\n",
    "print(respuesta)\n",
    "print(generate_bc(url, separator))\n",
    "print(\"\\n\")\n",
    "print(generate_bc(url, separator) == respuesta)"
   ]
  },
  {
   "cell_type": "code",
   "execution_count": 9,
   "metadata": {},
   "outputs": [
    {
     "name": "stdout",
     "output_type": "stream",
     "text": [
      "<a href=\"/\">HOME</a> * <a href=\"/important/\">IMPORTANT</a> * <a href=\"/important/confidential/\">CONFIDENTIAL</a> * <span class=\"active\">DOCS</span>\n",
      "<a href=\"/\">HOME</a> * <a href=\"/important/\">IMPORTANT</a> * <a href=\"/important/confidential/\">CONFIDENTIAL</a> * <span class=\"active\">DOCS</span>\n",
      "\n",
      "\n",
      "True\n"
     ]
    }
   ],
   "source": [
    "url = \"www.microsoft.com/important/confidential/docs/index.htm#top\"\n",
    "separator = \" * \"\n",
    "respuesta = '<a href=\"/\">HOME</a> * <a href=\"/important/\">IMPORTANT</a> * <a href=\"/important/confidential/\">CONFIDENTIAL</a> * <span class=\"active\">DOCS</span>'\n",
    "print(respuesta)\n",
    "print(generate_bc(url, separator))\n",
    "print(\"\\n\")\n",
    "print(generate_bc(url, separator) == respuesta)"
   ]
  },
  {
   "cell_type": "code",
   "execution_count": 10,
   "metadata": {},
   "outputs": [
    {
     "name": "stdout",
     "output_type": "stream",
     "text": [
      "<a href=\"/\">HOME</a> ; <a href=\"/of-diplomatic-insider-meningitis/\">DIM</a> ; <a href=\"/of-diplomatic-insider-meningitis/insider-research-diplomatic-paper/\">IRDP</a> ; <a href=\"/of-diplomatic-insider-meningitis/insider-research-diplomatic-paper/of-transmutation-transmutation/\">OF TRANSMUTATION TRANSMUTATION</a> ; <span class=\"active\">GIACOMO SORBI</span>\n",
      "<a href=\"/\">HOME</a> ; <a href=\"/of-diplomatic-insider-meningitis/\">DIM</a> ; <a href=\"/of-diplomatic-insider-meningitis/insider-research-diplomatic-paper/\">IRDP</a> ; <a href=\"/of-diplomatic-insider-meningitis/insider-research-diplomatic-paper/of-transmutation-transmutation/\">OF TRANSMUTATION TRANSMUTATION</a> ; <span class=\"active\">GIACOMO SORBI</span>\n",
      "\n",
      "\n",
      "True\n"
     ]
    }
   ],
   "source": [
    "url = \"http://www.github.com/of-diplomatic-insider-meningitis/insider-research-diplomatic-paper/of-transmutation-transmutation/giacomo-sorbi.html#bottom\"\n",
    "separator = \" ; \"\n",
    "respuesta = '<a href=\"/\">HOME</a> ; <a href=\"/of-diplomatic-insider-meningitis/\">DIM</a> ; <a href=\"/of-diplomatic-insider-meningitis/insider-research-diplomatic-paper/\">IRDP</a> ; <a href=\"/of-diplomatic-insider-meningitis/insider-research-diplomatic-paper/of-transmutation-transmutation/\">OF TRANSMUTATION TRANSMUTATION</a> ; <span class=\"active\">GIACOMO SORBI</span>'\n",
    "print(respuesta)\n",
    "print(generate_bc(url, separator))\n",
    "print(\"\\n\")\n",
    "print(generate_bc(url, separator) == respuesta)"
   ]
  },
  {
   "cell_type": "code",
   "execution_count": 11,
   "metadata": {},
   "outputs": [
    {
     "name": "stdout",
     "output_type": "stream",
     "text": [
      "<a href=\"/\">HOME</a> + <a href=\"/from-surfer-a-for-pippi-for-a-transmutation-diplomatic/\">SPTD</a> + <a href=\"/from-surfer-a-for-pippi-for-a-transmutation-diplomatic/profiles/\">PROFILES</a> + <span class=\"active\">LOGIN</span>\n",
      "<a href=\"/\">HOME</a> + <a href=\"/from-surfer-a-for-pippi-for-a-transmutation-diplomatic/\">SPTD</a> + <a href=\"/from-surfer-a-for-pippi-for-a-transmutation-diplomatic/profiles/\">PROFILES</a> + <span class=\"active\">LOGIN</span>\n",
      "\n",
      "\n",
      "True\n"
     ]
    }
   ],
   "source": [
    "url = \"http://facebook.fr/from-surfer-a-for-pippi-for-a-transmutation-diplomatic/profiles/login.html\"\n",
    "separator = \" + \"\n",
    "respuesta = '<a href=\"/\">HOME</a> + <a href=\"/from-surfer-a-for-pippi-for-a-transmutation-diplomatic/\">SPTD</a> + <a href=\"/from-surfer-a-for-pippi-for-a-transmutation-diplomatic/profiles/\">PROFILES</a> + <span class=\"active\">LOGIN</span>'\n",
    "print(respuesta)\n",
    "print(generate_bc(url, separator))\n",
    "print(\"\\n\")\n",
    "print(generate_bc(url, separator) == respuesta)"
   ]
  },
  {
   "cell_type": "markdown",
   "metadata": {},
   "source": [
    "---"
   ]
  },
  {
   "cell_type": "markdown",
   "metadata": {},
   "source": [
    "# Convert a string to an array - [LINK](https://www.codewars.com/kata/57e76bc428d6fbc2d500036d)\n",
    "\n",
    "Write a function to split a string and convert it into an array of words.\n",
    "\n",
    "Examples (Input ==> Output):\n",
    "\n",
    "\"Robin Singh\" ==> [\"Robin\", \"Singh\"]\n",
    "\n",
    "\"I love arrays they are my favorite\" ==> [\"I\", \"love\", \"arrays\", \"they\", \"are\", \"my\", \"favorite\"]"
   ]
  },
  {
   "cell_type": "code",
   "execution_count": 12,
   "metadata": {},
   "outputs": [],
   "source": [
    "def string_to_array(s):\n",
    "    return s.split(' ')"
   ]
  },
  {
   "cell_type": "code",
   "execution_count": 13,
   "metadata": {},
   "outputs": [
    {
     "name": "stdout",
     "output_type": "stream",
     "text": [
      "['Robin', 'Singh']\n"
     ]
    }
   ],
   "source": [
    "string1 = \"Robin Singh\"\n",
    "\n",
    "print(string_to_array(string1))"
   ]
  },
  {
   "cell_type": "code",
   "execution_count": 14,
   "metadata": {},
   "outputs": [
    {
     "name": "stdout",
     "output_type": "stream",
     "text": [
      "['I', 'love', 'arrays', 'they', 'are', 'my', 'favorite']\n"
     ]
    }
   ],
   "source": [
    "string2 = \"I love arrays they are my favorite\"\n",
    "\n",
    "print(string_to_array(string2))"
   ]
  },
  {
   "cell_type": "markdown",
   "metadata": {},
   "source": [
    "---"
   ]
  },
  {
   "cell_type": "markdown",
   "metadata": {},
   "source": [
    "# Find Maximum and Minimum Values of a List - [LINK](https://www.codewars.com/kata/577a98a6ae28071780000989)\n",
    "\n",
    "Your task is to make two functions (max and min, or maximum and minimum, etc., depending on the language) that receive a list of integers as input, and return the largest and lowest number in that list, respectively.\n",
    "\n",
    "Examples (Input -> Output)\n",
    "\n",
    "* [4, 6, 2, 1, 9, 63, -134, 566]         -> max = 566, min = -134\n",
    "* [-52, 56, 30, 29, -54, 0, -110] -> min = -110, max = 56\n",
    "* [42, 54, 65, 87, 0]             -> min = 0, max = 87\n",
    "* [5]                             -> min = 5, max = 5\n",
    "\n",
    "Note: You may consider that there will not be any empty arrays/vectors."
   ]
  },
  {
   "cell_type": "code",
   "execution_count": 15,
   "metadata": {},
   "outputs": [],
   "source": [
    "def minimum(arr):\n",
    "    minn = float('inf')\n",
    "    for n in arr:\n",
    "        if n < minn:\n",
    "            minn = n\n",
    "    return minn\n",
    "\n",
    "\n",
    "def maximum(arr):\n",
    "    maxx = float('-inf')\n",
    "    for n in arr:\n",
    "        if n > maxx:\n",
    "            maxx = n\n",
    "    return maxx"
   ]
  },
  {
   "cell_type": "code",
   "execution_count": 16,
   "metadata": {},
   "outputs": [
    {
     "name": "stdout",
     "output_type": "stream",
     "text": [
      "-134\n",
      "566\n"
     ]
    }
   ],
   "source": [
    "l1 = [4, 6, 2, 1, 9, 63, -134, 566]\n",
    "print(minimum(l1))\n",
    "print(maximum(l1))"
   ]
  },
  {
   "cell_type": "code",
   "execution_count": 17,
   "metadata": {},
   "outputs": [
    {
     "name": "stdout",
     "output_type": "stream",
     "text": [
      "-110\n",
      "56\n"
     ]
    }
   ],
   "source": [
    "l2 = [-52, 56, 30, 29, -54, 0, -110]\n",
    "print(minimum(l2))\n",
    "print(maximum(l2))"
   ]
  },
  {
   "cell_type": "code",
   "execution_count": 18,
   "metadata": {},
   "outputs": [
    {
     "name": "stdout",
     "output_type": "stream",
     "text": [
      "0\n",
      "87\n"
     ]
    }
   ],
   "source": [
    "l3 = [42, 54, 65, 87, 0]\n",
    "print(minimum(l3))\n",
    "print(maximum(l3))"
   ]
  },
  {
   "cell_type": "code",
   "execution_count": 19,
   "metadata": {},
   "outputs": [
    {
     "name": "stdout",
     "output_type": "stream",
     "text": [
      "5\n",
      "5\n"
     ]
    }
   ],
   "source": [
    "l4 = [5]\n",
    "print(minimum(l4))\n",
    "print(maximum(l4))"
   ]
  }
 ],
 "metadata": {
  "kernelspec": {
   "display_name": "venv",
   "language": "python",
   "name": "python3"
  },
  "language_info": {
   "codemirror_mode": {
    "name": "ipython",
    "version": 3
   },
   "file_extension": ".py",
   "mimetype": "text/x-python",
   "name": "python",
   "nbconvert_exporter": "python",
   "pygments_lexer": "ipython3",
   "version": "3.11.3"
  }
 },
 "nbformat": 4,
 "nbformat_minor": 2
}
