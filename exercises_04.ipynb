{
 "cells": [
  {
   "cell_type": "code",
   "execution_count": 22,
   "metadata": {},
   "outputs": [],
   "source": [
    "from icecream import ic\n",
    "# ic.enable()\n",
    "# ic.disable()\n",
    "# venv/Scripts/Activate.ps1"
   ]
  },
  {
   "cell_type": "markdown",
   "metadata": {},
   "source": [
    "---"
   ]
  },
  {
   "cell_type": "markdown",
   "metadata": {},
   "source": [
    "# Calculate BMI\n",
    "\n",
    "Write function bmi that calculates body mass index (bmi = weight / height2).\n",
    "\n",
    "if bmi <= 18.5 return \"Underweight\"\n",
    "\n",
    "if bmi <= 25.0 return \"Normal\"\n",
    "\n",
    "if bmi <= 30.0 return \"Overweight\"\n",
    "\n",
    "if bmi > 30 return \"Obese\"\n",
    "\n",
    "[LINK](https://www.codewars.com/kata/57a429e253ba3381850000fb)"
   ]
  },
  {
   "cell_type": "code",
   "execution_count": 23,
   "metadata": {},
   "outputs": [],
   "source": [
    "def bmi(weight, height):\n",
    "    bmi = weight / height ** 2\n",
    "    if bmi <= 18.5:\n",
    "        return \"Underweight\"\n",
    "    elif bmi <= 25:\n",
    "        return \"Normal\"\n",
    "    elif bmi <= 30:\n",
    "        return \"Overweight\"\n",
    "    else:\n",
    "        return \"Obese\""
   ]
  },
  {
   "cell_type": "code",
   "execution_count": 24,
   "metadata": {},
   "outputs": [
    {
     "data": {
      "text/plain": [
       "'Underweight'"
      ]
     },
     "execution_count": 24,
     "metadata": {},
     "output_type": "execute_result"
    }
   ],
   "source": [
    "bmi(50, 1.80)\n",
    "# \"Underweight\""
   ]
  },
  {
   "cell_type": "code",
   "execution_count": 25,
   "metadata": {},
   "outputs": [
    {
     "data": {
      "text/plain": [
       "'Normal'"
      ]
     },
     "execution_count": 25,
     "metadata": {},
     "output_type": "execute_result"
    }
   ],
   "source": [
    "bmi(80, 1.80)\n",
    "# \"Normal\""
   ]
  },
  {
   "cell_type": "code",
   "execution_count": 26,
   "metadata": {},
   "outputs": [
    {
     "data": {
      "text/plain": [
       "'Overweight'"
      ]
     },
     "execution_count": 26,
     "metadata": {},
     "output_type": "execute_result"
    }
   ],
   "source": [
    "bmi(90, 1.80)\n",
    "# \"Overweight\""
   ]
  },
  {
   "cell_type": "code",
   "execution_count": 27,
   "metadata": {},
   "outputs": [
    {
     "data": {
      "text/plain": [
       "'Obese'"
      ]
     },
     "execution_count": 27,
     "metadata": {},
     "output_type": "execute_result"
    }
   ],
   "source": [
    "bmi(110, 1.80)\n",
    "# \"Obese\""
   ]
  },
  {
   "cell_type": "code",
   "execution_count": 28,
   "metadata": {},
   "outputs": [
    {
     "data": {
      "text/plain": [
       "'Normal'"
      ]
     },
     "execution_count": 28,
     "metadata": {},
     "output_type": "execute_result"
    }
   ],
   "source": [
    "bmi(50, 1.50)\n",
    "# \"Normal\""
   ]
  },
  {
   "cell_type": "markdown",
   "metadata": {},
   "source": [
    "---"
   ]
  },
  {
   "cell_type": "markdown",
   "metadata": {},
   "source": [
    "# Find The Parity Outlier\n",
    "\n",
    "You are given an array (which will have a length of at least 3, but could be very large) containing integers. The array is either entirely comprised of odd integers or entirely comprised of even integers except for a single integer N. Write a method that takes the array as an argument and returns this \"outlier\" N.\n",
    "\n",
    "Examples\n",
    "\n",
    "`[2, 4, 0, 100, 4, 11, 2602, 36]` -->  11 (the only odd number)\n",
    "\n",
    "`[160, 3, 1719, 19, 11, 13, -21]` --> 160 (the only even number)\n",
    "\n",
    "[LINK](https://www.codewars.com/kata/5526fc09a1bbd946250002dc)"
   ]
  },
  {
   "cell_type": "code",
   "execution_count": 29,
   "metadata": {},
   "outputs": [],
   "source": [
    "def find_outlier(integers):\n",
    "    even = 0\n",
    "    for i in integers[0:3]:\n",
    "        if i % 2 == 0:\n",
    "            even += 1\n",
    "    if even > 1:\n",
    "        for i in integers:\n",
    "            if i % 2 != 0:\n",
    "                return i\n",
    "    else:\n",
    "        for i in integers:\n",
    "            if i % 2 == 0:\n",
    "                return i"
   ]
  },
  {
   "cell_type": "code",
   "execution_count": 30,
   "metadata": {},
   "outputs": [
    {
     "data": {
      "text/plain": [
       "11"
      ]
     },
     "execution_count": 30,
     "metadata": {},
     "output_type": "execute_result"
    }
   ],
   "source": [
    "numbers_1 = [2, 4, 0, 100, 4, 11, 2602, 36]\n",
    "\n",
    "find_outlier(numbers_1)"
   ]
  },
  {
   "cell_type": "code",
   "execution_count": 31,
   "metadata": {},
   "outputs": [
    {
     "data": {
      "text/plain": [
       "160"
      ]
     },
     "execution_count": 31,
     "metadata": {},
     "output_type": "execute_result"
    }
   ],
   "source": [
    "numbers_2 = [160, 3, 1719, 19, 11, 13, -21]\n",
    "\n",
    "find_outlier(numbers_2)"
   ]
  },
  {
   "cell_type": "markdown",
   "metadata": {},
   "source": [
    "---"
   ]
  },
  {
   "cell_type": "markdown",
   "metadata": {},
   "source": [
    "# Reversed Words\n",
    "\n",
    "Complete the solution so that it reverses all of the words within the string passed in.\n",
    "\n",
    "Words are separated by exactly one space and there are no leading or trailing spaces.\n",
    "\n",
    "Example(Input --> Output):\n",
    "\n",
    "`\"The greatest victory is that which requires no battle\"` --> `\"battle no requires which that is victory greatest The\"`\n",
    "\n",
    "[LINK](https://www.codewars.com/kata/51c8991dee245d7ddf00000e)"
   ]
  },
  {
   "cell_type": "code",
   "execution_count": 32,
   "metadata": {},
   "outputs": [],
   "source": [
    "def reverse_words(s):\n",
    "    words_list = s.split()\n",
    "    reversed_list = words_list[::-1]\n",
    "    reversed_sentece = \" \".join(reversed_list)\n",
    "    return reversed_sentece"
   ]
  },
  {
   "cell_type": "code",
   "execution_count": 33,
   "metadata": {},
   "outputs": [
    {
     "data": {
      "text/plain": [
       "'battle no requires which that is victory greatest The'"
      ]
     },
     "execution_count": 33,
     "metadata": {},
     "output_type": "execute_result"
    }
   ],
   "source": [
    "sentence = \"The greatest victory is that which requires no battle\"\n",
    "\n",
    "reverse_words(sentence)"
   ]
  },
  {
   "cell_type": "markdown",
   "metadata": {},
   "source": [
    "---"
   ]
  },
  {
   "cell_type": "markdown",
   "metadata": {},
   "source": [
    "# Growth of a Population\n",
    "\n",
    "In a small town the population is p0 = 1000 at the beginning of a year. The population regularly increases by 2 percent per year and moreover 50 new inhabitants per year come to live in the town. How many years does the town need to see its population greater or equal to p = 1200 inhabitants?\n",
    "\n",
    "At the end of the first year there will be:\n",
    "\n",
    "`1000 + 1000 * 0.02 + 50 => 1070 inhabitants`\n",
    "\n",
    "At the end of the 2nd year there will be:\n",
    "\n",
    "`1070 + 1070 * 0.02 + 50 => 1141 inhabitants` (** number of inhabitants is an integer **)\n",
    "\n",
    "At the end of the 3rd year there will be:\n",
    "\n",
    "`1141 + 1141 * 0.02 + 50 => 1213`\n",
    "\n",
    "It will need 3 entire years.\n",
    "\n",
    "More generally given parameters:\n",
    "\n",
    "p0, percent, aug (inhabitants coming or leaving each year), p (population to equal or surpass)\n",
    "\n",
    "the function nb_year should return n number of entire years needed to get a population greater or equal to p.\n",
    "\n",
    "aug is an integer, percent a positive or null floating number, p0 and p are positive integers (> 0)\n",
    "\n",
    "Examples:\n",
    "\n",
    "`nb_year(1500, 5, 100, 5000) -> 15`\n",
    "\n",
    "`nb_year(1500000, 2.5, 10000, 2000000) -> 10`\n",
    "\n",
    "Note:\n",
    "\n",
    "Don't forget to convert the percent parameter as a percentage in the body of your function: if the parameter percent is 2 you have to convert it to 0.02.\n",
    "\n",
    "[LINK](https://www.codewars.com/kata/563b662a59afc2b5120000c6)"
   ]
  },
  {
   "cell_type": "code",
   "execution_count": 34,
   "metadata": {},
   "outputs": [],
   "source": [
    "def nb_year(p0, percent, aug, p):\n",
    "    years = 0\n",
    "    while p0 < p:\n",
    "        p0 = p0 + (p0 * percent / 100) // 1 + aug\n",
    "        years += 1\n",
    "    return years"
   ]
  },
  {
   "cell_type": "code",
   "execution_count": 35,
   "metadata": {},
   "outputs": [
    {
     "data": {
      "text/plain": [
       "3"
      ]
     },
     "execution_count": 35,
     "metadata": {},
     "output_type": "execute_result"
    }
   ],
   "source": [
    "nb_year(1000, 2, 50, 1200)\n",
    "# result = 3"
   ]
  },
  {
   "cell_type": "code",
   "execution_count": 36,
   "metadata": {},
   "outputs": [
    {
     "data": {
      "text/plain": [
       "15"
      ]
     },
     "execution_count": 36,
     "metadata": {},
     "output_type": "execute_result"
    }
   ],
   "source": [
    "nb_year(1500, 5, 100, 5000)\n",
    "# result = 15"
   ]
  },
  {
   "cell_type": "code",
   "execution_count": 37,
   "metadata": {},
   "outputs": [
    {
     "data": {
      "text/plain": [
       "10"
      ]
     },
     "execution_count": 37,
     "metadata": {},
     "output_type": "execute_result"
    }
   ],
   "source": [
    "nb_year(1500000, 2.5, 10000, 2000000)\n",
    "# result = 10"
   ]
  },
  {
   "cell_type": "markdown",
   "metadata": {},
   "source": [
    "---"
   ]
  },
  {
   "cell_type": "markdown",
   "metadata": {},
   "source": [
    "# Beginner Series #1 School Paperwork\n",
    "\n",
    "Your classmates asked you to copy some paperwork for them. You know that there are 'n' classmates and the paperwork has 'm' pages.\n",
    "\n",
    "Your task is to calculate how many blank pages do you need. If n < 0 or m < 0 return 0.\n",
    "\n",
    "Example:\n",
    "\n",
    "`n = 5, m = 5: 25`\n",
    "\n",
    "`n = -5, m = 5:  0`\n",
    "\n",
    "\n",
    "[LINK](https://www.codewars.com/kata/55f9b48403f6b87a7c0000bd)"
   ]
  },
  {
   "cell_type": "code",
   "execution_count": 38,
   "metadata": {},
   "outputs": [],
   "source": [
    "def paperwork(n, m):\n",
    "    if n < 0 or m < 0:\n",
    "        return 0\n",
    "    else:\n",
    "        return n * m"
   ]
  },
  {
   "cell_type": "code",
   "execution_count": 39,
   "metadata": {},
   "outputs": [
    {
     "data": {
      "text/plain": [
       "25"
      ]
     },
     "execution_count": 39,
     "metadata": {},
     "output_type": "execute_result"
    }
   ],
   "source": [
    "n1 = 5\n",
    "m1 = 5\n",
    "\n",
    "paperwork(n1, m1)"
   ]
  },
  {
   "cell_type": "code",
   "execution_count": 40,
   "metadata": {},
   "outputs": [
    {
     "data": {
      "text/plain": [
       "0"
      ]
     },
     "execution_count": 40,
     "metadata": {},
     "output_type": "execute_result"
    }
   ],
   "source": [
    "n2 = -5\n",
    "m2 = 0\n",
    "\n",
    "paperwork(n2, m2)"
   ]
  },
  {
   "cell_type": "markdown",
   "metadata": {},
   "source": [
    "---"
   ]
  },
  {
   "cell_type": "markdown",
   "metadata": {},
   "source": [
    "# Disemvowel Trolls\n",
    "\n",
    "Trolls are attacking your comment section!\n",
    "\n",
    "A common way to deal with this situation is to remove all of the vowels from the trolls' comments, neutralizing the threat.\n",
    "\n",
    "Your task is to write a function that takes a string and return a new string with all vowels removed.\n",
    "\n",
    "For example, the string \n",
    "\n",
    "`\"This website is for losers LOL!\"` would become `\"Ths wbst s fr lsrs LL!\"`.\n",
    "\n",
    "Note: for this kata y isn't considered a vowel.\n",
    "\n",
    "[LINK](https://www.codewars.com/kata/52fba66badcd10859f00097e/solutions/python)"
   ]
  },
  {
   "cell_type": "code",
   "execution_count": 41,
   "metadata": {},
   "outputs": [],
   "source": [
    "def disemvowel(string_):\n",
    "    vowels = ['a', 'e', 'i', 'o', 'u']\n",
    "    for s in string_:\n",
    "        if s.lower() in vowels:\n",
    "            string_ = string_.replace(s, \"\")\n",
    "    return string_"
   ]
  },
  {
   "cell_type": "code",
   "execution_count": 42,
   "metadata": {},
   "outputs": [
    {
     "data": {
      "text/plain": [
       "'Ths wbst s fr lsrs LL!'"
      ]
     },
     "execution_count": 42,
     "metadata": {},
     "output_type": "execute_result"
    }
   ],
   "source": [
    "string = \"This website is for losers LOL!\"\n",
    "\n",
    "disemvowel(string)"
   ]
  }
 ],
 "metadata": {
  "kernelspec": {
   "display_name": "venv",
   "language": "python",
   "name": "python3"
  },
  "language_info": {
   "codemirror_mode": {
    "name": "ipython",
    "version": 3
   },
   "file_extension": ".py",
   "mimetype": "text/x-python",
   "name": "python",
   "nbconvert_exporter": "python",
   "pygments_lexer": "ipython3",
   "version": "3.11.3"
  }
 },
 "nbformat": 4,
 "nbformat_minor": 2
}
