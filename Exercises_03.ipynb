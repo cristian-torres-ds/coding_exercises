{
 "cells": [
  {
   "cell_type": "markdown",
   "metadata": {},
   "source": [
    "# Convert a string to an array\n",
    "\n",
    "Write a function to split a string and convert it into an array of words.\n",
    "\n",
    "Examples (Input ==> Output):\n",
    "\n",
    "\"Robin Singh\" ==> [\"Robin\", \"Singh\"]\n",
    "\n",
    "\"I love arrays they are my favorite\" ==> [\"I\", \"love\", \"arrays\", \"they\", \"are\", \"my\", \"favorite\"]\n",
    "\n",
    "[LINK](https://www.codewars.com/kata/57e76bc428d6fbc2d500036d)\n"
   ]
  },
  {
   "cell_type": "code",
   "execution_count": 9,
   "metadata": {},
   "outputs": [],
   "source": [
    "def string_to_array(s):\n",
    "    return s.split(' ')"
   ]
  },
  {
   "cell_type": "code",
   "execution_count": 10,
   "metadata": {},
   "outputs": [
    {
     "name": "stdout",
     "output_type": "stream",
     "text": [
      "['Robin', 'Singh']\n"
     ]
    }
   ],
   "source": [
    "string1 = \"Robin Singh\"\n",
    "\n",
    "print(string_to_array(string1))"
   ]
  },
  {
   "cell_type": "code",
   "execution_count": 11,
   "metadata": {},
   "outputs": [
    {
     "name": "stdout",
     "output_type": "stream",
     "text": [
      "['I', 'love', 'arrays', 'they', 'are', 'my', 'favorite']\n"
     ]
    }
   ],
   "source": [
    "string2 = \"I love arrays they are my favorite\"\n",
    "\n",
    "print(string_to_array(string2))"
   ]
  },
  {
   "cell_type": "markdown",
   "metadata": {},
   "source": [
    "---"
   ]
  },
  {
   "cell_type": "markdown",
   "metadata": {},
   "source": [
    "# Find Maximum and Minimum Values of a List\n",
    "\n",
    "Your task is to make two functions (max and min, or maximum and minimum, etc., depending on the language) that receive a list of integers as input, and return the largest and lowest number in that list, respectively.\n",
    "\n",
    "Examples (Input -> Output)\n",
    "\n",
    "* [4, 6, 2, 1, 9, 63, -134, 566]         -> max = 566, min = -134\n",
    "* [-52, 56, 30, 29, -54, 0, -110] -> min = -110, max = 56\n",
    "* [42, 54, 65, 87, 0]             -> min = 0, max = 87\n",
    "* [5]                             -> min = 5, max = 5\n",
    "\n",
    "Note: You may consider that there will not be any empty arrays/vectors.\n",
    "\n",
    "[LINK](https://www.codewars.com/kata/577a98a6ae28071780000989)"
   ]
  },
  {
   "cell_type": "code",
   "execution_count": 12,
   "metadata": {},
   "outputs": [],
   "source": [
    "def minimum(arr):\n",
    "    minn = float('inf')\n",
    "    for n in arr:\n",
    "        if n < minn:\n",
    "            minn = n\n",
    "    return minn\n",
    "\n",
    "\n",
    "def maximum(arr):\n",
    "    maxx = float('-inf')\n",
    "    for n in arr:\n",
    "        if n > maxx:\n",
    "            maxx = n\n",
    "    return maxx"
   ]
  },
  {
   "cell_type": "code",
   "execution_count": 13,
   "metadata": {},
   "outputs": [
    {
     "name": "stdout",
     "output_type": "stream",
     "text": [
      "-134\n",
      "566\n"
     ]
    }
   ],
   "source": [
    "l1 = [4, 6, 2, 1, 9, 63, -134, 566]\n",
    "print(minimum(l1))\n",
    "print(maximum(l1))"
   ]
  },
  {
   "cell_type": "code",
   "execution_count": 14,
   "metadata": {},
   "outputs": [
    {
     "name": "stdout",
     "output_type": "stream",
     "text": [
      "-110\n",
      "56\n"
     ]
    }
   ],
   "source": [
    "l2 = [-52, 56, 30, 29, -54, 0, -110]\n",
    "print(minimum(l2))\n",
    "print(maximum(l2))"
   ]
  },
  {
   "cell_type": "code",
   "execution_count": 15,
   "metadata": {},
   "outputs": [
    {
     "name": "stdout",
     "output_type": "stream",
     "text": [
      "0\n",
      "87\n"
     ]
    }
   ],
   "source": [
    "l3 = [42, 54, 65, 87, 0]\n",
    "print(minimum(l3))\n",
    "print(maximum(l3))"
   ]
  },
  {
   "cell_type": "code",
   "execution_count": 16,
   "metadata": {},
   "outputs": [
    {
     "name": "stdout",
     "output_type": "stream",
     "text": [
      "5\n",
      "5\n"
     ]
    }
   ],
   "source": [
    "l4 = [5]\n",
    "print(minimum(l4))\n",
    "print(maximum(l4))"
   ]
  }
 ],
 "metadata": {
  "kernelspec": {
   "display_name": "venv",
   "language": "python",
   "name": "python3"
  },
  "language_info": {
   "codemirror_mode": {
    "name": "ipython",
    "version": 3
   },
   "file_extension": ".py",
   "mimetype": "text/x-python",
   "name": "python",
   "nbconvert_exporter": "python",
   "pygments_lexer": "ipython3",
   "version": "3.11.3"
  }
 },
 "nbformat": 4,
 "nbformat_minor": 2
}
