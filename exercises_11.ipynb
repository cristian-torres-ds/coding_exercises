{
 "cells": [
  {
   "cell_type": "markdown",
   "metadata": {},
   "source": [
    "# Decode the Morse code [LINK]()\n",
    "\n",
    "### Part of Series 1/3\n",
    "In this kata you have to write a simple [Morse code](https://en.wikipedia.org/wiki/Morse_code) decoder. While the Morse code is now mostly superseded by voice and digital data communication channels, it still has its use in some applications around the world.\n",
    "\n",
    "The Morse code encodes every character as a sequence of \"dots\" and \"dashes\". For example, the letter `A` is coded as `·−`, letter `Q` is coded as `−−·−`, and digit `1` is coded as `·−−−−`. The Morse code is case-insensitive, traditionally capital letters are used. When the message is written in Morse code, a single space is used to separate the character codes and 3 spaces are used to separate words. For example, the message `HEY JUDE` in Morse code is ```···· · −·−−   ·−−− ··− −·· ·```.\n",
    "\n",
    "**NOTE:** Extra spaces before or after the code have no meaning and should be ignored.\n",
    "\n",
    "In addition to letters, digits and some punctuation, there are some special service codes, the most notorious of those is the international distress signal [SOS](https://en.wikipedia.org/wiki/SOS) (that was first issued by [Titanic](https://en.wikipedia.org/wiki/Titanic)), that is coded as `···−−−···`. These special codes are treated as single special characters, and usually are transmitted as separate words.\n",
    "\n",
    "Your task is to implement a function that would take the morse code as input and return a decoded human-readable string.\n",
    "\n",
    "For example:\n",
    "\n",
    "```\n",
    "decode_morse('.... . -.--   .--- ..- -.. .')\n",
    "#should return \"HEY JUDE\"\n",
    "```\n",
    "\n",
    "**NOTE:** For coding purposes you have to use ASCII characters `.` and `-`, not Unicode characters.\n",
    "\n",
    "The Morse code table is preloaded for you as a dictionary, feel free to use it:\n",
    "\n",
    "* Coffeescript/C++/Go/JavaScript/Julia/PHP/Python/Ruby/TypeScript: `MORSE_CODE['.--']`\n",
    "* C#: `MorseCode.Get(\".--\")` (returns string)\n",
    "* F#: `MorseCode.get \".--\"` (returns string)\n",
    "* Elixir: `@morse_codes` variable (from `use MorseCode.Constants`). Ignore the unused variable warning for `morse_codes because` it's no longer used and kept only for old solutions.\n",
    "* Elm: `MorseCodes.get : Dict String String`\n",
    "* Haskell: `morseCodes ! \".--\"` (Codes are in a `Map String String`)\n",
    "* Java: `MorseCode.get(\".--\")`\n",
    "* Kotlin: `MorseCode[\".--\"] ?: \"\"` or `MorseCode.getOrDefault(\".--\", \"\")`\n",
    "* Racket: `morse-code` (a hash table)\n",
    "* Rust: `MORSE_CODE`\n",
    "* Scala: `morseCodes(\".--\")`\n",
    "* Swift: `MorseCode[\".--\"] ?? \"\"` or `MorseCode[\".--\", default: \"\"]`\n",
    "* C: provides parallel arrays, i.e. `morse[2] == \"-.-\"` for `ascii[2] == \"C\"`\n",
    "* NASM: a table of pointers to the morsecodes, and a corresponding list of ascii symbols\n",
    "\n",
    "All the test strings would contain valid Morse code, so you may skip checking for errors and exceptions. In C#, tests will fail if the solution code throws an exception, please keep that in mind. This is mostly because otherwise the engine would simply ignore the tests, resulting in a \"valid\" solution.\n",
    "\n",
    "Good luck!\n",
    "\n",
    "After you complete this kata, you may try yourself at [Decode the Morse code, advanced](http://www.codewars.com/kata/decode-the-morse-code-advanced)."
   ]
  },
  {
   "cell_type": "code",
   "execution_count": 1,
   "metadata": {},
   "outputs": [],
   "source": [
    "MORSE_CODE = {\n",
    "    'A': '.-', 'B': '-...', 'C': '-.-.', 'D': '-..', 'E': '.', 'F': '..-.', 'G': '--.', 'H': '....',\n",
    "    'I': '..', 'J': '.---', 'K': '-.-', 'L': '.-..', 'M': '--', 'N': '-.', 'O': '---', 'P': '.--.',\n",
    "    'Q': '--.-', 'R': '.-.', 'S': '...', 'T': '-', 'U': '..-', 'V': '...-', 'W': '.--', 'X': '-..-',\n",
    "    'Y': '-.--', 'Z': '--..', '0': '-----', '1': '.----', '2': '..---', '3': '...--', '4': '....-',\n",
    "    '5': '.....', '6': '-....', '7': '--...', '8': '---..', '9': '----.', '.': '.-.-.-', ',': '--..--',\n",
    "    '?': '..--..', \"'\": '.----.', '!': '-.-.--', '/': '-..-.', '(': '-.--.', ')': '-.--.-', '&': '.-...',\n",
    "    ':': '---...', ';': '-.-.-.', '=': '-...-', '+': '.-.-.', '-': '-....-', '_': '..--.-', '\"': '.-..-.',\n",
    "    '$': '...-..-', '@': '.--.-.', ' ': '/'\n",
    "}"
   ]
  },
  {
   "cell_type": "code",
   "execution_count": 2,
   "metadata": {},
   "outputs": [],
   "source": [
    "def decode_morse(morse_code):\n",
    "    MORSE_CODE['SOS'] = '...---...'\n",
    "    list_keys = list(MORSE_CODE.keys())\n",
    "    list_values = list(MORSE_CODE.values())\n",
    "\n",
    "    words = []\n",
    "    words_morse = morse_code.split('   ')\n",
    "\n",
    "    for w in words_morse:\n",
    "        char = w.split(' ')\n",
    "        for c in char:\n",
    "            words.append(list_keys[list_values.index(c)])\n",
    "        words.append(' ')\n",
    "\n",
    "    result = ''.join(words).rstrip()\n",
    "\n",
    "    return result"
   ]
  },
  {
   "cell_type": "code",
   "execution_count": 3,
   "metadata": {},
   "outputs": [],
   "source": [
    "list_keys = list(MORSE_CODE.keys())\n",
    "list_values = list(MORSE_CODE.values())\n",
    "\n",
    "for i in range(len(list_keys)):\n",
    "    MORSE_CODE[list_values[i]] = list_keys[i]"
   ]
  },
  {
   "cell_type": "code",
   "execution_count": 4,
   "metadata": {},
   "outputs": [
    {
     "name": "stdout",
     "output_type": "stream",
     "text": [
      "15000\n"
     ]
    }
   ],
   "source": [
    "car = {\n",
    "  \"brand\": \"Ford\",\n",
    "  \"model\": \"Mustang\",\n",
    "  \"year\": 1964\n",
    "}\n",
    "\n",
    "x = car.get(\"price\", 15000)\n",
    "\n",
    "print(x)"
   ]
  },
  {
   "cell_type": "code",
   "execution_count": 5,
   "metadata": {},
   "outputs": [],
   "source": [
    "def decode_morse(morse_code):\n",
    "    MORSE_CODE['...---...'] = 'SOS'\n",
    "\n",
    "    words = []\n",
    "    words_morse = morse_code.strip().split('   ')\n",
    "\n",
    "    for w in words_morse:\n",
    "        char = w.split(' ')\n",
    "        for c in char:\n",
    "            words.append(MORSE_CODE[c])\n",
    "        words.append(' ')\n",
    "\n",
    "    result = ''.join(words).rstrip()\n",
    "\n",
    "    return result"
   ]
  },
  {
   "cell_type": "code",
   "execution_count": 6,
   "metadata": {},
   "outputs": [
    {
     "name": "stdout",
     "output_type": "stream",
     "text": [
      "HEY JUDE\n",
      "HEY JUDE\n",
      "True\n"
     ]
    }
   ],
   "source": [
    "input = '.... . -.--   .--- ..- -.. .'\n",
    "output = decode_morse(input)\n",
    "correct_answer = \"HEY JUDE\"\n",
    "print(correct_answer)\n",
    "print(output)\n",
    "print(correct_answer == output)"
   ]
  },
  {
   "cell_type": "code",
   "execution_count": 7,
   "metadata": {},
   "outputs": [
    {
     "name": "stdout",
     "output_type": "stream",
     "text": [
      "A\n",
      "A\n",
      "True\n"
     ]
    }
   ],
   "source": [
    "input = '.-'\n",
    "output = decode_morse(input)\n",
    "correct_answer = \"A\"\n",
    "print(correct_answer)\n",
    "print(output)\n",
    "print(correct_answer == output)"
   ]
  },
  {
   "cell_type": "code",
   "execution_count": 8,
   "metadata": {},
   "outputs": [
    {
     "name": "stdout",
     "output_type": "stream",
     "text": [
      "7\n",
      "7\n",
      "True\n"
     ]
    }
   ],
   "source": [
    "input = '--...'\n",
    "output = decode_morse(input)\n",
    "correct_answer = \"7\"\n",
    "print(correct_answer)\n",
    "print(output)\n",
    "print(correct_answer == output)"
   ]
  },
  {
   "cell_type": "code",
   "execution_count": 9,
   "metadata": {},
   "outputs": [
    {
     "name": "stdout",
     "output_type": "stream",
     "text": [
      "$\n",
      "$\n",
      "True\n"
     ]
    }
   ],
   "source": [
    "input = '...-..-'\n",
    "output = decode_morse(input)\n",
    "correct_answer = \"$\"\n",
    "print(correct_answer)\n",
    "print(output)\n",
    "print(correct_answer == output)"
   ]
  },
  {
   "cell_type": "code",
   "execution_count": 10,
   "metadata": {},
   "outputs": [
    {
     "name": "stdout",
     "output_type": "stream",
     "text": [
      "E\n",
      "E\n",
      "True\n"
     ]
    }
   ],
   "source": [
    "input = '.'\n",
    "output = decode_morse(input)\n",
    "correct_answer = \"E\"\n",
    "print(correct_answer)\n",
    "print(output)\n",
    "print(correct_answer == output)"
   ]
  },
  {
   "cell_type": "code",
   "execution_count": 11,
   "metadata": {},
   "outputs": [
    {
     "name": "stdout",
     "output_type": "stream",
     "text": [
      "I\n",
      "I\n",
      "True\n"
     ]
    }
   ],
   "source": [
    "input = '..'\n",
    "output = decode_morse(input)\n",
    "correct_answer = \"I\"\n",
    "print(correct_answer)\n",
    "print(output)\n",
    "print(correct_answer == output)"
   ]
  },
  {
   "cell_type": "code",
   "execution_count": 12,
   "metadata": {},
   "outputs": [
    {
     "name": "stdout",
     "output_type": "stream",
     "text": [
      "EE\n",
      "EE\n",
      "True\n"
     ]
    }
   ],
   "source": [
    "input = '. .'\n",
    "output = decode_morse(input)\n",
    "correct_answer = \"EE\"\n",
    "print(correct_answer)\n",
    "print(output)\n",
    "print(correct_answer == output)"
   ]
  },
  {
   "cell_type": "code",
   "execution_count": 13,
   "metadata": {},
   "outputs": [
    {
     "name": "stdout",
     "output_type": "stream",
     "text": [
      "E E\n",
      "E E\n",
      "True\n"
     ]
    }
   ],
   "source": [
    "input = '.   .'\n",
    "output = decode_morse(input)\n",
    "correct_answer = \"E E\"\n",
    "print(correct_answer)\n",
    "print(output)\n",
    "print(correct_answer == output)"
   ]
  },
  {
   "cell_type": "code",
   "execution_count": 14,
   "metadata": {},
   "outputs": [
    {
     "name": "stdout",
     "output_type": "stream",
     "text": [
      "$$$\n",
      "$$$\n",
      "True\n"
     ]
    }
   ],
   "source": [
    "input = '...-..- ...-..- ...-..-'\n",
    "output = decode_morse(input)\n",
    "correct_answer = \"$$$\"\n",
    "print(correct_answer)\n",
    "print(output)\n",
    "print(correct_answer == output)"
   ]
  },
  {
   "cell_type": "code",
   "execution_count": 15,
   "metadata": {},
   "outputs": [
    {
     "name": "stdout",
     "output_type": "stream",
     "text": [
      "01289\n",
      "01289\n",
      "True\n"
     ]
    }
   ],
   "source": [
    "input = '----- .---- ..--- ---.. ----.'\n",
    "output = decode_morse(input)\n",
    "correct_answer = \"01289\"\n",
    "print(correct_answer)\n",
    "print(output)\n",
    "print(correct_answer == output)"
   ]
  },
  {
   "cell_type": "code",
   "execution_count": 16,
   "metadata": {},
   "outputs": [
    {
     "name": "stdout",
     "output_type": "stream",
     "text": [
      "&: /7\n",
      "&: /7\n",
      "True\n"
     ]
    }
   ],
   "source": [
    "input = '.-... ---...   -..-. --...'\n",
    "output = decode_morse(input)\n",
    "correct_answer = \"&: /7\"\n",
    "print(correct_answer)\n",
    "print(output)\n",
    "print(correct_answer == output)"
   ]
  },
  {
   "cell_type": "code",
   "execution_count": 17,
   "metadata": {},
   "outputs": [
    {
     "name": "stdout",
     "output_type": "stream",
     "text": [
      "SOS\n",
      "SOS\n",
      "True\n"
     ]
    }
   ],
   "source": [
    "input = '...---...'\n",
    "output = decode_morse(input)\n",
    "correct_answer = \"SOS\"\n",
    "print(correct_answer)\n",
    "print(output)\n",
    "print(correct_answer == output)"
   ]
  },
  {
   "cell_type": "code",
   "execution_count": 18,
   "metadata": {},
   "outputs": [
    {
     "name": "stdout",
     "output_type": "stream",
     "text": [
      "SOS\n",
      "SOS\n",
      "True\n"
     ]
    }
   ],
   "source": [
    "input = '... --- ...'\n",
    "output = decode_morse(input)\n",
    "correct_answer = \"SOS\"\n",
    "print(correct_answer)\n",
    "print(output)\n",
    "print(correct_answer == output)"
   ]
  },
  {
   "cell_type": "code",
   "execution_count": 19,
   "metadata": {},
   "outputs": [
    {
     "name": "stdout",
     "output_type": "stream",
     "text": [
      "S O S\n",
      "S O S\n",
      "True\n"
     ]
    }
   ],
   "source": [
    "input = '...   ---   ...'\n",
    "output = decode_morse(input)\n",
    "correct_answer = \"S O S\"\n",
    "print(correct_answer)\n",
    "print(output)\n",
    "print(correct_answer == output)"
   ]
  },
  {
   "cell_type": "code",
   "execution_count": 20,
   "metadata": {},
   "outputs": [
    {
     "name": "stdout",
     "output_type": "stream",
     "text": [
      "E\n",
      "E\n",
      "True\n"
     ]
    }
   ],
   "source": [
    "input = ' . '\n",
    "output = decode_morse(input)\n",
    "correct_answer = \"E\"\n",
    "print(correct_answer)\n",
    "print(output)\n",
    "print(correct_answer == output)"
   ]
  },
  {
   "cell_type": "code",
   "execution_count": 21,
   "metadata": {},
   "outputs": [
    {
     "name": "stdout",
     "output_type": "stream",
     "text": [
      "E E\n",
      "E E\n",
      "True\n"
     ]
    }
   ],
   "source": [
    "input = '   .   . '\n",
    "output = decode_morse(input)\n",
    "correct_answer = \"E E\"\n",
    "print(correct_answer)\n",
    "print(output)\n",
    "print(correct_answer == output)"
   ]
  },
  {
   "cell_type": "code",
   "execution_count": 22,
   "metadata": {},
   "outputs": [
    {
     "name": "stdout",
     "output_type": "stream",
     "text": [
      "SOS! THE QUICK BROWN FOX JUMPS OVER THE LAZY DOG.\n",
      "SOS! THE QUICK BROWN FOX JUMPS OVER THE LAZY DOG.\n",
      "True\n"
     ]
    }
   ],
   "source": [
    "input = '      ...---... -.-.--   - .... .   --.- ..- .. -.-. -.-   -... .-. --- .-- -.   ..-. --- -..-   .--- ..- -- .--. ...   --- ...- . .-.   - .... .   .-.. .- --.. -.--   -.. --- --. .-.-.-  '\n",
    "output = decode_morse(input)\n",
    "correct_answer = \"SOS! THE QUICK BROWN FOX JUMPS OVER THE LAZY DOG.\"\n",
    "print(correct_answer)\n",
    "print(output)\n",
    "print(correct_answer == output)"
   ]
  },
  {
   "cell_type": "markdown",
   "metadata": {},
   "source": [
    "---"
   ]
  },
  {
   "cell_type": "markdown",
   "metadata": {},
   "source": [
    "# Decode the Morse code, advanced\n",
    "\n",
    "### Part of Series 2/3\n",
    "This kata is part of a series on the Morse code. Make sure you solve the [previous part](https://www.codewars.com/kata/decode-the-morse-code) before you try this one. After you solve this kata, you may move to the [next one](https://www.codewars.com/kata/decode-the-morse-code-for-real).\n",
    "\n",
    "\n",
    "In this kata you have to write a [Morse code](https://en.wikipedia.org/wiki/Morse_code) decoder for [wired electrical telegraph](https://en.wikipedia.org/wiki/Electrical_telegraph).\n",
    "Electric telegraph is operated on a 2-wire line with a key that, when pressed, connects the wires together, which can be detected on a remote station. The Morse code encodes every character being transmitted as a sequence of \"dots\" (short presses on the key) and \"dashes\" (long presses on the key).\n",
    "\n",
    "When transmitting the Morse code, the international standard specifies that:\n",
    "\n",
    "* \"Dot\" – is 1 time unit long.\n",
    "* \"Dash\" – is 3 time units long.\n",
    "* Pause between dots and dashes in a character – is 1 time unit long.\n",
    "* Pause between characters inside a word – is 3 time units long.\n",
    "* Pause between words – is 7 time units long.\n",
    "\n",
    "However, the standard does not specify how long that \"time unit\" is. And in fact different operators would transmit at different speed. An amateur person may need a few seconds to transmit a single character, a skilled professional can transmit 60 words per minute, and robotic transmitters may go way faster.\n",
    "\n",
    "For this kata we assume the message receiving is performed automatically by the hardware that checks the line periodically, and if the line is connected (the key at the remote station is down), `1` is recorded, and if the line is not connected (remote key is up), `0` is recorded. After the message is fully received, it gets to you for decoding as a string containing only symbols `0` and `1`.\n",
    "\n",
    "For example, the message `HEY JUDE`, that is `···· · −·−−   ·−−− ··− −·· ·` may be received as follows:\n",
    "\n",
    "`1100110011001100000011000000111111001100111111001111110000000000000011001111110011111100111111000000110011001111110000001111110011001100000011`\n",
    "\n",
    "As you may see, this transmission is perfectly accurate according to the standard, and the hardware sampled the line exactly two times per \"dot\".\n",
    "\n",
    "That said, your task is to implement two functions:\n",
    "\n",
    "1. Function `decode_bits(bits)`, that should find out the transmission rate of the message, correctly decode the message to dots `.`, dashes `-` and spaces (one between characters, three between words) and return those as a string. Note that some extra `0`'s may naturally occur at the beginning and the end of a message, make sure to ignore them. Also if you have trouble discerning if the particular sequence of `1`'s is a dot or a dash, assume it's a dot.\n",
    "\n",
    "2. Function `decode_morse(morse_code)`, that would take the output of the previous function and return a human-readable string.\n",
    "\n",
    "**NOTE**: For coding purposes you have to use ASCII characters `.` and `-`, not Unicode characters.\n",
    "\n",
    "The Morse code table is preloaded for you (see the solution setup, to get its identifier in your language).\n",
    "\n",
    "\n",
    "Eg:\n",
    "```\n",
    "morse_codes(\".--\") //to access the morse translation of \".--\"\n",
    "```\n",
    "\n",
    "All the test strings would be valid to the point that they could be reliably decoded as described above, so you may skip checking for errors and exceptions, just do your best in figuring out what the message is!\n",
    "\n",
    "Good luck!\n",
    "\n",
    "After you master this kata, you may try to [Decode the Morse code, for real](http://www.codewars.com/kata/decode-the-morse-code-for-real)."
   ]
  },
  {
   "cell_type": "code",
   "execution_count": 23,
   "metadata": {},
   "outputs": [],
   "source": [
    "def decode_bits(bits):\n",
    "    bits = bits.strip('0')\n",
    "    \n",
    "    if '0' in bits:\n",
    "        unit_long = min(len(x) for x in bits.split('0') if x != '')\n",
    "        unit_short = min(len(x) for x in bits.split('1') if x != '')\n",
    "        unit = min(unit_long, unit_short)\n",
    "    else:\n",
    "        unit = len(bits)\n",
    "\n",
    "    morse = ''\n",
    "    for i in range(0, len(bits), unit):\n",
    "        morse += bits[i]\n",
    "\n",
    "    return morse.replace('0000000', '   ').replace('111', '-').replace('000', ' ').replace('1', '.').replace('0', '')\n",
    "\n",
    "\n",
    "def decode_morse(morse_code):\n",
    "    words = []\n",
    "    for morse_word in morse_code.split('   '):\n",
    "        word = ''.join(MORSE_CODE.get(morse_char, '') for morse_char in morse_word.split(' '))\n",
    "        if word:\n",
    "            words.append(word)\n",
    "    return ' '.join(words)"
   ]
  },
  {
   "cell_type": "code",
   "execution_count": 24,
   "metadata": {},
   "outputs": [
    {
     "name": "stdout",
     "output_type": "stream",
     "text": [
      ".... . -.--   .--- ..- -.. .\n",
      ".... . -.--   .--- ..- -.. .\n",
      "True\n"
     ]
    }
   ],
   "source": [
    "input = '1100110011001100000011000000111111001100111111001111110000000000000011001111110011111100111111000000110011001111110000001111110011001100000011'\n",
    "output = decode_bits(input)\n",
    "correct_answer = '.... . -.--   .--- ..- -.. .'\n",
    "print(correct_answer)\n",
    "print(output)\n",
    "print(correct_answer == output)"
   ]
  },
  {
   "cell_type": "code",
   "execution_count": 25,
   "metadata": {},
   "outputs": [
    {
     "name": "stdout",
     "output_type": "stream",
     "text": [
      "HEY JUDE\n",
      "HEY JUDE\n",
      "True\n"
     ]
    }
   ],
   "source": [
    "input = '1100110011001100000011000000111111001100111111001111110000000000000011001111110011111100111111000000110011001111110000001111110011001100000011'\n",
    "output = decode_morse(decode_bits(input))\n",
    "correct_answer = \"HEY JUDE\"\n",
    "print(correct_answer)\n",
    "print(output)\n",
    "print(correct_answer == output)"
   ]
  },
  {
   "cell_type": "markdown",
   "metadata": {},
   "source": [
    "---"
   ]
  },
  {
   "cell_type": "markdown",
   "metadata": {},
   "source": [
    "# Decode the Morse code, for real\n",
    "\n",
    "### Part of Series 3/3\n",
    "This kata is part of a series on the Morse code. Make sure you solve the [first part](/kata/decode-the-morse-code) and the [second part](/kata/decode-the-morse-code-advanced) and then reuse and advance your code to solve this one.\n",
    "\n",
    "In this kata you have to deal with \"real-life\" scenarios, when Morse code transmission speed slightly varies throughout the message as it is sent by a non-perfect human operator. Also the sampling frequency may not be a multiple of the length of a typical \"dot\".\n",
    "For example, the message `HEY JUDE`, that is `···· · −·−−   ·−−− ··− −·· ·` may actually be received as follows:\n",
    "\n",
    "`0000000011011010011100000110000001111110100111110011111100000000000111011111111011111011111000000101100011111100000111110011101100000100000`\n",
    "\n",
    "As you may see, this transmission is generally accurate according to the standard, but some dots and dashes and pauses are a bit shorter or a bit longer than the others.\n",
    "\n",
    "Note also, that, in contrast to the previous kata, the estimated average rate (bits per dot) may not be a whole number – as the hypotetical transmitter is a human and doesn't know anything about the receiving side sampling rate.\n",
    "\n",
    "For example, you may sample line 10 times per second (100ms per sample), while the operator transmits so that his dots and short pauses are 110-170ms long. Clearly 10 samples per second is enough resolution for this speed (meaning, each dot and pause is reflected in the output, nothing is missed), and dots would be reflected as 1 or 11, but if you try to estimate rate (bits per dot), it would not be 1 or 2, it would be about (110 + 170) / 2 / 100 = 1.4. Your algorithm should deal with situations like this well.\n",
    "\n",
    "Also, remember that each separate message is supposed to be possibly sent by a different operator, so its rate and other characteristics would be different. So you have to analyze each message (i. e. test) independently, without relying on previous messages. On the other hand, we assume the transmission charactestics remain consistent throghout the message, so you have to analyze the message as a whole to make decoding right. Consistency means that if in the beginning of a message '11111' is a dot and '111111' is a dash, then the same is true everywhere in that message. Moreover, it also means '00000' is definitely a short (in-character) pause, and '000000' is a long (between-characters) pause.\n",
    "\n",
    "That said, your task is to implement two functions:\n",
    "\n",
    "1. Function `decode_bits_advanced(bits)`, that should find an estimate for the transmission rate of the message, take care about slight speed variations that may occur in the message, correctly decode the message to dots `.`, dashes `-` and spaces (one between characters, three between words) and return those as a string. Note that some extra `0`'s may naturally occur at the beginning and the end of a message, make sure to ignore them. If message is empty or only contains `0`'s, return empty string. Also if you have trouble discerning if the particular sequence of `1`'s is a dot or a dash, assume it's a dot. If stuck, check [this](https://en.wikipedia.org/wiki/K-means_clustering) for ideas.\n",
    "\n",
    "2. Function `decode_morse(morse_code)`, that would take the output of the previous function and return a human-readable string. If the input is empty string or only contains spaces, return empty string.\n",
    "\n",
    "**NOTE:** For coding purposes you have to use ASCII characters `.` and `-`, not Unicode characters.\n",
    "\n",
    "The Morse code table is preloaded for you as `MORSE_CODE` dictionary, feel free to use it. For C, the function `morse_code` acts like the dictionary. For C++, Scala and Go, a map is used. For C#, it's called `Preloaded.MORSE_CODE`. For Racket, a hash called MORSE-CODE is used.\n",
    "```\n",
    "(hash-ref MORSE-CODE \"\".-.\") ; returns \"C\"\n",
    "```\n",
    "Of course, not all messages may be fully automatically decoded. But you may be sure that all the test strings would be valid to the point that they could be reliably decoded as described above, so you may skip checking for errors and exceptions, just do your best in figuring out what the message is!"
   ]
  },
  {
   "cell_type": "code",
   "execution_count": null,
   "metadata": {},
   "outputs": [],
   "source": [
    "def decodeBitsAdvanced(bits):\n",
    "    # ToDo: Accept 0's and 1's, return dots, dashes and spaces\n",
    "    return bits.replace('111', '-').replace('000', ' ').replace('1', '.').replace('0', '')\n",
    "\n",
    "def decodeMorse(morseCode):\n",
    "    # ToDo: Accept dots, dashes and spaces, return human-readable message\n",
    "    return morseCode.replace('.', 'E').replace('-', 'T').replace(' ', '')"
   ]
  }
 ],
 "metadata": {
  "kernelspec": {
   "display_name": "venv",
   "language": "python",
   "name": "python3"
  },
  "language_info": {
   "codemirror_mode": {
    "name": "ipython",
    "version": 3
   },
   "file_extension": ".py",
   "mimetype": "text/x-python",
   "name": "python",
   "nbconvert_exporter": "python",
   "pygments_lexer": "ipython3",
   "version": "3.11.3"
  }
 },
 "nbformat": 4,
 "nbformat_minor": 2
}
