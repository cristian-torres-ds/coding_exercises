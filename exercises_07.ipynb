{
 "cells": [
  {
   "cell_type": "markdown",
   "metadata": {},
   "source": [
    "# Duplicate Encoder\n",
    "\n",
    "The goal of this exercise is to convert a string to a new string where each character in the new string is \"(\" if that character appears only once in the original string, or \")\" if that character appears more than once in the original string. Ignore capitalization when determining if a character is a duplicate.\n",
    "\n",
    "Examples:\n",
    "\n",
    "`\"din\"      =>  \"(((\"`\n",
    "\n",
    "`\"recede\"   =>  \"()()()\"`\n",
    "\n",
    "`\"Success\"  =>  \")())())\"`\n",
    "\n",
    "`\"(( @\"     =>  \"))((\"`\n",
    "\n",
    "Notes:\n",
    "\n",
    "Assertion messages may be unclear about what they display in some languages.\n",
    "\n",
    "If you read \"...It Should encode XXX\", the \"XXX\" is the expected result, not the input!\n",
    "\n",
    "[LINK](https://www.codewars.com/kata/54b42f9314d9229fd6000d9c)"
   ]
  },
  {
   "cell_type": "code",
   "execution_count": 15,
   "metadata": {},
   "outputs": [],
   "source": [
    "def duplicate_encode(word):\n",
    "    word = word.lower()\n",
    "    length = len(word)\n",
    "    word_list = list(word)\n",
    "    encoded_list = []\n",
    "    for i in range(length):\n",
    "        if word_list[i] not in (word_list[:i] + word_list[i+1:]):\n",
    "            encoded_list.append('(')\n",
    "        else:\n",
    "            encoded_list.append(')')\n",
    "\n",
    "    encoded = ''.join(encoded_list)\n",
    "\n",
    "    return encoded"
   ]
  },
  {
   "cell_type": "code",
   "execution_count": 16,
   "metadata": {},
   "outputs": [
    {
     "name": "stdout",
     "output_type": "stream",
     "text": [
      "(((\n",
      "(((\n",
      "True\n"
     ]
    }
   ],
   "source": [
    "test = duplicate_encode(\"din\")\n",
    "answer = \"(((\"\n",
    "print(test)\n",
    "print(answer)\n",
    "print(test == answer)"
   ]
  },
  {
   "cell_type": "code",
   "execution_count": 17,
   "metadata": {},
   "outputs": [
    {
     "name": "stdout",
     "output_type": "stream",
     "text": [
      "()()()\n",
      "()()()\n",
      "True\n"
     ]
    }
   ],
   "source": [
    "test = duplicate_encode(\"recede\")\n",
    "answer = \"()()()\"\n",
    "print(test)\n",
    "print(answer)\n",
    "print(test == answer)"
   ]
  },
  {
   "cell_type": "code",
   "execution_count": 18,
   "metadata": {},
   "outputs": [
    {
     "name": "stdout",
     "output_type": "stream",
     "text": [
      ")())())\n",
      ")())())\n",
      "True\n"
     ]
    }
   ],
   "source": [
    "test = duplicate_encode(\"Success\")\n",
    "answer = \")())())\"\n",
    "print(test)\n",
    "print(answer)\n",
    "print(test == answer)"
   ]
  },
  {
   "cell_type": "code",
   "execution_count": 19,
   "metadata": {},
   "outputs": [
    {
     "name": "stdout",
     "output_type": "stream",
     "text": [
      "))((\n",
      "))((\n",
      "True\n"
     ]
    }
   ],
   "source": [
    "test = duplicate_encode(\"(( @\")\n",
    "answer = \"))((\"\n",
    "print(test)\n",
    "print(answer)\n",
    "print(test == answer)"
   ]
  },
  {
   "cell_type": "markdown",
   "metadata": {},
   "source": [
    "---"
   ]
  },
  {
   "cell_type": "markdown",
   "metadata": {},
   "source": [
    "# Count by X\n",
    "\n",
    "Create a function with two arguments that will return an array of the first `n` multiples of `x`.\n",
    "\n",
    "Assume both the given number and the number of times to count will be positive numbers greater than `0`.\n",
    "\n",
    "Return the results as an array or list ( depending on language ).\n",
    "\n",
    "Examples:<br>\n",
    "`count_by(1,10) #should return [1,2,3,4,5,6,7,8,9,10]`<br>\n",
    "`count_by(2,5) #should return [2,4,6,8,10]`\n",
    "\n",
    "[LINK](https://www.codewars.com/kata/5513795bd3fafb56c200049e)"
   ]
  },
  {
   "cell_type": "code",
   "execution_count": 20,
   "metadata": {},
   "outputs": [],
   "source": [
    "def count_by(x, n):\n",
    "    array = []\n",
    "    multiple = 0\n",
    "    for i in range(n):\n",
    "        multiple += x\n",
    "        array.append(multiple)\n",
    "    return array"
   ]
  },
  {
   "cell_type": "code",
   "execution_count": 21,
   "metadata": {},
   "outputs": [
    {
     "name": "stdout",
     "output_type": "stream",
     "text": [
      "[1, 2, 3, 4, 5, 6, 7, 8, 9, 10]\n",
      "[1, 2, 3, 4, 5, 6, 7, 8, 9, 10]\n",
      "True\n"
     ]
    }
   ],
   "source": [
    "test = count_by(1, 10)\n",
    "answer = [1,2,3,4,5,6,7,8,9,10]\n",
    "print(test)\n",
    "print(answer)\n",
    "print(test == answer)"
   ]
  },
  {
   "cell_type": "code",
   "execution_count": 22,
   "metadata": {},
   "outputs": [
    {
     "name": "stdout",
     "output_type": "stream",
     "text": [
      "[2, 4, 6, 8, 10]\n",
      "[2, 4, 6, 8, 10]\n",
      "True\n"
     ]
    }
   ],
   "source": [
    "test = count_by(2, 5)\n",
    "answer = [2,4,6,8,10]\n",
    "print(test)\n",
    "print(answer)\n",
    "print(test == answer)"
   ]
  },
  {
   "cell_type": "code",
   "execution_count": 23,
   "metadata": {},
   "outputs": [
    {
     "name": "stdout",
     "output_type": "stream",
     "text": [
      "[1, 2, 3, 4, 5]\n",
      "[1, 2, 3, 4, 5]\n",
      "True\n"
     ]
    }
   ],
   "source": [
    "test = count_by(1, 5)\n",
    "answer = [1, 2, 3, 4, 5]\n",
    "print(test)\n",
    "print(answer)\n",
    "print(test == answer)"
   ]
  },
  {
   "cell_type": "code",
   "execution_count": 24,
   "metadata": {},
   "outputs": [
    {
     "name": "stdout",
     "output_type": "stream",
     "text": [
      "[3, 6, 9, 12, 15]\n",
      "[3, 6, 9, 12, 15]\n",
      "True\n"
     ]
    }
   ],
   "source": [
    "test = count_by(3, 5)\n",
    "answer = [3, 6, 9, 12, 15]\n",
    "print(test)\n",
    "print(answer)\n",
    "print(test == answer)"
   ]
  },
  {
   "cell_type": "code",
   "execution_count": 25,
   "metadata": {},
   "outputs": [
    {
     "name": "stdout",
     "output_type": "stream",
     "text": [
      "[50, 100, 150, 200, 250]\n",
      "[50, 100, 150, 200, 250]\n",
      "True\n"
     ]
    }
   ],
   "source": [
    "test = count_by(50, 5)\n",
    "answer = [50, 100, 150, 200, 250]\n",
    "print(test)\n",
    "print(answer)\n",
    "print(test == answer)"
   ]
  },
  {
   "cell_type": "code",
   "execution_count": 26,
   "metadata": {},
   "outputs": [
    {
     "name": "stdout",
     "output_type": "stream",
     "text": [
      "[100, 200, 300, 400, 500]\n",
      "[100, 200, 300, 400, 500]\n",
      "True\n"
     ]
    }
   ],
   "source": [
    "test = count_by(100, 5)\n",
    "answer = [100, 200, 300, 400, 500]\n",
    "print(test)\n",
    "print(answer)\n",
    "print(test == answer)"
   ]
  },
  {
   "cell_type": "markdown",
   "metadata": {},
   "source": [
    "---"
   ]
  }
 ],
 "metadata": {
  "kernelspec": {
   "display_name": "venv",
   "language": "python",
   "name": "python3"
  },
  "language_info": {
   "codemirror_mode": {
    "name": "ipython",
    "version": 3
   },
   "file_extension": ".py",
   "mimetype": "text/x-python",
   "name": "python",
   "nbconvert_exporter": "python",
   "pygments_lexer": "ipython3",
   "version": "3.11.3"
  }
 },
 "nbformat": 4,
 "nbformat_minor": 2
}
