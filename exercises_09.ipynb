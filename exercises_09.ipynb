{
 "cells": [
  {
   "cell_type": "markdown",
   "metadata": {},
   "source": [
    "# N-Hybrid Inheritance - [LINK](https://www.codewars.com/kata/62969396fc636500531832a4)\n",
    "\n",
    "'The Punnett square is a square diagram that is used to predict the genotypes of a particular cross or breeding experiment. It is named after Reginald C. Punnett, who devised the approach in 1905. The diagram is used by biologists to determine the probability of an offspring having a particular genotype. The Punnett square is a tabular summary of possible combinations of maternal alleles with paternal alleles.' - Wikipedia\n",
    "\n",
    "When mating a mother (Bb) and a father (Bb), the offspring genotype is predicted by finding every possible combination of alleles from the parents. As shown in the diagram below the four possible outcomes are BB, Bb, Bb and bb. This is known as Monohybrid Inheritance as only a single gene (or letter) is being utilised"
   ]
  },
  {
   "cell_type": "raw",
   "metadata": {},
   "source": [
    "┌─┬──┬──┐\n",
    "│ │B │b │\n",
    "├─┼──┼──┤\n",
    "│B│BB│Bb│\n",
    "├─┼──┼──┤\n",
    "│b│Bb│bb│\n",
    "└─┴──┴──┘"
   ]
  },
  {
   "cell_type": "markdown",
   "metadata": {},
   "source": [
    "A capital letter implies that the allele for the gene is dominant and a non capital letter implies that the allele for the gene is recessive. If the B allele is lets say brown eyes and the b allele is lets say blue eyes. If the alleles of a person are BB, they will have brown eyes. Similarly if the alleles of a person are bb, they will have blue eyes. However if the alleles of a person are Bb they have brown eyes as the dominant B or brown allele will 'dominate' over the recessive b or blue allele.\n",
    "\n",
    "Furthermore this type of inheritance can be extended for multiple genes. If there are two different genes, this is known as dihybrid inheritance. For example for a mother with the alleles RrAa and a father with the alleles RrAa, their offspring will have 16 possible genotypes, shown in the Punnett square below."
   ]
  },
  {
   "cell_type": "raw",
   "metadata": {},
   "source": [
    "┌──┬────┬────┬────┬────┐\n",
    "│  │RA  │Ra  │rA  │ra  │\n",
    "├──┼────┼────┼────┼────┤\n",
    "│RA│RRAA│RRAa│RrAA│RrAa│ 0\n",
    "├──┼────┼────┼────┼────┤\n",
    "│Ra│RRAa│RRaa│RrAa│Rraa│ 0\n",
    "├──┼────┼────┼────┼────┤\n",
    "│rA│RrAA│RrAa│rrAA│rrAa│ 0\n",
    "├──┼────┼────┼────┼────┤\n",
    "│ra│RrAa│Rraa│rrAa│rraa│ 1\n",
    "└──┴────┴────┴────┴────┘"
   ]
  },
  {
   "cell_type": "markdown",
   "metadata": {},
   "source": [
    "Your task if to find the probability of an offspring expressing certain alleles depending upon the genetic makeup of both parents rounded to 18 decimal points. The input will consist of the the Father's alleles, the Mothers alleles and the string of expressed alleles of the offspring.\n",
    "\n",
    "For example if the Father's alleles are Bb and the Mother's alleles are Bb and the offspring's potential allele expression is b, the probability is 0.25 or 1/4 as 1 out of the 4 squares above express the allele b.\n",
    "\n",
    "Furthermore if the Father's alleles are RrAa and the Mother's alleles are RrAa and the offspring potential allele expression is RA, the probability is 0.5625 or 9/16 as 9 out of the 16 squares above express the alleles RA.\n",
    "\n",
    "Note that the input string of the mother and the father will always have the same length and that the offspring input string will always be half that. The maximum amount of pairs of alleles in this Kata is 5."
   ]
  },
  {
   "cell_type": "code",
   "execution_count": 1,
   "metadata": {},
   "outputs": [],
   "source": [
    "from itertools import product\n",
    "\n",
    "def NHI(mother, father, offspring):\n",
    "    pairs_m = chain_comb(mother)\n",
    "    pairs_f = chain_comb(father)\n",
    "\n",
    "    pairs_m_f = list(product(pairs_f, pairs_m))\n",
    "\n",
    "    table = table_generator(pairs_m_f)\n",
    "\n",
    "    off_list = list(offspring)\n",
    "\n",
    "    counter = 0\n",
    "\n",
    "    for comb in table:\n",
    "        if comb == off_list:\n",
    "            counter += 1\n",
    "\n",
    "    result = counter / len(table)\n",
    "\n",
    "    return result\n",
    "\n",
    "\n",
    "\n",
    "def chain_comb(chain):\n",
    "    pairs = [chain[i:i+2] for i in range(0, len(chain), 2)]\n",
    "    result = list(product(*pairs))\n",
    "    return result\n",
    "\n",
    "\n",
    "\n",
    "def table_generator(combs):\n",
    "    table = []\n",
    "    for pair in combs:\n",
    "        combination = []\n",
    "        for i in range(len(combs[0][0])):\n",
    "            if pair[0][i].isupper() or pair[1][i].isupper():\n",
    "                combination.append(pair[0][i].upper())\n",
    "            else:\n",
    "                combination.append(pair[0][i])\n",
    "        table.append(combination)\n",
    "    return table"
   ]
  },
  {
   "cell_type": "code",
   "execution_count": 2,
   "metadata": {},
   "outputs": [
    {
     "name": "stdout",
     "output_type": "stream",
     "text": [
      "0\n",
      "0.0\n",
      "True\n"
     ]
    }
   ],
   "source": [
    "output = NHI('BB','BB','b')\n",
    "answer = 0\n",
    "print(answer)\n",
    "print(output)\n",
    "print(answer == output)"
   ]
  },
  {
   "cell_type": "code",
   "execution_count": 3,
   "metadata": {},
   "outputs": [
    {
     "name": "stdout",
     "output_type": "stream",
     "text": [
      "1\n",
      "1.0\n",
      "True\n"
     ]
    }
   ],
   "source": [
    "output = NHI('BB','BB','B')\n",
    "answer = 1\n",
    "print(answer)\n",
    "print(output)\n",
    "print(answer == output)"
   ]
  },
  {
   "cell_type": "code",
   "execution_count": 4,
   "metadata": {},
   "outputs": [
    {
     "name": "stdout",
     "output_type": "stream",
     "text": [
      "1\n",
      "1.0\n",
      "True\n"
     ]
    }
   ],
   "source": [
    "output = NHI('bb','bb','b')\n",
    "answer = 1\n",
    "print(answer)\n",
    "print(output)\n",
    "print(answer == output)"
   ]
  },
  {
   "cell_type": "code",
   "execution_count": 5,
   "metadata": {},
   "outputs": [
    {
     "name": "stdout",
     "output_type": "stream",
     "text": [
      "0\n",
      "0.0\n",
      "True\n"
     ]
    }
   ],
   "source": [
    "output = NHI('bb','bb','B')\n",
    "answer = 0\n",
    "print(answer)\n",
    "print(output)\n",
    "print(answer == output)"
   ]
  },
  {
   "cell_type": "code",
   "execution_count": 6,
   "metadata": {},
   "outputs": [
    {
     "name": "stdout",
     "output_type": "stream",
     "text": [
      "0.75\n",
      "0.75\n",
      "True\n"
     ]
    }
   ],
   "source": [
    "output = NHI('Bb','Bb','B')\n",
    "answer = 0.75\n",
    "print(answer)\n",
    "print(output)\n",
    "print(answer == output)"
   ]
  },
  {
   "cell_type": "code",
   "execution_count": 7,
   "metadata": {},
   "outputs": [
    {
     "name": "stdout",
     "output_type": "stream",
     "text": [
      "0.25\n",
      "0.25\n",
      "True\n"
     ]
    }
   ],
   "source": [
    "output = NHI('Bb','Bb','b')\n",
    "answer = 0.25\n",
    "print(answer)\n",
    "print(output)\n",
    "print(answer == output)"
   ]
  },
  {
   "cell_type": "code",
   "execution_count": 8,
   "metadata": {},
   "outputs": [
    {
     "name": "stdout",
     "output_type": "stream",
     "text": [
      "0.75\n",
      "0.75\n",
      "True\n"
     ]
    }
   ],
   "source": [
    "output = NHI('bB','bB','B')\n",
    "answer = 0.75\n",
    "print(answer)\n",
    "print(output)\n",
    "print(answer == output)"
   ]
  },
  {
   "cell_type": "code",
   "execution_count": 9,
   "metadata": {},
   "outputs": [
    {
     "name": "stdout",
     "output_type": "stream",
     "text": [
      "0.25\n",
      "0.25\n",
      "True\n"
     ]
    }
   ],
   "source": [
    "output = NHI('bB','bB','b')\n",
    "answer = 0.25\n",
    "print(answer)\n",
    "print(output)\n",
    "print(answer == output)"
   ]
  },
  {
   "cell_type": "code",
   "execution_count": 10,
   "metadata": {},
   "outputs": [
    {
     "name": "stdout",
     "output_type": "stream",
     "text": [
      "0.5\n",
      "0.5\n",
      "True\n"
     ]
    }
   ],
   "source": [
    "output = NHI('Bb','bb','B')\n",
    "answer = 0.5\n",
    "print(answer)\n",
    "print(output)\n",
    "print(answer == output)"
   ]
  },
  {
   "cell_type": "code",
   "execution_count": 11,
   "metadata": {},
   "outputs": [
    {
     "name": "stdout",
     "output_type": "stream",
     "text": [
      "0.5\n",
      "0.5\n",
      "True\n"
     ]
    }
   ],
   "source": [
    "output = NHI('bB','bb','b')\n",
    "answer = 0.5\n",
    "print(answer)\n",
    "print(output)\n",
    "print(answer == output)"
   ]
  },
  {
   "cell_type": "code",
   "execution_count": 12,
   "metadata": {},
   "outputs": [
    {
     "name": "stdout",
     "output_type": "stream",
     "text": [
      "0.0625\n",
      "0.0625\n",
      "True\n"
     ]
    }
   ],
   "source": [
    "output = NHI('RrAa','RrAa','ra')\n",
    "answer = 1/16\n",
    "print(answer)\n",
    "print(output)\n",
    "print(answer == output)"
   ]
  },
  {
   "cell_type": "code",
   "execution_count": 13,
   "metadata": {},
   "outputs": [
    {
     "name": "stdout",
     "output_type": "stream",
     "text": [
      "0.5625\n",
      "0.5625\n",
      "True\n"
     ]
    }
   ],
   "source": [
    "output = NHI('RrAa','RrAa','RA')\n",
    "answer = 9/16\n",
    "print(answer)\n",
    "print(output)\n",
    "print(answer == output)"
   ]
  },
  {
   "cell_type": "code",
   "execution_count": 14,
   "metadata": {},
   "outputs": [
    {
     "name": "stdout",
     "output_type": "stream",
     "text": [
      "0.1875\n",
      "0.1875\n",
      "True\n"
     ]
    }
   ],
   "source": [
    "output = NHI('RrAa','RrAa','rA')\n",
    "answer = 3/16\n",
    "print(answer)\n",
    "print(output)\n",
    "print(answer == output)"
   ]
  },
  {
   "cell_type": "code",
   "execution_count": 15,
   "metadata": {},
   "outputs": [
    {
     "name": "stdout",
     "output_type": "stream",
     "text": [
      "0.1875\n",
      "0.1875\n",
      "True\n"
     ]
    }
   ],
   "source": [
    "output = NHI('RrAa','RrAa','Ra')\n",
    "answer = 3/16\n",
    "print(answer)\n",
    "print(output)\n",
    "print(answer == output)"
   ]
  },
  {
   "cell_type": "markdown",
   "metadata": {},
   "source": [
    "---"
   ]
  },
  {
   "cell_type": "markdown",
   "metadata": {},
   "source": [
    "# Square Every Digit - [LINK](https://www.codewars.com/kata/546e2562b03326a88e000020/train/python)\n",
    "\n",
    "Welcome. In this kata, you are asked to square every digit of a number and concatenate them.\n",
    "\n",
    "For example, if we run 9119 through the function, 811181 will come out, because 92 is 81 and 12 is 1. (81-1-1-81)\n",
    "\n",
    "Example #2: An input of 765 will/should return 493625 because 72 is 49, 62 is 36, and 52 is 25. (49-36-25)\n",
    "\n",
    "Note: The function accepts an integer and returns an integer.\n",
    "\n",
    "Happy Coding!"
   ]
  },
  {
   "cell_type": "code",
   "execution_count": 5,
   "metadata": {},
   "outputs": [],
   "source": [
    "def square_digits(num):\n",
    "    num_list = list(str(num))\n",
    "\n",
    "    square_list = [str(int(x)**2) for x in num_list]\n",
    "\n",
    "    result = int(\"\".join(square_list))\n",
    "\n",
    "    return result"
   ]
  },
  {
   "cell_type": "code",
   "execution_count": 6,
   "metadata": {},
   "outputs": [
    {
     "name": "stdout",
     "output_type": "stream",
     "text": [
      "811181\n",
      "811181\n",
      "True\n"
     ]
    }
   ],
   "source": [
    "input = 9119\n",
    "output = square_digits(input)\n",
    "answer = 811181\n",
    "print(answer)\n",
    "print(output)\n",
    "print(answer == output)"
   ]
  },
  {
   "cell_type": "code",
   "execution_count": 7,
   "metadata": {},
   "outputs": [
    {
     "name": "stdout",
     "output_type": "stream",
     "text": [
      "0\n",
      "0\n",
      "True\n"
     ]
    }
   ],
   "source": [
    "input = 0\n",
    "output = square_digits(input)\n",
    "answer = 0\n",
    "print(answer)\n",
    "print(output)\n",
    "print(answer == output)"
   ]
  },
  {
   "cell_type": "code",
   "execution_count": 8,
   "metadata": {},
   "outputs": [
    {
     "name": "stdout",
     "output_type": "stream",
     "text": [
      "493625\n",
      "493625\n",
      "True\n"
     ]
    }
   ],
   "source": [
    "input = 765\n",
    "output = square_digits(input)\n",
    "answer = 493625\n",
    "print(answer)\n",
    "print(output)\n",
    "print(answer == output)"
   ]
  },
  {
   "cell_type": "markdown",
   "metadata": {},
   "source": [
    "---"
   ]
  },
  {
   "cell_type": "markdown",
   "metadata": {},
   "source": [
    "# Sort the odd - [LINK](https://www.codewars.com/kata/578aa45ee9fd15ff4600090d)\n",
    "\n",
    "You will be given an array of numbers. You have to sort the odd numbers in ascending order while leaving the even numbers at their original positions.\n",
    "\n",
    "#### Examples\n",
    "\n",
    "`[7, 1]  =>  [1, 7]`\n",
    "\n",
    "`[5, 8, 6, 3, 4]  =>  [3, 8, 6, 5, 4]`\n",
    "\n",
    "`[9, 8, 7, 6, 5, 4, 3, 2, 1, 0]  =>  [1, 8, 3, 6, 5, 4, 7, 2, 9, 0]`"
   ]
  },
  {
   "cell_type": "code",
   "execution_count": 16,
   "metadata": {},
   "outputs": [],
   "source": [
    "def sort_array(source_array):\n",
    "    if len(source_array) < 2:\n",
    "        return source_array\n",
    "\n",
    "    odd_num = []\n",
    "    odd_index = []\n",
    "    for i, n in enumerate(source_array):\n",
    "        if n % 2 != 0:\n",
    "            odd_num.append(n)\n",
    "            odd_index.append(i)\n",
    "\n",
    "    odd_num.sort()\n",
    "\n",
    "    for j in range(len(odd_num)):\n",
    "        source_array[odd_index[j]] = odd_num[j]\n",
    "\n",
    "    return source_array"
   ]
  },
  {
   "cell_type": "code",
   "execution_count": 17,
   "metadata": {},
   "outputs": [
    {
     "name": "stdout",
     "output_type": "stream",
     "text": [
      "[1, 3, 2, 8, 5, 4]\n",
      "[1, 3, 2, 8, 5, 4]\n",
      "True\n"
     ]
    }
   ],
   "source": [
    "# 1\n",
    "input = [5, 3, 2, 8, 1, 4]\n",
    "output = sort_array(input)\n",
    "answer = [1, 3, 2, 8, 5, 4]\n",
    "print(answer)\n",
    "print(output)\n",
    "print(answer == output)"
   ]
  },
  {
   "cell_type": "code",
   "execution_count": 18,
   "metadata": {},
   "outputs": [
    {
     "name": "stdout",
     "output_type": "stream",
     "text": [
      "[1, 3, 5, 8, 0]\n",
      "[1, 3, 5, 8, 0]\n",
      "True\n"
     ]
    }
   ],
   "source": [
    "# 2\n",
    "input = [5, 3, 1, 8, 0]\n",
    "output = sort_array(input)\n",
    "answer = [1, 3, 5, 8, 0]\n",
    "print(answer)\n",
    "print(output)\n",
    "print(answer == output)"
   ]
  },
  {
   "cell_type": "code",
   "execution_count": 19,
   "metadata": {},
   "outputs": [
    {
     "name": "stdout",
     "output_type": "stream",
     "text": [
      "[]\n",
      "[]\n",
      "True\n"
     ]
    }
   ],
   "source": [
    "# 3\n",
    "input = []\n",
    "output = sort_array(input)\n",
    "answer = []\n",
    "print(answer)\n",
    "print(output)\n",
    "print(answer == output)"
   ]
  },
  {
   "cell_type": "code",
   "execution_count": 20,
   "metadata": {},
   "outputs": [
    {
     "name": "stdout",
     "output_type": "stream",
     "text": [
      "[1, 3, 2, 8, 5, 4, 11]\n",
      "[1, 3, 2, 8, 5, 4, 11]\n",
      "True\n"
     ]
    }
   ],
   "source": [
    "# 4\n",
    "input = [5, 3, 2, 8, 1, 4, 11]\n",
    "output = sort_array(input)\n",
    "answer = [1, 3, 2, 8, 5, 4, 11]\n",
    "print(answer)\n",
    "print(output)\n",
    "print(answer == output)"
   ]
  },
  {
   "cell_type": "code",
   "execution_count": 21,
   "metadata": {},
   "outputs": [
    {
     "name": "stdout",
     "output_type": "stream",
     "text": [
      "[2, 22, 1, 5, 4, 11, 37, 0]\n",
      "[2, 22, 1, 5, 4, 11, 37, 0]\n",
      "True\n"
     ]
    }
   ],
   "source": [
    "# 5\n",
    "input = [2, 22, 37, 11, 4, 1, 5, 0]\n",
    "output = sort_array(input)\n",
    "answer = [2, 22, 1, 5, 4, 11, 37, 0]\n",
    "print(answer)\n",
    "print(output)\n",
    "print(answer == output)"
   ]
  },
  {
   "cell_type": "code",
   "execution_count": 22,
   "metadata": {},
   "outputs": [
    {
     "name": "stdout",
     "output_type": "stream",
     "text": [
      "[1, 1, 5, 11, 2, 11, 111, 0]\n",
      "[1, 1, 5, 11, 2, 11, 111, 0]\n",
      "True\n"
     ]
    }
   ],
   "source": [
    "# 6\n",
    "input = [1, 111, 11, 11, 2, 1, 5, 0]\n",
    "output = sort_array(input)\n",
    "answer = [1, 1, 5, 11, 2, 11, 111, 0]\n",
    "print(answer)\n",
    "print(output)\n",
    "print(answer == output)"
   ]
  },
  {
   "cell_type": "code",
   "execution_count": 23,
   "metadata": {},
   "outputs": [
    {
     "name": "stdout",
     "output_type": "stream",
     "text": [
      "[1, 2, 3, 4, 5, 6, 7, 8, 9, 0]\n",
      "[1, 2, 3, 4, 5, 6, 7, 8, 9, 0]\n",
      "True\n"
     ]
    }
   ],
   "source": [
    "# 7\n",
    "input = [1, 2, 3, 4, 5, 6, 7, 8, 9, 0]\n",
    "output = sort_array(input)\n",
    "answer = [1, 2, 3, 4, 5, 6, 7, 8, 9, 0]\n",
    "print(answer)\n",
    "print(output)\n",
    "print(answer == output)"
   ]
  },
  {
   "cell_type": "code",
   "execution_count": 24,
   "metadata": {},
   "outputs": [
    {
     "name": "stdout",
     "output_type": "stream",
     "text": [
      "[0, 1, 2, 3, 4, 5, 6, 7, 8, 9]\n",
      "[0, 1, 2, 3, 4, 5, 6, 7, 8, 9]\n",
      "True\n"
     ]
    }
   ],
   "source": [
    "# 8\n",
    "input = [0, 1, 2, 3, 4, 5, 6, 7, 8, 9]\n",
    "output = sort_array(input)\n",
    "answer = [0, 1, 2, 3, 4, 5, 6, 7, 8, 9]\n",
    "print(answer)\n",
    "print(output)\n",
    "print(answer == output)"
   ]
  },
  {
   "cell_type": "code",
   "execution_count": 25,
   "metadata": {},
   "outputs": [
    {
     "name": "stdout",
     "output_type": "stream",
     "text": [
      "[0, 1, 2, 3, 4, 5, 8, 7, 6, 9]\n",
      "[0, 1, 2, 3, 4, 5, 8, 7, 6, 9]\n",
      "True\n"
     ]
    }
   ],
   "source": [
    "# 9\n",
    "input = [0, 1, 2, 3, 4, 9, 8, 7, 6, 5]\n",
    "output = sort_array(input)\n",
    "answer = [0, 1, 2, 3, 4, 5, 8, 7, 6, 9]\n",
    "print(answer)\n",
    "print(output)\n",
    "print(answer == output)"
   ]
  },
  {
   "cell_type": "markdown",
   "metadata": {},
   "source": [
    "---"
   ]
  },
  {
   "cell_type": "markdown",
   "metadata": {},
   "source": [
    "# Find the odd int"
   ]
  },
  {
   "cell_type": "code",
   "execution_count": null,
   "metadata": {},
   "outputs": [],
   "source": []
  }
 ],
 "metadata": {
  "kernelspec": {
   "display_name": "venv",
   "language": "python",
   "name": "python3"
  },
  "language_info": {
   "codemirror_mode": {
    "name": "ipython",
    "version": 3
   },
   "file_extension": ".py",
   "mimetype": "text/x-python",
   "name": "python",
   "nbconvert_exporter": "python",
   "pygments_lexer": "ipython3",
   "version": "3.11.3"
  }
 },
 "nbformat": 4,
 "nbformat_minor": 2
}
