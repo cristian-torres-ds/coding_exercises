{
 "cells": [
  {
   "cell_type": "code",
   "execution_count": 1,
   "metadata": {},
   "outputs": [],
   "source": [
    "from icecream import ic\n",
    "import unittest\n",
    "# venv/Scripts/Activate.ps1"
   ]
  },
  {
   "cell_type": "markdown",
   "metadata": {},
   "source": [
    "# So Many Permutations! - [LINK](https://www.codewars.com/kata/5254ca2719453dcc0b00027d)\n",
    "\n",
    "In this kata, your task is to create all permutations of a non-empty input string and remove duplicates, if present.\n",
    "\n",
    "Create as many \"shufflings\" as you can!\n",
    "\n",
    "Examples:\n",
    "\n",
    "With input `'a'`:\n",
    "\n",
    "Your function should return: `['a']`\n",
    "\n",
    "With input `'ab'`:\n",
    "\n",
    "Your function should return `['ab', 'ba']`\n",
    "\n",
    "With input `'abc'`:\n",
    "\n",
    "Your function should return `['abc','acb','bac','bca','cab','cba']`\n",
    "\n",
    "With input `'aabb'`:\n",
    "\n",
    "Your function should return `['aabb', 'abab', 'abba', 'baab', 'baba', 'bbaa']`\n",
    "\n",
    "Note: The order of the permutations doesn't matter."
   ]
  },
  {
   "cell_type": "markdown",
   "metadata": {},
   "source": [
    "![Permutation](src/permutations.png)"
   ]
  },
  {
   "cell_type": "code",
   "execution_count": 2,
   "metadata": {},
   "outputs": [],
   "source": [
    "def permutations(s):\n",
    "    permuts = get_permutations(s)\n",
    "    result = []\n",
    "\n",
    "    for p in permuts:\n",
    "        result.append(\"\".join(p))\n",
    "\n",
    "    result = list(set(result))\n",
    "\n",
    "    return result\n",
    "\n",
    "def get_permutations(input_list):\n",
    "    if len(input_list) == 0:\n",
    "        return [[]]\n",
    "\n",
    "    permutations = []\n",
    "    for i in range(len(input_list)):\n",
    "        current_element = input_list[i]\n",
    "        remaining_elements = input_list[:i] + input_list[i+1:]\n",
    "        remaining_permutations = get_permutations(remaining_elements)\n",
    "\n",
    "        for permutation in remaining_permutations:\n",
    "            permutations.append([current_element] + permutation)\n",
    "\n",
    "    return permutations"
   ]
  },
  {
   "cell_type": "code",
   "execution_count": 3,
   "metadata": {},
   "outputs": [
    {
     "name": "stdout",
     "output_type": "stream",
     "text": [
      "['a']\n",
      "['a']\n",
      "True\n"
     ]
    }
   ],
   "source": [
    "test = sorted(permutations('a'))\n",
    "answer = ['a']\n",
    "print(test)\n",
    "print(answer)\n",
    "print(test == answer)"
   ]
  },
  {
   "cell_type": "code",
   "execution_count": 4,
   "metadata": {},
   "outputs": [
    {
     "name": "stdout",
     "output_type": "stream",
     "text": [
      "['ab', 'ba']\n",
      "['ab', 'ba']\n",
      "True\n"
     ]
    }
   ],
   "source": [
    "test = sorted(permutations('ab'))\n",
    "answer = ['ab', 'ba']\n",
    "print(test)\n",
    "print(answer)\n",
    "print(test == answer)"
   ]
  },
  {
   "cell_type": "code",
   "execution_count": 5,
   "metadata": {},
   "outputs": [
    {
     "name": "stdout",
     "output_type": "stream",
     "text": [
      "['abc', 'acb', 'bac', 'bca', 'cab', 'cba']\n",
      "['abc', 'acb', 'bac', 'bca', 'cab', 'cba']\n",
      "True\n"
     ]
    }
   ],
   "source": [
    "test = sorted(permutations('abc'))\n",
    "answer = ['abc', 'acb', 'bac', 'bca', 'cab', 'cba']\n",
    "print(test)\n",
    "print(answer)\n",
    "print(test == answer)"
   ]
  },
  {
   "cell_type": "code",
   "execution_count": 6,
   "metadata": {},
   "outputs": [
    {
     "name": "stdout",
     "output_type": "stream",
     "text": [
      "['aabb', 'abab', 'abba', 'baab', 'baba', 'bbaa']\n",
      "['aabb', 'abab', 'abba', 'baab', 'baba', 'bbaa']\n",
      "True\n"
     ]
    }
   ],
   "source": [
    "test = sorted(permutations('aabb'))\n",
    "answer = ['aabb', 'abab', 'abba', 'baab', 'baba', 'bbaa']\n",
    "print(test)\n",
    "print(answer)\n",
    "print(test == answer)"
   ]
  },
  {
   "cell_type": "markdown",
   "metadata": {},
   "source": [
    "Otras soluciones:"
   ]
  },
  {
   "cell_type": "code",
   "execution_count": 7,
   "metadata": {},
   "outputs": [],
   "source": [
    "import itertools\n",
    "\n",
    "def permutations(string):\n",
    "    return list(\"\".join(p) for p in set(itertools.permutations(string)))"
   ]
  },
  {
   "cell_type": "code",
   "execution_count": 8,
   "metadata": {},
   "outputs": [],
   "source": [
    "def permutations(string):\n",
    "  if len(string) == 1: return set(string)\n",
    "  first = string[0]\n",
    "  rest = permutations(string[1:])\n",
    "  result = set()\n",
    "  for i in range(0, len(string)):\n",
    "    for p in rest:\n",
    "      result.add(p[0:i] + first + p[i:])\n",
    "  return result"
   ]
  },
  {
   "cell_type": "markdown",
   "metadata": {},
   "source": [
    "---"
   ]
  },
  {
   "cell_type": "markdown",
   "metadata": {},
   "source": [
    "# Unique In Order - [LINK](https://www.codewars.com/kata/54e6533c92449cc251001667)\n",
    "\n",
    "Implement the function unique_in_order which takes as argument a sequence and returns a list of items without any elements with the same value next to each other and preserving the original order of elements.\n",
    "\n",
    "For example:\n",
    "\n",
    "`unique_in_order('AAAABBBCCDAABBB') == ['A', 'B', 'C', 'D', 'A', 'B']`\n",
    "\n",
    "`unique_in_order('ABBCcAD')         == ['A', 'B', 'C', 'c', 'A', 'D']`\n",
    "\n",
    "`unique_in_order([1, 2, 2, 3, 3])   == [1, 2, 3]`\n",
    "\n",
    "`unique_in_order((1, 2, 2, 3, 3))   == [1, 2, 3]`"
   ]
  },
  {
   "cell_type": "code",
   "execution_count": 9,
   "metadata": {},
   "outputs": [],
   "source": [
    "def unique_in_order(sequence):\n",
    "    if not sequence:\n",
    "        return []\n",
    "    seq_list = list(sequence)\n",
    "    ordered_list = [seq_list.pop(0)]\n",
    "\n",
    "    for i in seq_list:\n",
    "        if ordered_list[-1] != i:\n",
    "            ordered_list.append(i)\n",
    "\n",
    "    return ordered_list"
   ]
  },
  {
   "cell_type": "code",
   "execution_count": 10,
   "metadata": {},
   "outputs": [
    {
     "name": "stdout",
     "output_type": "stream",
     "text": [
      "['A', 'B', 'C', 'D', 'A', 'B']\n",
      "['A', 'B', 'C', 'D', 'A', 'B']\n",
      "True\n"
     ]
    }
   ],
   "source": [
    "test = unique_in_order('AAAABBBCCDAABBB')\n",
    "answer = ['A', 'B', 'C', 'D', 'A', 'B']\n",
    "print(test)\n",
    "print(answer)\n",
    "print(test == answer)"
   ]
  },
  {
   "cell_type": "code",
   "execution_count": 11,
   "metadata": {},
   "outputs": [
    {
     "name": "stdout",
     "output_type": "stream",
     "text": [
      "['A', 'B', 'C', 'c', 'A', 'D']\n",
      "['A', 'B', 'C', 'c', 'A', 'D']\n",
      "True\n"
     ]
    }
   ],
   "source": [
    "test = unique_in_order('ABBCcAD')\n",
    "answer = ['A', 'B', 'C', 'c', 'A', 'D']\n",
    "print(test)\n",
    "print(answer)\n",
    "print(test == answer)"
   ]
  },
  {
   "cell_type": "code",
   "execution_count": 12,
   "metadata": {},
   "outputs": [
    {
     "name": "stdout",
     "output_type": "stream",
     "text": [
      "[1, 2, 3]\n",
      "[1, 2, 3]\n",
      "True\n"
     ]
    }
   ],
   "source": [
    "test = unique_in_order([1, 2, 2, 3, 3])\n",
    "answer = [1, 2, 3]\n",
    "print(test)\n",
    "print(answer)\n",
    "print(test == answer)"
   ]
  },
  {
   "cell_type": "code",
   "execution_count": 13,
   "metadata": {},
   "outputs": [
    {
     "name": "stdout",
     "output_type": "stream",
     "text": [
      "[1, 2, 3]\n",
      "[1, 2, 3]\n",
      "True\n"
     ]
    }
   ],
   "source": [
    "test = unique_in_order((1, 2, 2, 3, 3))\n",
    "answer = [1, 2, 3]\n",
    "print(test)\n",
    "print(answer)\n",
    "print(test == answer)"
   ]
  },
  {
   "cell_type": "markdown",
   "metadata": {},
   "source": [
    "---"
   ]
  },
  {
   "cell_type": "markdown",
   "metadata": {},
   "source": [
    "# You're a square! - [LINK](https://www.codewars.com/kata/54c27a33fb7da0db0100040e)\n",
    "\n",
    "### A square of squares\n",
    "\n",
    "You like building blocks. You especially like building blocks that are squares. And what you even like more, is to arrange them into a square of square building blocks!\n",
    "\n",
    "However, sometimes, you can't arrange them into a square. Instead, you end up with an ordinary rectangle! Those blasted things! If you just had a way to know, whether you're currently working in vain… Wait! That's it! You just have to check if your number of building blocks is a perfect square.\n",
    "\n",
    "Task\n",
    "Given an integral number, determine if it's a square number:\n",
    "\n",
    "In mathematics, a square number or perfect square is an integer that is the square of an integer; in other words, it is the product of some integer with itself.\n",
    "\n",
    "The tests will always use some integral number, so don't worry about that in dynamic typed languages.\n",
    "\n",
    "Examples\n",
    "\n",
    "`-1  =>  false`\n",
    "\n",
    "` 0  =>  true`\n",
    "\n",
    "` 3  =>  false`\n",
    "\n",
    "` 4  =>  true`\n",
    "\n",
    "`25  =>  true`\n",
    "\n",
    "`26  =>  false`"
   ]
  },
  {
   "cell_type": "code",
   "execution_count": 14,
   "metadata": {},
   "outputs": [],
   "source": [
    "def is_square(n):\n",
    "    if n < 0:\n",
    "        return False\n",
    "    elif (n ** (1/2)) % 1 == 0:\n",
    "        return True\n",
    "    else:\n",
    "        return False"
   ]
  },
  {
   "cell_type": "code",
   "execution_count": 15,
   "metadata": {},
   "outputs": [
    {
     "name": "stdout",
     "output_type": "stream",
     "text": [
      "False\n",
      "False\n"
     ]
    }
   ],
   "source": [
    "test = is_square(-1)\n",
    "answer = False\n",
    "print(answer)\n",
    "print(test)"
   ]
  },
  {
   "cell_type": "code",
   "execution_count": 16,
   "metadata": {},
   "outputs": [
    {
     "name": "stdout",
     "output_type": "stream",
     "text": [
      "True\n",
      "True\n"
     ]
    }
   ],
   "source": [
    "test = is_square(0)\n",
    "answer = True\n",
    "print(answer)\n",
    "print(test)"
   ]
  },
  {
   "cell_type": "code",
   "execution_count": 17,
   "metadata": {},
   "outputs": [
    {
     "name": "stdout",
     "output_type": "stream",
     "text": [
      "False\n",
      "False\n"
     ]
    }
   ],
   "source": [
    "test = is_square(3)\n",
    "answer = False\n",
    "print(answer)\n",
    "print(test)"
   ]
  },
  {
   "cell_type": "code",
   "execution_count": 18,
   "metadata": {},
   "outputs": [
    {
     "name": "stdout",
     "output_type": "stream",
     "text": [
      "True\n",
      "True\n"
     ]
    }
   ],
   "source": [
    "test = is_square(4)\n",
    "answer = True\n",
    "print(answer)\n",
    "print(test)"
   ]
  },
  {
   "cell_type": "code",
   "execution_count": 19,
   "metadata": {},
   "outputs": [
    {
     "name": "stdout",
     "output_type": "stream",
     "text": [
      "True\n",
      "True\n"
     ]
    }
   ],
   "source": [
    "test = is_square(25)\n",
    "answer = True\n",
    "print(answer)\n",
    "print(test)"
   ]
  },
  {
   "cell_type": "code",
   "execution_count": 20,
   "metadata": {},
   "outputs": [
    {
     "name": "stdout",
     "output_type": "stream",
     "text": [
      "False\n",
      "False\n"
     ]
    }
   ],
   "source": [
    "test = is_square(26)\n",
    "answer = False\n",
    "print(answer)\n",
    "print(test)"
   ]
  },
  {
   "cell_type": "code",
   "execution_count": 21,
   "metadata": {},
   "outputs": [
    {
     "name": "stderr",
     "output_type": "stream",
     "text": [
      "test_is_square (__main__.TestIsSquare.test_is_square) ... ok\n",
      "\n",
      "----------------------------------------------------------------------\n",
      "Ran 1 test in 0.001s\n",
      "\n",
      "OK\n"
     ]
    },
    {
     "data": {
      "text/plain": [
       "<unittest.main.TestProgram at 0x23098184150>"
      ]
     },
     "execution_count": 21,
     "metadata": {},
     "output_type": "execute_result"
    }
   ],
   "source": [
    "class TestIsSquare(unittest.TestCase):\n",
    "    def test_is_square(self):\n",
    "        self.assertEqual(is_square(-1), False)\n",
    "        self.assertEqual(is_square(0), True)\n",
    "        self.assertEqual(is_square(3), False)\n",
    "        self.assertEqual(is_square(4), True)\n",
    "        self.assertEqual(is_square(25), True)\n",
    "        self.assertEqual(is_square(26), False)\n",
    "\n",
    "unittest.main(argv=[''], defaultTest='TestIsSquare', verbosity=2, exit=False)"
   ]
  }
 ],
 "metadata": {
  "kernelspec": {
   "display_name": "venv",
   "language": "python",
   "name": "python3"
  },
  "language_info": {
   "codemirror_mode": {
    "name": "ipython",
    "version": 3
   },
   "file_extension": ".py",
   "mimetype": "text/x-python",
   "name": "python",
   "nbconvert_exporter": "python",
   "pygments_lexer": "ipython3",
   "version": "3.11.3"
  }
 },
 "nbformat": 4,
 "nbformat_minor": 2
}
