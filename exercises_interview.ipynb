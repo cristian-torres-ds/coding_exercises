{
 "cells": [
  {
   "cell_type": "markdown",
   "metadata": {},
   "source": [
    "# Interview Exercises"
   ]
  },
  {
   "cell_type": "markdown",
   "metadata": {},
   "source": [
    "### Numeros Amigos\n",
    "\n",
    "Se dice que dos números son amigos si la suma de los divisores de uno es igual al otro. Se desea que implemente una función que reciba dos números enteros, positivos, y decida si los mismos son números amigos o no.\n",
    "\n",
    "Especificación de la Entrada<br>\n",
    "La primera y única linea de la entrada contendrá dos enteros `a` y `b`\n",
    "\n",
    "Especificación de la Salida<br>\n",
    "Debe retornar True si los números son amigos o False de no serlo.\n",
    "\n",
    "Ejemplo #1<br>\n",
    "`numeros_amigos(220, 284)`<br>\n",
    "`True`\n",
    "\n",
    "220 y 284 son amigos, dado que:<br>\n",
    "`suma_divisores(220) = 1 + 2 + 4 + 5 + 10 + 11 + 20 + 22 + 44 + 55 + 110 = 284`<br>\n",
    "`suma_divisores(284) = 1 + 2 + 4 + 71 + 142 = 220`\n",
    "\n",
    "Ejemplo #2<br>\n",
    "`numeros_amigos(123, 234)`<br>\n",
    "`False`"
   ]
  },
  {
   "cell_type": "code",
   "execution_count": 19,
   "metadata": {},
   "outputs": [],
   "source": [
    "def numeros_amigos(a, b):\n",
    "    if suma_divisores(a) == b and suma_divisores(b) == a:\n",
    "        return True\n",
    "    else:\n",
    "        return False\n",
    "\n",
    "def suma_divisores(num):\n",
    "    suma = 0\n",
    "    for n in range(1, num//2+1):\n",
    "        if num % n == 0:\n",
    "            suma += n\n",
    "    return suma"
   ]
  },
  {
   "cell_type": "code",
   "execution_count": 16,
   "metadata": {},
   "outputs": [],
   "source": [
    "def numeros_amigos(a,b):\n",
    "    suma_a = suma_divisores(a)\n",
    "    suma_b = suma_divisores(b)\n",
    "\n",
    "    if suma_a == b and suma_b == a:\n",
    "        return True\n",
    "    else:\n",
    "        return False\n",
    "\n",
    "def suma_divisores(num):\n",
    "    rango = int(num / 2) + 1\n",
    "    total = 1\n",
    "\n",
    "    for n in range(2, rango):\n",
    "        if num % n == 0:\n",
    "            total += n\n",
    "    return total\n",
    "\n"
   ]
  },
  {
   "cell_type": "code",
   "execution_count": 20,
   "metadata": {},
   "outputs": [
    {
     "data": {
      "text/plain": [
       "True"
      ]
     },
     "execution_count": 20,
     "metadata": {},
     "output_type": "execute_result"
    }
   ],
   "source": [
    "numeros_amigos(220, 284)"
   ]
  },
  {
   "cell_type": "code",
   "execution_count": 21,
   "metadata": {},
   "outputs": [
    {
     "data": {
      "text/plain": [
       "False"
      ]
     },
     "execution_count": 21,
     "metadata": {},
     "output_type": "execute_result"
    }
   ],
   "source": [
    "numeros_amigos(123, 234)"
   ]
  },
  {
   "cell_type": "markdown",
   "metadata": {},
   "source": [
    "---"
   ]
  },
  {
   "cell_type": "markdown",
   "metadata": {},
   "source": [
    "### Súper Caché\n",
    "\n",
    "Unos desarrolladores han creado una forma de acceder rápidamente a elementos recurrentes de una base de datos. Para ello, disponen de una caché que puede almacenar hasta `t` registros y cuya consulta, de ser necesaria, es inmediata (el tiempo de consulta es insignificante). Sin embargo, la base de datos tiene un total de `m` registros diferentes, que puede ser mucho mayor que `t`.\n",
    "\n",
    "Por norma de la empresa, cada vez que se consulte un registro que no esté en la caché, el mismo debe almacenarse en la misma, reemplazando potencialmente al registro que tenga más tiempo almacenado.\n",
    "\n",
    "Se desea que implemente un programa que dado `t>0` y una lista con consultas a la base de datos (hechas una cada segundo), calcule la mayor cantidad de tiempo en que no se realiza cambio alguno a la caché. Puede suponer que las consultas vienen identificadas con un número entero que les es único.\n",
    "\n",
    "Especificación de la Entrada<br>\n",
    "La primera línea de la entrada contendrá un entero `t` que representa la cantidad de registros que la caché puede almacenar.\n",
    "La segunda línea contendrá una lista de enteros que representan el identificador único de cada consulta.\n",
    "\n",
    "Especificación de la Salida<br>\n",
    "Debe imprimir una única línea con la mayor cantidad de tiempo en que no se realiza cambio alguno a la caché.\n",
    "\n",
    "Ejemplo #1<br>\n",
    "`super_cache(3, [1, 2, 3, 2, 4, 2, 3, 3, 4, 2, 1, 2, 5])`\n",
    "\n",
    "El mayor tiempo sin que la caché sufra cambios es de `5` segundos (desde justo después de consultar el primer 4, hasta justo antes de consultar el segundo 1)."
   ]
  },
  {
   "cell_type": "code",
   "execution_count": 22,
   "metadata": {},
   "outputs": [],
   "source": [
    "def super_cache(t, input_arr):\n",
    "    cache = []\n",
    "    tiempo_actual = 0\n",
    "    tiempo_max = 0\n",
    "    \n",
    "    for i in input_arr:\n",
    "        if i not in cache:\n",
    "            cache.append(i)\n",
    "            if len(cache) > t:\n",
    "                cache.pop(0)\n",
    "            tiempo_actual = 0\n",
    "        else:\n",
    "            tiempo_actual += 1\n",
    "            if tiempo_actual > tiempo_max:\n",
    "                tiempo_max = tiempo_actual\n",
    "\n",
    "    return tiempo_max"
   ]
  },
  {
   "cell_type": "code",
   "execution_count": 23,
   "metadata": {},
   "outputs": [
    {
     "data": {
      "text/plain": [
       "5"
      ]
     },
     "execution_count": 23,
     "metadata": {},
     "output_type": "execute_result"
    }
   ],
   "source": [
    "super_cache(3, [1, 2, 3, 2, 4, 2, 3, 3, 4, 2, 1, 2, 5])"
   ]
  },
  {
   "cell_type": "markdown",
   "metadata": {},
   "source": [
    "---"
   ]
  },
  {
   "cell_type": "markdown",
   "metadata": {},
   "source": [
    "### Asignación de Tiempo\n",
    "\n",
    "Se desea contratar personal por un total de `T` horas a la semana (no más, no menos). A su disposición, la empresa cuenta con `n` empleados, cada uno con un tiempo de `Ti` horas a la semana disponibles.<br>\n",
    "Se desea que implemente un programa que dado `T>0` y los `Ti>0` para cada uno de los `n` empleados, decida si existe una asignación de los mismos, tal que el requerimiento del cliente es satisfecho.<br>\n",
    "Suponga además que cada empleado sólo puede dedicar su tiempo íntegro al proyecto (no es posible que un empleado dedique solo parte de su tiempo).\n",
    "\n",
    "Especificación de la Entrada<br>\n",
    "La primera línea de la entrada contendrá un entero `t` que representa el tiempo total de horas a la semana por el cual se desea contratar personal.<br>\n",
    "La segunda línea contendrá una lista de enteros que representan la duración en tiempo de cada servicio.\n",
    "\n",
    "Especificación de la Salida<br>\n",
    "Debe retornar `True` si existe dicha asignación o `False` en caso contrario.\n",
    "\n",
    "Ejemplo #1<br>\n",
    "`asignacion_tiempo(10, [1, 4, 2, 5, 3])`<br>\n",
    "`True`<br>\n",
    "Por ejemplo, podemos asignar los empleados que tienen tiempo 1, 4 y 5.\n",
    "\n",
    "Ejemplo #2\n",
    "Ejemplo #1<br>\n",
    "`asignacion_tiempo(10, [1, 4, 7])`<br>\n",
    "`False`<br>\n",
    "No importa qué grupo de empleados se escoja, no es posible conseguir 10 horas exactas."
   ]
  },
  {
   "cell_type": "code",
   "execution_count": 36,
   "metadata": {},
   "outputs": [],
   "source": [
    "from itertools import combinations\n",
    "\n",
    "# Favorece menos empleados con mas horas.\n",
    "def asig_tiempo(t, input_arr):\n",
    "    for i in range(1, len(input_arr) + 1):\n",
    "        lista = list(combinations(input_arr, i))\n",
    "        for tupla in lista:\n",
    "            if sum(tupla) == t:\n",
    "                return True\n",
    "    return False"
   ]
  },
  {
   "cell_type": "code",
   "execution_count": 32,
   "metadata": {},
   "outputs": [],
   "source": [
    "from itertools import combinations\n",
    "\n",
    "# Favorece mas empleados con menos horas.\n",
    "def asig_tiempo(t, input_arr):\n",
    "    empleados = len(input_arr)\n",
    "\n",
    "    while empleados > 0:\n",
    "        for tup in combinations(input_arr, empleados):\n",
    "            if sum(tup) == t:\n",
    "                return True\n",
    "        empleados -= 1\n",
    "    return False"
   ]
  },
  {
   "cell_type": "code",
   "execution_count": 37,
   "metadata": {},
   "outputs": [
    {
     "name": "stdout",
     "output_type": "stream",
     "text": [
      "True\n",
      "True\n",
      "True\n"
     ]
    }
   ],
   "source": [
    "test = asig_tiempo(20, [5, 10, 8, 7])\n",
    "answer = True\n",
    "print(test)\n",
    "print(answer)\n",
    "print(test == answer)"
   ]
  },
  {
   "cell_type": "code",
   "execution_count": 38,
   "metadata": {},
   "outputs": [
    {
     "name": "stdout",
     "output_type": "stream",
     "text": [
      "False\n",
      "False\n",
      "True\n"
     ]
    }
   ],
   "source": [
    "test = asig_tiempo(10, [1, 4, 7])\n",
    "answer = False\n",
    "print(test)\n",
    "print(answer)\n",
    "print(test == answer)"
   ]
  },
  {
   "cell_type": "code",
   "execution_count": 39,
   "metadata": {},
   "outputs": [
    {
     "name": "stdout",
     "output_type": "stream",
     "text": [
      "True\n",
      "True\n",
      "True\n"
     ]
    }
   ],
   "source": [
    "test = asig_tiempo(10, [1, 4, 2, 5, 3])\n",
    "answer = True\n",
    "print(test)\n",
    "print(answer)\n",
    "print(test == answer)"
   ]
  }
 ],
 "metadata": {
  "kernelspec": {
   "display_name": "venv",
   "language": "python",
   "name": "python3"
  },
  "language_info": {
   "codemirror_mode": {
    "name": "ipython",
    "version": 3
   },
   "file_extension": ".py",
   "mimetype": "text/x-python",
   "name": "python",
   "nbconvert_exporter": "python",
   "pygments_lexer": "ipython3",
   "version": "3.11.3"
  }
 },
 "nbformat": 4,
 "nbformat_minor": 2
}
